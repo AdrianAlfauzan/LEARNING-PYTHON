{
 "cells": [
  {
   "cell_type": "code",
   "execution_count": 1,
   "metadata": {},
   "outputs": [],
   "source": [
    "import pandas as pd\n",
    "from sklearn.feature_extraction.text import TfidfVectorizer, CountVectorizer\n",
    "from sklearn.model_selection import train_test_split\n",
    "from sklearn.metrics import classification_report, accuracy_score\n",
    "import numpy as np\n",
    "from sklearn import preprocessing\n",
    "from sklearn.model_selection import learning_curve\n",
    "from sklearn.model_selection import ShuffleSplit\n",
    "import matplotlib.pyplot as plt\n",
    "from sklearn.metrics import confusion_matrix\n",
    "import itertools\n",
    "import seaborn as sns\n",
    "from nltk.corpus import stopwords\n",
    "from xgboost import XGBClassifier\n",
    "import string\n",
    "from psycopg2 import connect\n",
    "import re"
   ]
  },
  {
   "cell_type": "code",
   "execution_count": 2,
   "metadata": {},
   "outputs": [],
   "source": [
    "df = pd.read_csv('sentence_training_set_1.csv', encoding=\"latin-1\")"
   ]
  },
  {
   "cell_type": "code",
   "execution_count": 3,
   "metadata": {},
   "outputs": [
    {
     "data": {
      "text/html": [
       "<div>\n",
       "<style scoped>\n",
       "    .dataframe tbody tr th:only-of-type {\n",
       "        vertical-align: middle;\n",
       "    }\n",
       "\n",
       "    .dataframe tbody tr th {\n",
       "        vertical-align: top;\n",
       "    }\n",
       "\n",
       "    .dataframe thead th {\n",
       "        text-align: right;\n",
       "    }\n",
       "</style>\n",
       "<table border=\"1\" class=\"dataframe\">\n",
       "  <thead>\n",
       "    <tr style=\"text-align: right;\">\n",
       "      <th></th>\n",
       "      <th>sentence</th>\n",
       "      <th>label</th>\n",
       "    </tr>\n",
       "  </thead>\n",
       "  <tbody>\n",
       "    <tr>\n",
       "      <th>0</th>\n",
       "      <td>LocationSituated right in the city centre of B...</td>\n",
       "      <td>0.0</td>\n",
       "    </tr>\n",
       "    <tr>\n",
       "      <th>1</th>\n",
       "      <td>Located in the charming area of Albuquerque, t...</td>\n",
       "      <td>0.0</td>\n",
       "    </tr>\n",
       "    <tr>\n",
       "      <th>2</th>\n",
       "      <td>Hotel The Ein Kerem is an elegant boutique ho...</td>\n",
       "      <td>1.0</td>\n",
       "    </tr>\n",
       "    <tr>\n",
       "      <th>3</th>\n",
       "      <td>This hotel is located on Via del Tritone in th...</td>\n",
       "      <td>0.0</td>\n",
       "    </tr>\n",
       "    <tr>\n",
       "      <th>4</th>\n",
       "      <td>Surrounded by wonderful Cretan countryside, t...</td>\n",
       "      <td>0.0</td>\n",
       "    </tr>\n",
       "  </tbody>\n",
       "</table>\n",
       "</div>"
      ],
      "text/plain": [
       "                                            sentence  label\n",
       "0  LocationSituated right in the city centre of B...    0.0\n",
       "1  Located in the charming area of Albuquerque, t...    0.0\n",
       "2   Hotel The Ein Kerem is an elegant boutique ho...    1.0\n",
       "3  This hotel is located on Via del Tritone in th...    0.0\n",
       "4   Surrounded by wonderful Cretan countryside, t...    0.0"
      ]
     },
     "execution_count": 3,
     "metadata": {},
     "output_type": "execute_result"
    }
   ],
   "source": [
    "df.head()"
   ]
  },
  {
   "cell_type": "code",
   "execution_count": 4,
   "metadata": {},
   "outputs": [
    {
     "data": {
      "text/plain": [
       "1.0     2777\n",
       "0.0     2454\n",
       "11.0       1\n",
       "Name: label, dtype: int64"
      ]
     },
     "execution_count": 4,
     "metadata": {},
     "output_type": "execute_result"
    }
   ],
   "source": [
    "df.label.value_counts()"
   ]
  },
  {
   "cell_type": "code",
   "execution_count": 5,
   "metadata": {},
   "outputs": [
    {
     "data": {
      "text/plain": [
       "sentence    0\n",
       "label       2\n",
       "dtype: int64"
      ]
     },
     "execution_count": 5,
     "metadata": {},
     "output_type": "execute_result"
    }
   ],
   "source": [
    "df.isnull().sum()"
   ]
  },
  {
   "cell_type": "code",
   "execution_count": 6,
   "metadata": {},
   "outputs": [],
   "source": [
    "df.dropna(subset=['label'], inplace=True)\n",
    "df = df[df.label != 11]\n",
    "df = df.sample(frac=1).reset_index(drop=True)"
   ]
  },
  {
   "cell_type": "code",
   "execution_count": 7,
   "metadata": {},
   "outputs": [],
   "source": [
    "def print_plot(index):\n",
    "    example = df[df.index == index][['sentence', 'label']].values[0]\n",
    "    if len(example) > 0:\n",
    "        print(example[0])\n",
    "        print('label:', example[1])"
   ]
  },
  {
   "cell_type": "code",
   "execution_count": 8,
   "metadata": {},
   "outputs": [
    {
     "name": "stdout",
     "output_type": "stream",
     "text": [
      " Take NY-27 West/Sunrise Highway to the belt Parkway West ramp on the left to Verrazano Bridge\n",
      "label: 1.0\n"
     ]
    }
   ],
   "source": [
    "print_plot(10)"
   ]
  },
  {
   "cell_type": "code",
   "execution_count": 9,
   "metadata": {},
   "outputs": [
    {
     "name": "stdout",
     "output_type": "stream",
     "text": [
      " All rooms are in good condition, and are traditionally furnished with burgundy features\n",
      "label: 1.0\n"
     ]
    }
   ],
   "source": [
    "print_plot(100)"
   ]
  },
  {
   "cell_type": "code",
   "execution_count": 10,
   "metadata": {},
   "outputs": [],
   "source": [
    "df['length'] = df['sentence'].apply(len)"
   ]
  },
  {
   "cell_type": "markdown",
   "metadata": {},
   "source": [
    "Compare sentence length of the different labels."
   ]
  },
  {
   "cell_type": "code",
   "execution_count": 11,
   "metadata": {},
   "outputs": [
    {
     "data": {
      "image/png": "[encoded data removed]",
      "text/plain": [
       "<Figure size 432x216 with 2 Axes>"
      ]
     },
     "metadata": {
      "needs_background": "light"
     },
     "output_type": "display_data"
    }
   ],
   "source": [
    "graph = sns.FacetGrid(data=df,col='label')\n",
    "graph.map(plt.hist,'length',bins=50,color='blue');"
   ]
  },
  {
   "cell_type": "code",
   "execution_count": 12,
   "metadata": {},
   "outputs": [
    {
     "name": "stdout",
     "output_type": "stream",
     "text": [
      "0    The air-conditioned apartments at Mc Queen hot...\n",
      "1     From our restaurant, where we serve our gener...\n",
      "2     Our hotel in Flagstaff, AZ, brings you true r...\n",
      "3    All of the rooms are suites are well-equipped ...\n",
      "4     Guests will find themselves in close proximit...\n",
      "Name: sentence, dtype: object\n",
      "0    1.0\n",
      "1    1.0\n",
      "2    1.0\n",
      "3    1.0\n",
      "4    0.0\n",
      "Name: label, dtype: float64\n"
     ]
    }
   ],
   "source": [
    "X = df['sentence']\n",
    "y = df['label']\n",
    "print(X.head())\n",
    "print(y.head())"
   ]
  },
  {
   "cell_type": "code",
   "execution_count": 13,
   "metadata": {},
   "outputs": [],
   "source": [
    "# Clean sentence\n",
    "def text_process(text):\n",
    "    nopunc = [char for char in text if char not in string.punctuation]\n",
    "    nopunc = ''.join(nopunc)\n",
    "    return [word for word in nopunc.split() if word.lower() not in stopwords.words('english')]"
   ]
  },
  {
   "cell_type": "code",
   "execution_count": 14,
   "metadata": {},
   "outputs": [
    {
     "name": "stdout",
     "output_type": "stream",
     "text": [
      "10819\n",
      "The air-conditioned apartments at Mc Queen hotel are minimally decorated\n",
      "  (0, 3531)\t1\n",
      "  (0, 4381)\t1\n",
      "  (0, 5855)\t1\n",
      "  (0, 5960)\t1\n",
      "  (0, 6980)\t1\n",
      "  (0, 7959)\t1\n",
      "  (0, 8602)\t1\n"
     ]
    }
   ],
   "source": [
    "count_vect = CountVectorizer(analyzer=text_process, token_pattern=r'\\w{1,}', ngram_range=(1, 3)).fit(X)\n",
    "print(len(count_vect.vocabulary_))\n",
    "r0 = X[0]\n",
    "print(r0)\n",
    "vocab0 = count_vect.transform([r0])\n",
    "print(vocab0)"
   ]
  },
  {
   "cell_type": "code",
   "execution_count": 15,
   "metadata": {},
   "outputs": [
    {
     "name": "stdout",
     "output_type": "stream",
     "text": [
      "antiques\n",
      "tax\n"
     ]
    }
   ],
   "source": [
    "print(count_vect.get_feature_names()[5950])\n",
    "print(count_vect.get_feature_names()[10216])"
   ]
  },
  {
   "cell_type": "code",
   "execution_count": 16,
   "metadata": {},
   "outputs": [
    {
     "data": {
      "text/plain": [
       "CountVectorizer(analyzer=<function text_process at 0x7fe2d0503510>,\n",
       "        binary=False, decode_error='strict', dtype=<class 'numpy.int64'>,\n",
       "        encoding='utf-8', input='content', lowercase=True, max_df=1.0,\n",
       "        max_features=None, min_df=1, ngram_range=(1, 3), preprocessor=None,\n",
       "        stop_words=None, strip_accents=None, token_pattern='\\\\w{1,}',\n",
       "        tokenizer=None, vocabulary=None)"
      ]
     },
     "execution_count": 16,
     "metadata": {},
     "output_type": "execute_result"
    }
   ],
   "source": [
    "count_vect"
   ]
  },
  {
   "cell_type": "code",
   "execution_count": 17,
   "metadata": {},
   "outputs": [
    {
     "name": "stdout",
     "output_type": "stream",
     "text": [
      "Shape of the sparse matrix:  (5231, 10819)\n",
      "Non-Zero occurences:  61369\n",
      "Density of the matrix =  0.10843692803867197\n"
     ]
    }
   ],
   "source": [
    "X = count_vect.transform(X)\n",
    "#Shape of the matrix:\n",
    "print(\"Shape of the sparse matrix: \", X.shape)\n",
    "#Non-zero occurences:\n",
    "print(\"Non-Zero occurences: \",X.nnz)\n",
    "\n",
    "# DENSITY OF THE MATRIX\n",
    "density = (X.nnz/(X.shape[0]*X.shape[1]))*100\n",
    "print(\"Density of the matrix = \",density)"
   ]
  },
  {
   "cell_type": "code",
   "execution_count": 18,
   "metadata": {},
   "outputs": [],
   "source": [
    "X_train,X_test,y_train,y_test = train_test_split(X,y,test_size=0.2,random_state=42)"
   ]
  },
  {
   "cell_type": "code",
   "execution_count": 19,
   "metadata": {},
   "outputs": [
    {
     "name": "stdout",
     "output_type": "stream",
     "text": [
      "---Training Set Results---\n",
      "Confusion Matrix for XGBoost Classifier:\n",
      "[[1461  515]\n",
      " [ 107 2101]]\n",
      "Score:  85.134\n",
      "Classification Report:\n",
      "              precision    recall  f1-score   support\n",
      "\n",
      "         0.0       0.93      0.74      0.82      1976\n",
      "         1.0       0.80      0.95      0.87      2208\n",
      "\n",
      "   micro avg       0.85      0.85      0.85      4184\n",
      "   macro avg       0.87      0.85      0.85      4184\n",
      "weighted avg       0.86      0.85      0.85      4184\n",
      "\n"
     ]
    }
   ],
   "source": [
    "xgb = XGBClassifier(n_jobs=-1)\n",
    "xgb.fit(X_train,y_train)\n",
    "y_pred = xgb.predict(X_train)\n",
    "print(\"---Training Set Results---\")\n",
    "print(\"Confusion Matrix for XGBoost Classifier:\")\n",
    "print(confusion_matrix(y_train, y_pred))\n",
    "print(\"Score: \",round(accuracy_score(y_train,y_pred)*100,3))\n",
    "print(\"Classification Report:\")\n",
    "print(classification_report(y_train, y_pred))"
   ]
  },
  {
   "cell_type": "code",
   "execution_count": 20,
   "metadata": {},
   "outputs": [
    {
     "name": "stdout",
     "output_type": "stream",
     "text": [
      "---Test Set Results---\n",
      "Confusion Matrix for XGBoost Classifier:\n",
      "[[334 144]\n",
      " [ 33 536]]\n",
      "Score:  83.095\n",
      "Classification Report:\n",
      "              precision    recall  f1-score   support\n",
      "\n",
      "         0.0       0.91      0.70      0.79       478\n",
      "         1.0       0.79      0.94      0.86       569\n",
      "\n",
      "   micro avg       0.83      0.83      0.83      1047\n",
      "   macro avg       0.85      0.82      0.82      1047\n",
      "weighted avg       0.84      0.83      0.83      1047\n",
      "\n"
     ]
    }
   ],
   "source": [
    "pred = xgb.predict(X_test)\n",
    "print(\"---Test Set Results---\")\n",
    "print(\"Confusion Matrix for XGBoost Classifier:\")\n",
    "print(confusion_matrix(y_test,pred))\n",
    "print(\"Score: \",round(accuracy_score(y_test,pred)*100,3))\n",
    "print(\"Classification Report:\")\n",
    "print(classification_report(y_test,pred))"
   ]
  },
  {
   "cell_type": "code",
   "execution_count": 21,
   "metadata": {},
   "outputs": [],
   "source": [
    "def plot_learning_curve(estimator, title, X, y, ylim=None, cv=None,\n",
    "                        n_jobs=None, train_sizes=np.linspace(.1, 1.0, 5)):\n",
    "    plt.figure()\n",
    "    plt.title(title)\n",
    "    if ylim is not None:\n",
    "        plt.ylim(*ylim)\n",
    "    plt.xlabel(\"Training examples\")\n",
    "    plt.ylabel(\"Score\")\n",
    "    train_sizes, train_scores, test_scores = learning_curve(\n",
    "        estimator, X, y, cv=cv, n_jobs=n_jobs, train_sizes=train_sizes)\n",
    "    train_scores_mean = np.mean(train_scores, axis=1)\n",
    "    train_scores_std = np.std(train_scores, axis=1)\n",
    "    test_scores_mean = np.mean(test_scores, axis=1)\n",
    "    test_scores_std = np.std(test_scores, axis=1)\n",
    "    plt.grid()\n",
    "\n",
    "    plt.fill_between(train_sizes, train_scores_mean - train_scores_std,\n",
    "                     train_scores_mean + train_scores_std, alpha=0.1,\n",
    "                     color=\"r\")\n",
    "    plt.fill_between(train_sizes, test_scores_mean - test_scores_std,\n",
    "                     test_scores_mean + test_scores_std, alpha=0.1, color=\"g\")\n",
    "    plt.plot(train_sizes, train_scores_mean, 'o-', color=\"r\",\n",
    "             label=\"Training score\")\n",
    "    plt.plot(train_sizes, test_scores_mean, 'o-', color=\"g\",\n",
    "             label=\"Cross-validation score\")\n",
    "\n",
    "    plt.legend(loc=\"best\")\n",
    "    return plt"
   ]
  },
  {
   "cell_type": "code",
   "execution_count": 22,
   "metadata": {},
   "outputs": [
    {
     "data": {
      "image/png": "[encoded data removed]",
      "text/plain": [
       "<Figure size 432x288 with 1 Axes>"
      ]
     },
     "metadata": {
      "needs_background": "light"
     },
     "output_type": "display_data"
    }
   ],
   "source": [
    "title = \"Learning Curves (XGB)\"\n",
    "cv = ShuffleSplit(n_splits=100, test_size=0.2, random_state=0)\n",
    "estimator = XGBClassifier()\n",
    "plot_learning_curve(estimator, title, X, y, ylim=(0.7, 1.01), cv=cv, n_jobs=4);"
   ]
  },
  {
   "cell_type": "code",
   "execution_count": 26,
   "metadata": {},
   "outputs": [],
   "source": [
    "# lbl_enc = preprocessing.LabelEncoder()\n",
    "# y = lbl_enc.fit_transform(df.label.values)\n",
    "# X_train, X_test, y_train, y_test = train_test_split(df.sentence.values, y, random_state=42, test_size=0.2)\n",
    "# target_names = lbl_enc.classes_"
   ]
  },
  {
   "cell_type": "code",
   "execution_count": 27,
   "metadata": {},
   "outputs": [],
   "source": [
    "# countvec = CountVectorizer(analyzer='word',token_pattern=r'\\w{1,}',\n",
    "#             ngram_range=(1, 3), stop_words = 'english', binary=True)\n",
    "# countvec.fit(list(X_train) + list(X_test))\n",
    "# X_train_countvec =  countvec.transform(X_train) \n",
    "# X_test_countvec = countvec.transform(X_test)"
   ]
  },
  {
   "cell_type": "code",
   "execution_count": 28,
   "metadata": {},
   "outputs": [],
   "source": [
    "# clf = XGBClassifier(n_jobs=-1)\n",
    "# clf.fit(X_train_countvec.tocsc(), y_train)\n",
    "# y_pred = clf.predict(X_test_countvec.tocsc())\n",
    "# print(\"---Test Set Results---\")\n",
    "# print(\"Accuracy with Xgboost: {}\".format(accuracy_score(y_test, y_pred)))\n",
    "# print(classification_report(y_test, y_pred))"
   ]
  },
  {
   "cell_type": "code",
   "execution_count": 29,
   "metadata": {
    "scrolled": false
   },
   "outputs": [],
   "source": [
    "# for x, y, y_hat in zip(X_test, lbl_enc.inverse_transform(y_test), lbl_enc.inverse_transform(y_pred)):\n",
    "#     if y != y_hat:\n",
    "#         print(f'sentence: {x} label: {y} label_pred: {y_hat}')"
   ]
  },
  {
   "cell_type": "markdown",
   "metadata": {},
   "source": [
    "### Fetch hotels in New York"
   ]
  },
  {
   "cell_type": "code",
   "execution_count": 23,
   "metadata": {},
   "outputs": [],
   "source": [
    "conn = connect(\n",
    "    host='XXX',\n",
    "    port='XXX',\n",
    "    dbname='XXX',\n",
    "    user='XXX',\n",
    "    password='XXX')\n",
    "conn.readonly = XXX\n",
    "query = \"\"\"\n",
    "   XXX\n",
    "\"\"\"\n",
    "ny_hotels = pd.read_sql(query, con=conn)\n",
    "conn.close()"
   ]
  },
  {
   "cell_type": "code",
   "execution_count": 24,
   "metadata": {},
   "outputs": [
    {
     "data": {
      "text/html": [
       "<div>\n",
       "<style scoped>\n",
       "    .dataframe tbody tr th:only-of-type {\n",
       "        vertical-align: middle;\n",
       "    }\n",
       "\n",
       "    .dataframe tbody tr th {\n",
       "        vertical-align: top;\n",
       "    }\n",
       "\n",
       "    .dataframe thead th {\n",
       "        text-align: right;\n",
       "    }\n",
       "</style>\n",
       "<table border=\"1\" class=\"dataframe\">\n",
       "  <thead>\n",
       "    <tr style=\"text-align: right;\">\n",
       "      <th></th>\n",
       "      <th>name</th>\n",
       "      <th>description</th>\n",
       "    </tr>\n",
       "  </thead>\n",
       "  <tbody>\n",
       "    <tr>\n",
       "      <th>0</th>\n",
       "      <td>11 Howard</td>\n",
       "      <td>11 Howard is located at the crossroads of the ...</td>\n",
       "    </tr>\n",
       "    <tr>\n",
       "      <th>1</th>\n",
       "      <td>1 Hotel Brooklyn Bridge</td>\n",
       "      <td>Welcome to your Brooklyn Bridge waterfront ret...</td>\n",
       "    </tr>\n",
       "    <tr>\n",
       "      <th>2</th>\n",
       "      <td>1 Hotel Central Park</td>\n",
       "      <td>1 Hotel Central Park is a 5-star property loca...</td>\n",
       "    </tr>\n",
       "    <tr>\n",
       "      <th>3</th>\n",
       "      <td>36 Hudson Hotel</td>\n",
       "      <td>Ticket services and free Wi-Fi head the list o...</td>\n",
       "    </tr>\n",
       "    <tr>\n",
       "      <th>4</th>\n",
       "      <td>6 Columbus Central Park a Sixty Hotel</td>\n",
       "      <td>hotelinformation Overlooking Columbus Circle a...</td>\n",
       "    </tr>\n",
       "  </tbody>\n",
       "</table>\n",
       "</div>"
      ],
      "text/plain": [
       "                                    name  \\\n",
       "0                              11 Howard   \n",
       "1                1 Hotel Brooklyn Bridge   \n",
       "2                   1 Hotel Central Park   \n",
       "3                        36 Hudson Hotel   \n",
       "4  6 Columbus Central Park a Sixty Hotel   \n",
       "\n",
       "                                         description  \n",
       "0  11 Howard is located at the crossroads of the ...  \n",
       "1  Welcome to your Brooklyn Bridge waterfront ret...  \n",
       "2  1 Hotel Central Park is a 5-star property loca...  \n",
       "3  Ticket services and free Wi-Fi head the list o...  \n",
       "4  hotelinformation Overlooking Columbus Circle a...  "
      ]
     },
     "execution_count": 24,
     "metadata": {},
     "output_type": "execute_result"
    }
   ],
   "source": [
    "ny_hotels.head()"
   ]
  },
  {
   "cell_type": "code",
   "execution_count": 25,
   "metadata": {},
   "outputs": [
    {
     "name": "stdout",
     "output_type": "stream",
     "text": [
      "We have  18719 sentences in New York hotels\n"
     ]
    }
   ],
   "source": [
    "ny_hotels = pd.concat([pd.Series(str(row['name']), str(row['description']).split('. '))              \n",
    "                    for _, row in ny_hotels.iterrows()]).reset_index()\n",
    "ny_hotels.columns = ['sentence', 'name']\n",
    "ny_hotels['sentence'] = ny_hotels['sentence'].map(lambda x: re.sub(r'\\W+', ' ', x))\n",
    "print('We have ', len(ny_hotels), 'sentences in New York hotels')"
   ]
  },
  {
   "cell_type": "code",
   "execution_count": 26,
   "metadata": {},
   "outputs": [
    {
     "name": "stdout",
     "output_type": "stream",
     "text": [
      "Welcome to your Brooklyn Bridge waterfront retreat with expansive views of the East River and Manhattan skyline\n",
      "\n",
      "The hotel is 100 non smoking\n",
      "\n",
      "A 350 cleaning fee will be charged to any guest who violates the smoking policy\n",
      "\n",
      " Fee subject to change 150 incidental deposit will be charged to guests with either a major credit card or debit card\n",
      "\n",
      " Fee subject to change Unless notified prior to or at check in a one night penalty will apply to departures that occur earlier than the date specified on the original reservation\n",
      "\n",
      "Must be 18 years of age to check in\n",
      "\n",
      "A daily Facility Fee is payable by the guest upon check in \n",
      "\n"
     ]
    }
   ],
   "source": [
    "a = 22\n",
    "for i in range(a,a+7):\n",
    "    print(ny_hotels.sentence[i])\n",
    "    print()"
   ]
  },
  {
   "cell_type": "code",
   "execution_count": 27,
   "metadata": {
    "scrolled": false
   },
   "outputs": [],
   "source": [
    "X_final= ny_hotels['sentence']\n",
    "X_final = count_vect.transform(X_final)\n",
    "y_pred = xgb.predict(X_final)"
   ]
  },
  {
   "cell_type": "code",
   "execution_count": 30,
   "metadata": {
    "scrolled": true
   },
   "outputs": [
    {
     "data": {
      "text/plain": [
       "18719"
      ]
     },
     "execution_count": 30,
     "metadata": {},
     "output_type": "execute_result"
    }
   ],
   "source": [
    "len(y_pred)"
   ]
  },
  {
   "cell_type": "code",
   "execution_count": 32,
   "metadata": {},
   "outputs": [
    {
     "data": {
      "text/plain": [
       "18719"
      ]
     },
     "execution_count": 32,
     "metadata": {},
     "output_type": "execute_result"
    }
   ],
   "source": [
    "len(ny_hotels)"
   ]
  },
  {
   "cell_type": "code",
   "execution_count": 33,
   "metadata": {},
   "outputs": [
    {
     "data": {
      "text/html": [
       "<div>\n",
       "<style scoped>\n",
       "    .dataframe tbody tr th:only-of-type {\n",
       "        vertical-align: middle;\n",
       "    }\n",
       "\n",
       "    .dataframe tbody tr th {\n",
       "        vertical-align: top;\n",
       "    }\n",
       "\n",
       "    .dataframe thead th {\n",
       "        text-align: right;\n",
       "    }\n",
       "</style>\n",
       "<table border=\"1\" class=\"dataframe\">\n",
       "  <thead>\n",
       "    <tr style=\"text-align: right;\">\n",
       "      <th></th>\n",
       "      <th>sentence</th>\n",
       "      <th>name</th>\n",
       "    </tr>\n",
       "  </thead>\n",
       "  <tbody>\n",
       "    <tr>\n",
       "      <th>0</th>\n",
       "      <td>11 Howard is located at the crossroads of the ...</td>\n",
       "      <td>11 Howard</td>\n",
       "    </tr>\n",
       "    <tr>\n",
       "      <th>1</th>\n",
       "      <td>Bookings of 8 rooms or more will be considered...</td>\n",
       "      <td>11 Howard</td>\n",
       "    </tr>\n",
       "    <tr>\n",
       "      <th>2</th>\n",
       "      <td>150 incidental deposit will be charged to gue...</td>\n",
       "      <td>11 Howard</td>\n",
       "    </tr>\n",
       "    <tr>\n",
       "      <th>3</th>\n",
       "      <td>Fee subject to change Must be 21 years of age...</td>\n",
       "      <td>11 Howard</td>\n",
       "    </tr>\n",
       "    <tr>\n",
       "      <th>4</th>\n",
       "      <td>Conscious design sophisticated dining options ...</td>\n",
       "      <td>11 Howard</td>\n",
       "    </tr>\n",
       "  </tbody>\n",
       "</table>\n",
       "</div>"
      ],
      "text/plain": [
       "                                            sentence       name\n",
       "0  11 Howard is located at the crossroads of the ...  11 Howard\n",
       "1  Bookings of 8 rooms or more will be considered...  11 Howard\n",
       "2   150 incidental deposit will be charged to gue...  11 Howard\n",
       "3   Fee subject to change Must be 21 years of age...  11 Howard\n",
       "4  Conscious design sophisticated dining options ...  11 Howard"
      ]
     },
     "execution_count": 33,
     "metadata": {},
     "output_type": "execute_result"
    }
   ],
   "source": [
    "ny_hotels.head()"
   ]
  },
  {
   "cell_type": "code",
   "execution_count": 37,
   "metadata": {},
   "outputs": [
    {
     "data": {
      "text/plain": [
       "array([0., 1., 1., 1., 1., 1., 1., 1., 1., 0., 1., 0., 0., 1., 1., 1., 1.,\n",
       "       1., 1., 0.])"
      ]
     },
     "execution_count": 37,
     "metadata": {},
     "output_type": "execute_result"
    }
   ],
   "source": [
    "y_pred[:20]"
   ]
  },
  {
   "cell_type": "code",
   "execution_count": 35,
   "metadata": {},
   "outputs": [],
   "source": [
    "results = ny_hotels\n",
    "results['label'] = y_pred.tolist()"
   ]
  },
  {
   "cell_type": "code",
   "execution_count": 53,
   "metadata": {},
   "outputs": [
    {
     "data": {
      "text/plain": [
       "1.0    12931\n",
       "0.0     5788\n",
       "Name: label, dtype: int64"
      ]
     },
     "execution_count": 53,
     "metadata": {},
     "output_type": "execute_result"
    }
   ],
   "source": [
    "results.label.value_counts()"
   ]
  },
  {
   "cell_type": "code",
   "execution_count": 54,
   "metadata": {},
   "outputs": [],
   "source": [
    "results_keep = results.loc[results['label'] == 0.0]"
   ]
  },
  {
   "cell_type": "code",
   "execution_count": 56,
   "metadata": {},
   "outputs": [
    {
     "data": {
      "text/html": [
       "<div>\n",
       "<style scoped>\n",
       "    .dataframe tbody tr th:only-of-type {\n",
       "        vertical-align: middle;\n",
       "    }\n",
       "\n",
       "    .dataframe tbody tr th {\n",
       "        vertical-align: top;\n",
       "    }\n",
       "\n",
       "    .dataframe thead th {\n",
       "        text-align: right;\n",
       "    }\n",
       "</style>\n",
       "<table border=\"1\" class=\"dataframe\">\n",
       "  <thead>\n",
       "    <tr style=\"text-align: right;\">\n",
       "      <th></th>\n",
       "      <th>sentence</th>\n",
       "      <th>name</th>\n",
       "      <th>label</th>\n",
       "    </tr>\n",
       "  </thead>\n",
       "  <tbody>\n",
       "    <tr>\n",
       "      <th>0</th>\n",
       "      <td>11 Howard is located at the crossroads of the ...</td>\n",
       "      <td>11 Howard</td>\n",
       "      <td>0.0</td>\n",
       "    </tr>\n",
       "    <tr>\n",
       "      <th>9</th>\n",
       "      <td>The 11 Howard is in Manhattan s SoHo neighbor...</td>\n",
       "      <td>11 Howard</td>\n",
       "      <td>0.0</td>\n",
       "    </tr>\n",
       "    <tr>\n",
       "      <th>11</th>\n",
       "      <td>Walk one block to reach two subway stops offer...</td>\n",
       "      <td>11 Howard</td>\n",
       "      <td>0.0</td>\n",
       "    </tr>\n",
       "    <tr>\n",
       "      <th>12</th>\n",
       "      <td>Located close to Soho Bowery Chinatown and Lit...</td>\n",
       "      <td>11 Howard</td>\n",
       "      <td>0.0</td>\n",
       "    </tr>\n",
       "    <tr>\n",
       "      <th>19</th>\n",
       "      <td>One World Trade Center is 1 3 km from 11 Howa...</td>\n",
       "      <td>11 Howard</td>\n",
       "      <td>0.0</td>\n",
       "    </tr>\n",
       "  </tbody>\n",
       "</table>\n",
       "</div>"
      ],
      "text/plain": [
       "                                             sentence       name  label\n",
       "0   11 Howard is located at the crossroads of the ...  11 Howard    0.0\n",
       "9    The 11 Howard is in Manhattan s SoHo neighbor...  11 Howard    0.0\n",
       "11  Walk one block to reach two subway stops offer...  11 Howard    0.0\n",
       "12  Located close to Soho Bowery Chinatown and Lit...  11 Howard    0.0\n",
       "19   One World Trade Center is 1 3 km from 11 Howa...  11 Howard    0.0"
      ]
     },
     "execution_count": 56,
     "metadata": {},
     "output_type": "execute_result"
    }
   ],
   "source": [
    "results_keep.head()"
   ]
  },
  {
   "cell_type": "code",
   "execution_count": 57,
   "metadata": {},
   "outputs": [],
   "source": [
    "nyc_description = results_keep.groupby('name')['sentence'].agg(lambda col: ' '.join(col)).reset_index()"
   ]
  },
  {
   "cell_type": "code",
   "execution_count": 60,
   "metadata": {},
   "outputs": [
    {
     "data": {
      "text/html": [
       "<div>\n",
       "<style scoped>\n",
       "    .dataframe tbody tr th:only-of-type {\n",
       "        vertical-align: middle;\n",
       "    }\n",
       "\n",
       "    .dataframe tbody tr th {\n",
       "        vertical-align: top;\n",
       "    }\n",
       "\n",
       "    .dataframe thead th {\n",
       "        text-align: right;\n",
       "    }\n",
       "</style>\n",
       "<table border=\"1\" class=\"dataframe\">\n",
       "  <thead>\n",
       "    <tr style=\"text-align: right;\">\n",
       "      <th></th>\n",
       "      <th>name</th>\n",
       "      <th>sentence</th>\n",
       "    </tr>\n",
       "  </thead>\n",
       "  <tbody>\n",
       "    <tr>\n",
       "      <th>0</th>\n",
       "      <td>1 Hotel Central Park</td>\n",
       "      <td>1 Hotel Central Park is a 5 star property loca...</td>\n",
       "    </tr>\n",
       "    <tr>\n",
       "      <th>1</th>\n",
       "      <td>11 Howard</td>\n",
       "      <td>11 Howard is located at the crossroads of the ...</td>\n",
       "    </tr>\n",
       "    <tr>\n",
       "      <th>2</th>\n",
       "      <td>36 Hudson Hotel</td>\n",
       "      <td>Ticket services and free Wi Fi head the list o...</td>\n",
       "    </tr>\n",
       "    <tr>\n",
       "      <th>3</th>\n",
       "      <td>6 Columbus Central Park a Sixty Hotel</td>\n",
       "      <td>hotelinformation Overlooking Columbus Circle a...</td>\n",
       "    </tr>\n",
       "    <tr>\n",
       "      <th>4</th>\n",
       "      <td>AC Hotel by Marriott New York Downtown</td>\n",
       "      <td>A truly cosmopolitan hotel with an urban vibe ...</td>\n",
       "    </tr>\n",
       "  </tbody>\n",
       "</table>\n",
       "</div>"
      ],
      "text/plain": [
       "                                     name  \\\n",
       "0                    1 Hotel Central Park   \n",
       "1                               11 Howard   \n",
       "2                         36 Hudson Hotel   \n",
       "3   6 Columbus Central Park a Sixty Hotel   \n",
       "4  AC Hotel by Marriott New York Downtown   \n",
       "\n",
       "                                            sentence  \n",
       "0  1 Hotel Central Park is a 5 star property loca...  \n",
       "1  11 Howard is located at the crossroads of the ...  \n",
       "2  Ticket services and free Wi Fi head the list o...  \n",
       "3  hotelinformation Overlooking Columbus Circle a...  \n",
       "4  A truly cosmopolitan hotel with an urban vibe ...  "
      ]
     },
     "execution_count": 60,
     "metadata": {},
     "output_type": "execute_result"
    }
   ],
   "source": [
    "nyc_description.head()"
   ]
  },
  {
   "cell_type": "code",
   "execution_count": 64,
   "metadata": {},
   "outputs": [
    {
     "data": {
      "text/html": [
       "<div>\n",
       "<style scoped>\n",
       "    .dataframe tbody tr th:only-of-type {\n",
       "        vertical-align: middle;\n",
       "    }\n",
       "\n",
       "    .dataframe tbody tr th {\n",
       "        vertical-align: top;\n",
       "    }\n",
       "\n",
       "    .dataframe thead th {\n",
       "        text-align: right;\n",
       "    }\n",
       "</style>\n",
       "<table border=\"1\" class=\"dataframe\">\n",
       "  <thead>\n",
       "    <tr style=\"text-align: right;\">\n",
       "      <th></th>\n",
       "      <th>name</th>\n",
       "      <th>sentence</th>\n",
       "    </tr>\n",
       "  </thead>\n",
       "  <tbody>\n",
       "  </tbody>\n",
       "</table>\n",
       "</div>"
      ],
      "text/plain": [
       "Empty DataFrame\n",
       "Columns: [name, sentence]\n",
       "Index: []"
      ]
     },
     "execution_count": 64,
     "metadata": {},
     "output_type": "execute_result"
    }
   ],
   "source": [
    "nyc_description.loc[nyc_description['name'] == '1 Hotel Brooklyn Bridge']"
   ]
  },
  {
   "cell_type": "code",
   "execution_count": 65,
   "metadata": {},
   "outputs": [],
   "source": [
    "from sklearn.metrics.pairwise import linear_kernel"
   ]
  },
  {
   "cell_type": "code",
   "execution_count": 67,
   "metadata": {},
   "outputs": [],
   "source": [
    "nyc_description['sentence'] = nyc_description['sentence'].str.replace(r'[^\\w\\s]+', '')\n",
    "nyc_description.set_index('name', inplace = True)\n",
    "\n",
    "tf = TfidfVectorizer(analyzer='word', ngram_range=(1, 2), min_df=10, stop_words='english', token_pattern='[a-zA-Z0-9]{3,}')\n",
    "tfidf_matrix = tf.fit_transform(nyc_description['sentence'])\n",
    "cosine_similarities = linear_kernel(tfidf_matrix, tfidf_matrix)"
   ]
  },
  {
   "cell_type": "code",
   "execution_count": 68,
   "metadata": {},
   "outputs": [],
   "source": [
    "indices = pd.Series(nyc_description.index)\n",
    "\n",
    "def recommendations(name, cosine_similarities = cosine_similarities):\n",
    "    \n",
    "    recommended_hotels = []\n",
    "    \n",
    "    # gettin the index of the hotel that matches the name\n",
    "    idx = indices[indices == name].index[0]\n",
    "\n",
    "    # creating a Series with the similarity scores in descending order\n",
    "    score_series = pd.Series(cosine_similarities[idx]).sort_values(ascending = False)\n",
    "\n",
    "    # getting the indexes of the 10 most similar hotels except itself\n",
    "    top_10_indexes = list(score_series.iloc[1:11].index)\n",
    "    \n",
    "    # populating the list with the titles of the best 10 matching hotels\n",
    "    for i in top_10_indexes:\n",
    "        recommended_hotels.append(list(nyc_description.index)[i])\n",
    "        \n",
    "    return recommended_hotels"
   ]
  },
  {
   "cell_type": "code",
   "execution_count": 70,
   "metadata": {},
   "outputs": [
    {
     "data": {
      "text/plain": [
       "['Sheraton Brooklyn New York Hotel',\n",
       " 'Hotel Indigo BROOKLYN',\n",
       " 'Union Hotel, an Ascend Hotel Collection Member',\n",
       " 'Hampton Inn Brooklyn Downtown NY',\n",
       " 'EVEN Hotel Brooklyn',\n",
       " 'La Quinta Inn & Suites Brooklyn Downtown',\n",
       " 'Hotel Le Bleu',\n",
       " 'Days Inn by Wyndham Brooklyn Borough Park',\n",
       " 'Hilton Brooklyn New York',\n",
       " 'NU Hotel Brooklyn']"
      ]
     },
     "execution_count": 70,
     "metadata": {},
     "output_type": "execute_result"
    }
   ],
   "source": [
    "recommendations('New York Marriott at the Brooklyn Bridge')"
   ]
  },
  {
   "cell_type": "code",
   "execution_count": 71,
   "metadata": {},
   "outputs": [
    {
     "data": {
      "text/plain": [
       "['Hyatt Centric Times Square New York',\n",
       " 'Renaissance New York Times Square Hotel',\n",
       " 'Sheraton New York Times Square Hotel',\n",
       " 'Novotel New York - Times Square',\n",
       " 'Hotel Mela Times Square',\n",
       " 'Paramount Times Square',\n",
       " 'Crowne Plaza Times Square Manhattan',\n",
       " 'The Manhattan at Times Square Hotel',\n",
       " 'Millennium Broadway New York Times Square',\n",
       " 'Hotel Edison']"
      ]
     },
     "execution_count": 71,
     "metadata": {},
     "output_type": "execute_result"
    }
   ],
   "source": [
    "recommendations('W New York - Times Square')"
   ]
  },
  {
   "cell_type": "code",
   "execution_count": 72,
   "metadata": {},
   "outputs": [
    {
     "data": {
      "text/plain": [
       "['Trump International Hotel & Tower New York',\n",
       " 'Hudson New York, Central Park',\n",
       " '6 Columbus Central Park a Sixty Hotel',\n",
       " 'Kimpton Ink48 Hotel',\n",
       " 'Empire Hotel',\n",
       " 'Parker New York',\n",
       " 'The Time New York',\n",
       " 'Hotel Sofitel New York',\n",
       " 'Residence Inn New York Manhattan/Central Park',\n",
       " 'JW Marriott Essex House New York']"
      ]
     },
     "execution_count": 72,
     "metadata": {},
     "output_type": "execute_result"
    }
   ],
   "source": [
    "recommendations('Mandarin Oriental, New York')"
   ]
  },
  {
   "cell_type": "code",
   "execution_count": 73,
   "metadata": {},
   "outputs": [
    {
     "data": {
      "text/plain": [
       "['Best Western Gregory Hotel',\n",
       " 'Sleep Inn Coney Island',\n",
       " 'Sleep Inn Brooklyn Downtown',\n",
       " 'Holiday Inn Express Brooklyn',\n",
       " 'Sheraton Brooklyn New York Hotel',\n",
       " 'Wyndham Garden Brooklyn Sunset Park',\n",
       " 'Hotel Indigo BROOKLYN',\n",
       " 'Days Inn by Wyndham Jamaica / JFK Airport',\n",
       " 'EVEN Hotel Brooklyn',\n",
       " 'Aloft New York Brooklyn']"
      ]
     },
     "execution_count": 73,
     "metadata": {},
     "output_type": "execute_result"
    }
   ],
   "source": [
    "recommendations('Best Western Plus Brooklyn Bay Hotel')"
   ]
  },
  {
   "cell_type": "code",
   "execution_count": 74,
   "metadata": {},
   "outputs": [
    {
     "data": {
      "text/plain": [
       "['Sheraton Brooklyn New York Hotel',\n",
       " 'La Quinta Inn & Suites Brooklyn Downtown',\n",
       " 'Sleep Inn Brooklyn Downtown',\n",
       " 'Hampton Inn Brooklyn Downtown NY',\n",
       " 'NU Hotel Brooklyn',\n",
       " 'Hotel Indigo BROOKLYN',\n",
       " 'Union Hotel, an Ascend Hotel Collection Member',\n",
       " 'Days Inn by Wyndham Brooklyn Borough Park',\n",
       " 'Wyndham Garden Brooklyn Sunset Park',\n",
       " 'Brooklyn Way Hotel, BW Premier Collection']"
      ]
     },
     "execution_count": 74,
     "metadata": {},
     "output_type": "execute_result"
    }
   ],
   "source": [
    "recommendations('Aloft New York Brooklyn')"
   ]
  },
  {
   "cell_type": "code",
   "execution_count": 76,
   "metadata": {},
   "outputs": [
    {
     "data": {
      "text/plain": [
       "['Ace Hotel New York',\n",
       " 'INNSIDE by Melià New York Nomad',\n",
       " 'Arlo NoMad',\n",
       " 'DoubleTree by Hilton New York City - Chelsea',\n",
       " 'Hampton Inn New York - 35th Street - Empire State Building',\n",
       " 'DoubleTree by Hilton Hotel New York - Times Square South',\n",
       " 'Holiday Inn Express - New York City Chelsea',\n",
       " 'Nyma The New York Manhattan Hotel',\n",
       " 'The Redbury New York',\n",
       " 'Hotel Pennsylvania']"
      ]
     },
     "execution_count": 76,
     "metadata": {},
     "output_type": "execute_result"
    }
   ],
   "source": [
    "recommendations('Avalon Hotel')"
   ]
  },
  {
   "cell_type": "code",
   "execution_count": 77,
   "metadata": {},
   "outputs": [
    {
     "data": {
      "text/plain": [
       "['Archer Hotel New York',\n",
       " 'The Mansfield Hotel',\n",
       " 'Element New York Times Square West',\n",
       " 'Andaz 5th Avenue - a concept by Hyatt',\n",
       " 'DoubleTree by Hilton Hotel New York - Times Square South',\n",
       " 'The Redbury New York',\n",
       " 'The Westin New York at Times Square',\n",
       " 'Ace Hotel New York',\n",
       " 'The Westin New York Grand Central',\n",
       " 'Hotel Mela Times Square']"
      ]
     },
     "execution_count": 77,
     "metadata": {},
     "output_type": "execute_result"
    }
   ],
   "source": [
    "recommendations('The Langham, New York, Fifth Avenue')"
   ]
  },
  {
   "cell_type": "code",
   "execution_count": 78,
   "metadata": {},
   "outputs": [
    {
     "data": {
      "text/plain": [
       "['INNSIDE by Melià New York Nomad',\n",
       " 'The New York EDITION',\n",
       " 'Hotel Mela Times Square',\n",
       " 'The Redbury New York',\n",
       " 'W New York - Union Square',\n",
       " 'The Westin New York at Times Square',\n",
       " 'DoubleTree by Hilton New York City - Chelsea',\n",
       " 'Holiday Inn Express New York City Times Square',\n",
       " 'Arlo NoMad',\n",
       " 'Ace Hotel New York']"
      ]
     },
     "execution_count": 78,
     "metadata": {},
     "output_type": "execute_result"
    }
   ],
   "source": [
    "recommendations('The James New York - NoMad')"
   ]
  },
  {
   "cell_type": "code",
   "execution_count": 79,
   "metadata": {},
   "outputs": [
    {
     "data": {
      "text/plain": [
       "['Ramada by Wyndham Flushing Queens',\n",
       " 'Aloft New York LaGuardia Airport',\n",
       " 'Flushing Central Hotel',\n",
       " 'Aloft Long Island City - Manhattan View',\n",
       " 'Holiday Inn LaGuardia Airport',\n",
       " 'LaGuardia Plaza Hotel',\n",
       " 'Best Western JFK Airport Hotel',\n",
       " 'Days Inn by Wyndham Jamaica / JFK Airport',\n",
       " 'Courtyard Newark Downtown',\n",
       " 'Holiday Inn Express Kennedy Airport']"
      ]
     },
     "execution_count": 79,
     "metadata": {},
     "output_type": "execute_result"
    }
   ],
   "source": [
    "recommendations('New York LaGuardia Airport Marriott')"
   ]
  },
  {
   "cell_type": "code",
   "execution_count": 80,
   "metadata": {},
   "outputs": [
    {
     "data": {
      "text/plain": [
       "['Hilton New York JFK Airport',\n",
       " 'Hilton Garden Inn Queens/JFK Airport',\n",
       " 'Hampton Inn JFK Airport',\n",
       " 'Holiday Inn Express Kennedy Airport',\n",
       " 'Howard Johnson by Wyndham Jamaica JFK Airport NYC',\n",
       " 'Days Inn by Wyndham Jamaica / JFK Airport',\n",
       " 'Wyndham Garden Brooklyn Sunset Park',\n",
       " 'Hampton Inn Brooklyn Downtown NY',\n",
       " 'TRYP By Wyndham Times Square South',\n",
       " 'Holiday Inn New York JFK Airport Area']"
      ]
     },
     "execution_count": 80,
     "metadata": {},
     "output_type": "execute_result"
    }
   ],
   "source": [
    "recommendations('Radisson Hotel JFK Airport')"
   ]
  },
  {
   "cell_type": "code",
   "execution_count": null,
   "metadata": {},
   "outputs": [],
   "source": []
  }
 ],
 "metadata": {
  "kernelspec": {
   "display_name": "Python 3",
   "language": "python",
   "name": "python3"
  },
  "language_info": {
   "codemirror_mode": {
    "name": "ipython",
    "version": 3
   },
   "file_extension": ".py",
   "mimetype": "text/x-python",
   "name": "python",
   "nbconvert_exporter": "python",
   "pygments_lexer": "ipython3",
   "version": "3.6.7"
  }
 },
 "nbformat": 4,
 "nbformat_minor": 2
}
