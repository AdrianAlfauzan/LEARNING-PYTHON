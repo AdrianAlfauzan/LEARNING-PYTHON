{
 "cells": [
  {
   "cell_type": "markdown",
   "metadata": {},
   "source": [
    "Prepared by Susan Li\n",
    "\n",
    "2021-08-07"
   ]
  },
  {
   "cell_type": "markdown",
   "metadata": {},
   "source": [
    "# American National Election Studies 2019\n",
    "\n",
    "The data was downloaded from [American National Election Studies 2019 Pilot Study](https://electionstudies.org/data-center/2019-pilot-study/). The ANES 2019 Pilot Study was conducted for the purpose of testing new questions and conducting methodological research to provide public opinion data in December 2019."
   ]
  },
  {
   "cell_type": "code",
   "execution_count": 676,
   "metadata": {},
   "outputs": [],
   "source": [
    "pd.set_option('display.max_columns', 1000)\n",
    "df = pd.read_csv('data/anes_pilot_2019.csv')"
   ]
  },
  {
   "cell_type": "code",
   "execution_count": 677,
   "metadata": {},
   "outputs": [
    {
     "name": "stdout",
     "output_type": "stream",
     "text": [
      "<class 'pandas.core.frame.DataFrame'>\n",
      "RangeIndex: 3165 entries, 0 to 3164\n",
      "Columns: 900 entries, version to flag_state\n",
      "dtypes: float64(223), int64(600), object(77)\n",
      "memory usage: 21.7+ MB\n"
     ]
    }
   ],
   "source": [
    "df.info()"
   ]
  },
  {
   "cell_type": "markdown",
   "metadata": {},
   "source": [
    "## The Data\n",
    "\n",
    "Cleaning up the data, that including rename columns, re-code category features, remove columns that will not be used, and so on."
   ]
  },
  {
   "cell_type": "code",
   "execution_count": 678,
   "metadata": {},
   "outputs": [],
   "source": [
    "mycols = ['caseid', 'liveurban', 'vote16', 'particip_3', 'vote20jb', 'mip', 'confecon', 'ideo5', 'pid7', 'guarinc', 'famsep', \n",
    "          'freecol', 'loans', 'race', 'birthyr', 'gender', 'educ', 'inputstate', 'weight']\n",
    "ftcols = [x for x in df.columns if x.startswith('ft') and not x.endswith('timing') and not x.endswith('skp')]\n",
    "df_clean = df[mycols + ftcols]"
   ]
  },
  {
   "cell_type": "code",
   "execution_count": 679,
   "metadata": {},
   "outputs": [
    {
     "name": "stderr",
     "output_type": "stream",
     "text": [
      "/opt/tljh/user/lib/python3.6/site-packages/pandas/core/frame.py:4174: SettingWithCopyWarning:\n",
      "\n",
      "\n",
      "A value is trying to be set on a copy of a slice from a DataFrame\n",
      "\n",
      "See the caveats in the documentation: https://pandas.pydata.org/pandas-docs/stable/user_guide/indexing.html#returning-a-view-versus-a-copy\n",
      "\n",
      "/opt/tljh/user/lib/python3.6/site-packages/pandas/core/frame.py:4308: SettingWithCopyWarning:\n",
      "\n",
      "\n",
      "A value is trying to be set on a copy of a slice from a DataFrame\n",
      "\n",
      "See the caveats in the documentation: https://pandas.pydata.org/pandas-docs/stable/user_guide/indexing.html#returning-a-view-versus-a-copy\n",
      "\n"
     ]
    }
   ],
   "source": [
    "df_clean.drop('inputstate', axis=1, inplace=True)\n",
    "\n",
    "df_clean.rename({'particip_3': 'protest', \n",
    "                 'vote20jb': 'vote', \n",
    "                 'mip': 'most_important_issue', \n",
    "                 'ideo5': 'ideology', \n",
    "                 'pid7': 'partyID', \n",
    "                 'guarinc': 'universal_income', \n",
    "                 'famsep': 'family_separation', \n",
    "                 'freecol': 'free_college', \n",
    "                 'loans': 'forgive_loans', \n",
    "                 'gender': 'sex', \n",
    "                 'educ': 'education'}, axis=1, inplace=True)"
   ]
  },
  {
   "cell_type": "code",
   "execution_count": 680,
   "metadata": {},
   "outputs": [
    {
     "name": "stderr",
     "output_type": "stream",
     "text": [
      "/opt/tljh/user/lib/python3.6/site-packages/pandas/core/generic.py:5170: SettingWithCopyWarning:\n",
      "\n",
      "\n",
      "A value is trying to be set on a copy of a slice from a DataFrame.\n",
      "Try using .loc[row_indexer,col_indexer] = value instead\n",
      "\n",
      "See the caveats in the documentation: https://pandas.pydata.org/pandas-docs/stable/user_guide/indexing.html#returning-a-view-versus-a-copy\n",
      "\n"
     ]
    }
   ],
   "source": [
    "replace_map = {1: 'Donald Trump',\n",
    "               2: 'Joe Biden', \n",
    "               3: 'Someone else',\n",
    "               4: 'Probably will not vote'}\n",
    "df_clean.vote = df_clean.vote.map(replace_map)"
   ]
  },
  {
   "cell_type": "code",
   "execution_count": 681,
   "metadata": {},
   "outputs": [],
   "source": [
    "replace_map = {-7: np.nan,\n",
    "               1: 'Liberal',\n",
    "               2: 'Liberal',\n",
    "               3: 'Moderate',\n",
    "               4: 'Conservative', \n",
    "               5: 'Conservative',\n",
    "               6: np.nan}\n",
    "df_clean.ideology = df_clean.ideology.map(replace_map)"
   ]
  },
  {
   "cell_type": "code",
   "execution_count": 683,
   "metadata": {},
   "outputs": [],
   "source": [
    "replace_map = {'liveurban': {1: 'Rural', 2: 'Town', 3: 'Suburb', 4: 'City'},\n",
    "               'vote16': {-1: 'Did not vote', 1: 'Donald Trump', 2: 'Hillary Clinton', 3: 'Someone else'},\n",
    "               'protest': {1: True, 2: False},\n",
    "               'confecon': {1: 'Not at all worried', 2: 'A little worried', 3: 'Moderately worried', \n",
    "                            4: 'Very worried', 5: 'Extremely worried'},\n",
    "               'partyID': {8: np.nan, 1: 'Democrat', 2: 'Democrat', 3: 'Democrat', 4: 'Independent', 5: 'Republican',\n",
    "                           6: 'Republican', 7: 'Republican'},\n",
    "               'universal_income': {1: 'Favor a great deal', 2: 'Favor a moderate amount', 3: 'Favor a little', \n",
    "                                    4: 'Neither favor nor oppose', 5: 'oppose a little', 6: 'Oppose a moderate amount',\n",
    "                                    7: 'Oppse a great deal'},\n",
    "               'family_separation': {-7: np.nan, 1: 'Favor strongly', 2: 'Favor somewhat', 3: 'Neither favor nor disagree',\n",
    "                                     4: 'Oppose somewhat', 5: 'Oppose strongly'},\n",
    "               'free_college': {-7: np.nan, 1: 'Favor a great deal', 2: 'Favor a moderate amount', 3: 'Favor a little',\n",
    "                                4: 'Neither favor nor oppose', 5: 'Oppose a little', 6: 'Oppose a moderate amount', \n",
    "                                7: 'Oppose a great deal'},\n",
    "               'forgive_loans': {-7: np.nan, 1: 'Favor a great deal', 2: 'Favor a moderate amount', 3: 'Favor a little', \n",
    "                                 4: 'Neither favor nor oppose', 5: 'Oppose a little', 6: 'Oppose a moderate amount', \n",
    "                                 7: 'Oppose a great deal'},\n",
    "               'race': {1: 'White', 2: 'Black', 3: 'Hispanic', 4: 'Other', 5: 'Other', 6: 'Other', 7: 'Other', 8: 'Other'},\n",
    "               'sex': {1: 'Male', 2: 'Female'},\n",
    "               'education': {1: 'No HS diploma', 2: 'High school graduate', 3: 'Some college', 4: '2-year degree', \n",
    "                             5: '4-year degree', 6: 'Post-graduate'}}\n",
    "df_clean = df_clean.replace(replace_map)       "
   ]
  },
  {
   "cell_type": "code",
   "execution_count": 684,
   "metadata": {},
   "outputs": [],
   "source": [
    "ftcols = [x for x in df_clean.columns if x.startswith('ft')]\n",
    "df_clean[ftcols] = df_clean[ftcols].replace([-1, -7, 997], np.nan)"
   ]
  },
  {
   "cell_type": "code",
   "execution_count": 686,
   "metadata": {},
   "outputs": [
    {
     "name": "stderr",
     "output_type": "stream",
     "text": [
      "/opt/tljh/user/lib/python3.6/site-packages/ipykernel_launcher.py:2: SettingWithCopyWarning:\n",
      "\n",
      "\n",
      "A value is trying to be set on a copy of a slice from a DataFrame\n",
      "\n",
      "See the caveats in the documentation: https://pandas.pydata.org/pandas-docs/stable/user_guide/indexing.html#returning-a-view-versus-a-copy\n",
      "\n"
     ]
    }
   ],
   "source": [
    "df_clean['ftimmig'] = df_clean['ftimmig1']\n",
    "df_clean.ftimmig[df_clean['ftimmig1'].isnull()] = df_clean.ftimmig2[df_clean['ftimmig1'].isnull()]\n",
    "df_clean = df_clean.drop(['ftimmig1', 'ftimmig2'], axis=1)"
   ]
  },
  {
   "cell_type": "markdown",
   "metadata": {},
   "source": [
    "## Vote Choice"
   ]
  },
  {
   "cell_type": "code",
   "execution_count": 692,
   "metadata": {},
   "outputs": [
    {
     "data": {
      "image/png": "[encoded data removed]",
      "text/plain": [
       "<Figure size 720x432 with 1 Axes>"
      ]
     },
     "metadata": {
      "needs_background": "light"
     },
     "output_type": "display_data"
    }
   ],
   "source": [
    "df_bar = df_clean.vote.value_counts().reset_index()\n",
    "df_bar['pct'] = round(100*df_bar['vote'] / df_bar['vote'].sum(),2)\n",
    "\n",
    "plt.figure(figsize=(10, 6))\n",
    "myplot = sns.barplot(x='index', y='pct', data=df_bar, palette=['blue','red','brown','black'])\n",
    "plt.xlabel('Candidate')\n",
    "plt.ylabel('Percent')\n",
    "plt.title('Vote choice as of December 2019')\n",
    "sns.despine()\n",
    "for rect in myplot.patches:\n",
    "    xcoor = rect.get_x() + .5*rect.get_width()\n",
    "    ycoor = rect.get_height()   \n",
    "    plt.text(xcoor, ycoor, str(int(ycoor)),\n",
    "             horizontalalignment = 'center', \n",
    "             verticalalignment = 'bottom',\n",
    "             fontsize = 14, color = 'white');"
   ]
  },
  {
   "cell_type": "markdown",
   "metadata": {},
   "source": [
    "According to the data, Donald Trump and Joe Biden were statistical tied as of December 2019."
   ]
  },
  {
   "cell_type": "code",
   "execution_count": 693,
   "metadata": {},
   "outputs": [
    {
     "data": {
      "image/png": "[encoded data removed]",
      "text/plain": [
       "<Figure size 864x360 with 1 Axes>"
      ]
     },
     "metadata": {
      "needs_background": "light"
     },
     "output_type": "display_data"
    }
   ],
   "source": [
    "df_bar = df_clean.groupby(['partyID', 'vote']).size().reset_index().rename(columns = {0:'count'})\n",
    "df_bar['sum'] = df_bar.groupby('partyID')['count'].transform('sum')\n",
    "df_bar['pct'] = (df_bar['count'] / df_bar['sum'])*100\n",
    "\n",
    "plt.figure(figsize=(12, 5))\n",
    "myplot = sns.barplot(x='vote', y='pct', hue='partyID', data=df_bar, palette=['blue','yellow','red'])\n",
    "plt.xlabel('Candidate')\n",
    "plt.ylabel('Percent')\n",
    "plt.title('Vote Choice as of December 2019')\n",
    "sns.despine()\n",
    "for rect in myplot.patches:\n",
    "    xcoor = rect.get_x() + .5*rect.get_width()\n",
    "    ycoor = rect.get_height()\n",
    "    plt.text(xcoor, ycoor, str(int(ycoor)),\n",
    "             horizontalalignment='center',\n",
    "             verticalalignment='bottom',\n",
    "             fontsize=10);"
   ]
  },
  {
   "cell_type": "markdown",
   "metadata": {},
   "source": [
    "This is expected."
   ]
  },
  {
   "cell_type": "code",
   "execution_count": 694,
   "metadata": {},
   "outputs": [
    {
     "data": {
      "text/html": [
       "<div>\n",
       "<style scoped>\n",
       "    .dataframe tbody tr th:only-of-type {\n",
       "        vertical-align: middle;\n",
       "    }\n",
       "\n",
       "    .dataframe tbody tr th {\n",
       "        vertical-align: top;\n",
       "    }\n",
       "\n",
       "    .dataframe thead th {\n",
       "        text-align: right;\n",
       "    }\n",
       "</style>\n",
       "<table border=\"1\" class=\"dataframe\">\n",
       "  <thead>\n",
       "    <tr style=\"text-align: right;\">\n",
       "      <th></th>\n",
       "      <th>caseid</th>\n",
       "      <th>liveurban</th>\n",
       "      <th>vote16</th>\n",
       "      <th>protest</th>\n",
       "      <th>vote</th>\n",
       "      <th>most_important_issue</th>\n",
       "      <th>confecon</th>\n",
       "      <th>ideology</th>\n",
       "      <th>partyID</th>\n",
       "      <th>universal_income</th>\n",
       "      <th>family_separation</th>\n",
       "      <th>free_college</th>\n",
       "      <th>forgive_loans</th>\n",
       "      <th>race</th>\n",
       "      <th>birthyr</th>\n",
       "      <th>sex</th>\n",
       "      <th>education</th>\n",
       "      <th>weight</th>\n",
       "      <th>fttrump</th>\n",
       "      <th>ftobama</th>\n",
       "      <th>ftbiden</th>\n",
       "      <th>ftwarren</th>\n",
       "      <th>ftsanders</th>\n",
       "      <th>ftbuttigieg</th>\n",
       "      <th>ftharris</th>\n",
       "      <th>ftblack</th>\n",
       "      <th>ftwhite</th>\n",
       "      <th>fthisp</th>\n",
       "      <th>ftasian</th>\n",
       "      <th>ftmuslim</th>\n",
       "      <th>ftillegal</th>\n",
       "      <th>ftjournal</th>\n",
       "      <th>ftnato</th>\n",
       "      <th>ftun</th>\n",
       "      <th>ftice</th>\n",
       "      <th>ftnra</th>\n",
       "      <th>ftchina</th>\n",
       "      <th>ftnkorea</th>\n",
       "      <th>ftmexico</th>\n",
       "      <th>ftsaudi</th>\n",
       "      <th>ftukraine</th>\n",
       "      <th>ftiran</th>\n",
       "      <th>ftbritain</th>\n",
       "      <th>ftgermany</th>\n",
       "      <th>ftjapan</th>\n",
       "      <th>ftisrael</th>\n",
       "      <th>ftfrance</th>\n",
       "      <th>ftcanada</th>\n",
       "      <th>ftturkey</th>\n",
       "      <th>ftrussia</th>\n",
       "      <th>ftpales</th>\n",
       "      <th>ftimmig</th>\n",
       "    </tr>\n",
       "  </thead>\n",
       "  <tbody>\n",
       "    <tr>\n",
       "      <th>678</th>\n",
       "      <td>679</td>\n",
       "      <td>Town</td>\n",
       "      <td>Someone else</td>\n",
       "      <td>False</td>\n",
       "      <td>Donald Trump</td>\n",
       "      <td>Poor health care need to take private for prof...</td>\n",
       "      <td>Moderately worried</td>\n",
       "      <td>NaN</td>\n",
       "      <td>Independent</td>\n",
       "      <td>Oppose a moderate amount</td>\n",
       "      <td>Oppose strongly</td>\n",
       "      <td>Favor a moderate amount</td>\n",
       "      <td>Favor a moderate amount</td>\n",
       "      <td>Other</td>\n",
       "      <td>1968</td>\n",
       "      <td>Male</td>\n",
       "      <td>No HS diploma</td>\n",
       "      <td>.836432294131514</td>\n",
       "      <td>2.0</td>\n",
       "      <td>49.0</td>\n",
       "      <td>0.0</td>\n",
       "      <td>2.0</td>\n",
       "      <td>3.0</td>\n",
       "      <td>68.0</td>\n",
       "      <td>0.0</td>\n",
       "      <td>98.0</td>\n",
       "      <td>99.0</td>\n",
       "      <td>99.0</td>\n",
       "      <td>100.0</td>\n",
       "      <td>67.0</td>\n",
       "      <td>8.0</td>\n",
       "      <td>98</td>\n",
       "      <td>1.0</td>\n",
       "      <td>0.0</td>\n",
       "      <td>100.0</td>\n",
       "      <td>99.0</td>\n",
       "      <td>1</td>\n",
       "      <td>1.0</td>\n",
       "      <td>99.0</td>\n",
       "      <td>2.0</td>\n",
       "      <td>49.0</td>\n",
       "      <td>0.0</td>\n",
       "      <td>98</td>\n",
       "      <td>53</td>\n",
       "      <td>99</td>\n",
       "      <td>1.0</td>\n",
       "      <td>97.0</td>\n",
       "      <td>98</td>\n",
       "      <td>15.0</td>\n",
       "      <td>2.0</td>\n",
       "      <td>6.0</td>\n",
       "      <td>46.0</td>\n",
       "    </tr>\n",
       "    <tr>\n",
       "      <th>3045</th>\n",
       "      <td>3046</td>\n",
       "      <td>Suburb</td>\n",
       "      <td>Someone else</td>\n",
       "      <td>True</td>\n",
       "      <td>Donald Trump</td>\n",
       "      <td>There are millions that are without healthcare...</td>\n",
       "      <td>Not at all worried</td>\n",
       "      <td>Liberal</td>\n",
       "      <td>Democrat</td>\n",
       "      <td>Favor a great deal</td>\n",
       "      <td>Oppose strongly</td>\n",
       "      <td>Favor a great deal</td>\n",
       "      <td>Favor a great deal</td>\n",
       "      <td>White</td>\n",
       "      <td>1978</td>\n",
       "      <td>Male</td>\n",
       "      <td>4-year degree</td>\n",
       "      <td>.608038345981773</td>\n",
       "      <td>1.0</td>\n",
       "      <td>1.0</td>\n",
       "      <td>0.0</td>\n",
       "      <td>0.0</td>\n",
       "      <td>100.0</td>\n",
       "      <td>0.0</td>\n",
       "      <td>0.0</td>\n",
       "      <td>86.0</td>\n",
       "      <td>75.0</td>\n",
       "      <td>85.0</td>\n",
       "      <td>74.0</td>\n",
       "      <td>78.0</td>\n",
       "      <td>88.0</td>\n",
       "      <td>52</td>\n",
       "      <td>0.0</td>\n",
       "      <td>2.0</td>\n",
       "      <td>0.0</td>\n",
       "      <td>0.0</td>\n",
       "      <td>3</td>\n",
       "      <td>0.0</td>\n",
       "      <td>83.0</td>\n",
       "      <td>0.0</td>\n",
       "      <td>15.0</td>\n",
       "      <td>2.0</td>\n",
       "      <td>80</td>\n",
       "      <td>96</td>\n",
       "      <td>68</td>\n",
       "      <td>1.0</td>\n",
       "      <td>65.0</td>\n",
       "      <td>90</td>\n",
       "      <td>20.0</td>\n",
       "      <td>60.0</td>\n",
       "      <td>99.0</td>\n",
       "      <td>88.0</td>\n",
       "    </tr>\n",
       "  </tbody>\n",
       "</table>\n",
       "</div>"
      ],
      "text/plain": [
       "      caseid liveurban        vote16  protest          vote  \\\n",
       "678      679      Town  Someone else    False  Donald Trump   \n",
       "3045    3046    Suburb  Someone else     True  Donald Trump   \n",
       "\n",
       "                                   most_important_issue            confecon  \\\n",
       "678   Poor health care need to take private for prof...  Moderately worried   \n",
       "3045  There are millions that are without healthcare...  Not at all worried   \n",
       "\n",
       "     ideology      partyID          universal_income family_separation  \\\n",
       "678       NaN  Independent  Oppose a moderate amount   Oppose strongly   \n",
       "3045  Liberal     Democrat        Favor a great deal   Oppose strongly   \n",
       "\n",
       "                 free_college            forgive_loans   race  birthyr   sex  \\\n",
       "678   Favor a moderate amount  Favor a moderate amount  Other     1968  Male   \n",
       "3045       Favor a great deal       Favor a great deal  White     1978  Male   \n",
       "\n",
       "          education            weight  fttrump  ftobama  ftbiden  ftwarren  \\\n",
       "678   No HS diploma  .836432294131514      2.0     49.0      0.0       2.0   \n",
       "3045  4-year degree  .608038345981773      1.0      1.0      0.0       0.0   \n",
       "\n",
       "      ftsanders  ftbuttigieg  ftharris  ftblack  ftwhite  fthisp  ftasian  \\\n",
       "678         3.0         68.0       0.0     98.0     99.0    99.0    100.0   \n",
       "3045      100.0          0.0       0.0     86.0     75.0    85.0     74.0   \n",
       "\n",
       "      ftmuslim  ftillegal  ftjournal  ftnato  ftun  ftice  ftnra  ftchina  \\\n",
       "678       67.0        8.0         98     1.0   0.0  100.0   99.0        1   \n",
       "3045      78.0       88.0         52     0.0   2.0    0.0    0.0        3   \n",
       "\n",
       "      ftnkorea  ftmexico  ftsaudi  ftukraine  ftiran  ftbritain  ftgermany  \\\n",
       "678        1.0      99.0      2.0       49.0     0.0         98         53   \n",
       "3045       0.0      83.0      0.0       15.0     2.0         80         96   \n",
       "\n",
       "      ftjapan  ftisrael  ftfrance  ftcanada  ftturkey  ftrussia  ftpales  \\\n",
       "678        99       1.0      97.0        98      15.0       2.0      6.0   \n",
       "3045       68       1.0      65.0        90      20.0      60.0     99.0   \n",
       "\n",
       "      ftimmig  \n",
       "678      46.0  \n",
       "3045     88.0  "
      ]
     },
     "execution_count": 694,
     "metadata": {},
     "output_type": "execute_result"
    }
   ],
   "source": [
    "df_clean.query(\"vote=='Donald Trump' & fttrump < 5\")"
   ]
  },
  {
   "cell_type": "markdown",
   "metadata": {},
   "source": [
    "These 2 people gave Trump thermometer rating < 5 but still voted for him. It looks like they dislike Biden even more."
   ]
  },
  {
   "cell_type": "code",
   "execution_count": 695,
   "metadata": {},
   "outputs": [
    {
     "data": {
      "text/html": [
       "<div>\n",
       "<style scoped>\n",
       "    .dataframe tbody tr th:only-of-type {\n",
       "        vertical-align: middle;\n",
       "    }\n",
       "\n",
       "    .dataframe tbody tr th {\n",
       "        vertical-align: top;\n",
       "    }\n",
       "\n",
       "    .dataframe thead th {\n",
       "        text-align: right;\n",
       "    }\n",
       "</style>\n",
       "<table border=\"1\" class=\"dataframe\">\n",
       "  <thead>\n",
       "    <tr style=\"text-align: right;\">\n",
       "      <th></th>\n",
       "      <th>caseid</th>\n",
       "      <th>liveurban</th>\n",
       "      <th>vote16</th>\n",
       "      <th>protest</th>\n",
       "      <th>vote</th>\n",
       "      <th>most_important_issue</th>\n",
       "      <th>confecon</th>\n",
       "      <th>ideology</th>\n",
       "      <th>partyID</th>\n",
       "      <th>universal_income</th>\n",
       "      <th>family_separation</th>\n",
       "      <th>free_college</th>\n",
       "      <th>forgive_loans</th>\n",
       "      <th>race</th>\n",
       "      <th>birthyr</th>\n",
       "      <th>sex</th>\n",
       "      <th>education</th>\n",
       "      <th>weight</th>\n",
       "      <th>fttrump</th>\n",
       "      <th>ftobama</th>\n",
       "      <th>ftbiden</th>\n",
       "      <th>ftwarren</th>\n",
       "      <th>ftsanders</th>\n",
       "      <th>ftbuttigieg</th>\n",
       "      <th>ftharris</th>\n",
       "      <th>ftblack</th>\n",
       "      <th>ftwhite</th>\n",
       "      <th>fthisp</th>\n",
       "      <th>ftasian</th>\n",
       "      <th>ftmuslim</th>\n",
       "      <th>ftillegal</th>\n",
       "      <th>ftjournal</th>\n",
       "      <th>ftnato</th>\n",
       "      <th>ftun</th>\n",
       "      <th>ftice</th>\n",
       "      <th>ftnra</th>\n",
       "      <th>ftchina</th>\n",
       "      <th>ftnkorea</th>\n",
       "      <th>ftmexico</th>\n",
       "      <th>ftsaudi</th>\n",
       "      <th>ftukraine</th>\n",
       "      <th>ftiran</th>\n",
       "      <th>ftbritain</th>\n",
       "      <th>ftgermany</th>\n",
       "      <th>ftjapan</th>\n",
       "      <th>ftisrael</th>\n",
       "      <th>ftfrance</th>\n",
       "      <th>ftcanada</th>\n",
       "      <th>ftturkey</th>\n",
       "      <th>ftrussia</th>\n",
       "      <th>ftpales</th>\n",
       "      <th>ftimmig</th>\n",
       "    </tr>\n",
       "  </thead>\n",
       "  <tbody>\n",
       "    <tr>\n",
       "      <th>781</th>\n",
       "      <td>782</td>\n",
       "      <td>City</td>\n",
       "      <td>Someone else</td>\n",
       "      <td>False</td>\n",
       "      <td>Joe Biden</td>\n",
       "      <td>Crime high cost of renting gets higher ever ye...</td>\n",
       "      <td>A little worried</td>\n",
       "      <td>Conservative</td>\n",
       "      <td>Republican</td>\n",
       "      <td>Favor a little</td>\n",
       "      <td>Neither favor nor disagree</td>\n",
       "      <td>Oppose a little</td>\n",
       "      <td>Neither favor nor oppose</td>\n",
       "      <td>White</td>\n",
       "      <td>1955</td>\n",
       "      <td>Female</td>\n",
       "      <td>High school graduate</td>\n",
       "      <td>1.07978658850445</td>\n",
       "      <td>65.0</td>\n",
       "      <td>50.0</td>\n",
       "      <td>3.0</td>\n",
       "      <td>1.0</td>\n",
       "      <td>6.0</td>\n",
       "      <td>0.0</td>\n",
       "      <td>3.0</td>\n",
       "      <td>71.0</td>\n",
       "      <td>56.0</td>\n",
       "      <td>62.0</td>\n",
       "      <td>66.0</td>\n",
       "      <td>53.0</td>\n",
       "      <td>53.0</td>\n",
       "      <td>1</td>\n",
       "      <td>20.0</td>\n",
       "      <td>9.0</td>\n",
       "      <td>47.0</td>\n",
       "      <td>25.0</td>\n",
       "      <td>7</td>\n",
       "      <td>1.0</td>\n",
       "      <td>57.0</td>\n",
       "      <td>46.0</td>\n",
       "      <td>50.0</td>\n",
       "      <td>0.0</td>\n",
       "      <td>72</td>\n",
       "      <td>53</td>\n",
       "      <td>57</td>\n",
       "      <td>79.0</td>\n",
       "      <td>49.0</td>\n",
       "      <td>58</td>\n",
       "      <td>47.0</td>\n",
       "      <td>15.0</td>\n",
       "      <td>51.0</td>\n",
       "      <td>56.0</td>\n",
       "    </tr>\n",
       "    <tr>\n",
       "      <th>2061</th>\n",
       "      <td>2062</td>\n",
       "      <td>City</td>\n",
       "      <td>Hillary Clinton</td>\n",
       "      <td>False</td>\n",
       "      <td>Joe Biden</td>\n",
       "      <td>healthcare</td>\n",
       "      <td>A little worried</td>\n",
       "      <td>Moderate</td>\n",
       "      <td>Democrat</td>\n",
       "      <td>Neither favor nor oppose</td>\n",
       "      <td>Favor somewhat</td>\n",
       "      <td>Favor a great deal</td>\n",
       "      <td>Favor a moderate amount</td>\n",
       "      <td>White</td>\n",
       "      <td>1940</td>\n",
       "      <td>Female</td>\n",
       "      <td>No HS diploma</td>\n",
       "      <td>1.5074583391068</td>\n",
       "      <td>0.0</td>\n",
       "      <td>100.0</td>\n",
       "      <td>0.0</td>\n",
       "      <td>100.0</td>\n",
       "      <td>100.0</td>\n",
       "      <td>50.0</td>\n",
       "      <td>99.0</td>\n",
       "      <td>70.0</td>\n",
       "      <td>90.0</td>\n",
       "      <td>50.0</td>\n",
       "      <td>50.0</td>\n",
       "      <td>1.0</td>\n",
       "      <td>50.0</td>\n",
       "      <td>50</td>\n",
       "      <td>51.0</td>\n",
       "      <td>51.0</td>\n",
       "      <td>50.0</td>\n",
       "      <td>91.0</td>\n",
       "      <td>50</td>\n",
       "      <td>50.0</td>\n",
       "      <td>50.0</td>\n",
       "      <td>50.0</td>\n",
       "      <td>50.0</td>\n",
       "      <td>50.0</td>\n",
       "      <td>50</td>\n",
       "      <td>50</td>\n",
       "      <td>50</td>\n",
       "      <td>50.0</td>\n",
       "      <td>50.0</td>\n",
       "      <td>50</td>\n",
       "      <td>50.0</td>\n",
       "      <td>50.0</td>\n",
       "      <td>50.0</td>\n",
       "      <td>50.0</td>\n",
       "    </tr>\n",
       "    <tr>\n",
       "      <th>2321</th>\n",
       "      <td>2322</td>\n",
       "      <td>Suburb</td>\n",
       "      <td>Someone else</td>\n",
       "      <td>False</td>\n",
       "      <td>Joe Biden</td>\n",
       "      <td>Climate change</td>\n",
       "      <td>Moderately worried</td>\n",
       "      <td>Liberal</td>\n",
       "      <td>Democrat</td>\n",
       "      <td>Favor a great deal</td>\n",
       "      <td>Oppose strongly</td>\n",
       "      <td>Favor a great deal</td>\n",
       "      <td>Favor a great deal</td>\n",
       "      <td>White</td>\n",
       "      <td>1990</td>\n",
       "      <td>Male</td>\n",
       "      <td>2-year degree</td>\n",
       "      <td>1.72607310797372</td>\n",
       "      <td>0.0</td>\n",
       "      <td>70.0</td>\n",
       "      <td>1.0</td>\n",
       "      <td>90.0</td>\n",
       "      <td>90.0</td>\n",
       "      <td>50.0</td>\n",
       "      <td>50.0</td>\n",
       "      <td>50.0</td>\n",
       "      <td>50.0</td>\n",
       "      <td>50.0</td>\n",
       "      <td>50.0</td>\n",
       "      <td>50.0</td>\n",
       "      <td>50.0</td>\n",
       "      <td>60</td>\n",
       "      <td>50.0</td>\n",
       "      <td>50.0</td>\n",
       "      <td>0.0</td>\n",
       "      <td>0.0</td>\n",
       "      <td>5</td>\n",
       "      <td>0.0</td>\n",
       "      <td>50.0</td>\n",
       "      <td>0.0</td>\n",
       "      <td>50.0</td>\n",
       "      <td>50.0</td>\n",
       "      <td>50</td>\n",
       "      <td>50</td>\n",
       "      <td>50</td>\n",
       "      <td>5.0</td>\n",
       "      <td>50.0</td>\n",
       "      <td>50</td>\n",
       "      <td>50.0</td>\n",
       "      <td>5.0</td>\n",
       "      <td>50.0</td>\n",
       "      <td>50.0</td>\n",
       "    </tr>\n",
       "    <tr>\n",
       "      <th>2599</th>\n",
       "      <td>2600</td>\n",
       "      <td>Suburb</td>\n",
       "      <td>Did not vote</td>\n",
       "      <td>False</td>\n",
       "      <td>Joe Biden</td>\n",
       "      <td>capitalism</td>\n",
       "      <td>Very worried</td>\n",
       "      <td>Liberal</td>\n",
       "      <td>Democrat</td>\n",
       "      <td>Favor a moderate amount</td>\n",
       "      <td>Oppose strongly</td>\n",
       "      <td>Favor a great deal</td>\n",
       "      <td>Favor a great deal</td>\n",
       "      <td>White</td>\n",
       "      <td>1992</td>\n",
       "      <td>Male</td>\n",
       "      <td>High school graduate</td>\n",
       "      <td>7.03646496881757</td>\n",
       "      <td>0.0</td>\n",
       "      <td>59.0</td>\n",
       "      <td>0.0</td>\n",
       "      <td>61.0</td>\n",
       "      <td>86.0</td>\n",
       "      <td>29.0</td>\n",
       "      <td>0.0</td>\n",
       "      <td>100.0</td>\n",
       "      <td>25.0</td>\n",
       "      <td>100.0</td>\n",
       "      <td>100.0</td>\n",
       "      <td>100.0</td>\n",
       "      <td>100.0</td>\n",
       "      <td>50</td>\n",
       "      <td>62.0</td>\n",
       "      <td>52.0</td>\n",
       "      <td>0.0</td>\n",
       "      <td>0.0</td>\n",
       "      <td>48</td>\n",
       "      <td>50.0</td>\n",
       "      <td>65.0</td>\n",
       "      <td>21.0</td>\n",
       "      <td>50.0</td>\n",
       "      <td>38.0</td>\n",
       "      <td>50</td>\n",
       "      <td>69</td>\n",
       "      <td>87</td>\n",
       "      <td>50.0</td>\n",
       "      <td>38.0</td>\n",
       "      <td>49</td>\n",
       "      <td>50.0</td>\n",
       "      <td>50.0</td>\n",
       "      <td>88.0</td>\n",
       "      <td>100.0</td>\n",
       "    </tr>\n",
       "    <tr>\n",
       "      <th>2974</th>\n",
       "      <td>2975</td>\n",
       "      <td>City</td>\n",
       "      <td>Hillary Clinton</td>\n",
       "      <td>True</td>\n",
       "      <td>Joe Biden</td>\n",
       "      <td>the climate crisis</td>\n",
       "      <td>Very worried</td>\n",
       "      <td>Liberal</td>\n",
       "      <td>Democrat</td>\n",
       "      <td>Oppse a great deal</td>\n",
       "      <td>Oppose strongly</td>\n",
       "      <td>Favor a great deal</td>\n",
       "      <td>Favor a great deal</td>\n",
       "      <td>White</td>\n",
       "      <td>1991</td>\n",
       "      <td>Male</td>\n",
       "      <td>4-year degree</td>\n",
       "      <td>1.08737874806145</td>\n",
       "      <td>0.0</td>\n",
       "      <td>55.0</td>\n",
       "      <td>1.0</td>\n",
       "      <td>75.0</td>\n",
       "      <td>98.0</td>\n",
       "      <td>1.0</td>\n",
       "      <td>30.0</td>\n",
       "      <td>85.0</td>\n",
       "      <td>1.0</td>\n",
       "      <td>85.0</td>\n",
       "      <td>85.0</td>\n",
       "      <td>85.0</td>\n",
       "      <td>95.0</td>\n",
       "      <td>90</td>\n",
       "      <td>69.0</td>\n",
       "      <td>80.0</td>\n",
       "      <td>0.0</td>\n",
       "      <td>0.0</td>\n",
       "      <td>25</td>\n",
       "      <td>1.0</td>\n",
       "      <td>55.0</td>\n",
       "      <td>0.0</td>\n",
       "      <td>45.0</td>\n",
       "      <td>20.0</td>\n",
       "      <td>40</td>\n",
       "      <td>75</td>\n",
       "      <td>70</td>\n",
       "      <td>10.0</td>\n",
       "      <td>40.0</td>\n",
       "      <td>55</td>\n",
       "      <td>35.0</td>\n",
       "      <td>40.0</td>\n",
       "      <td>90.0</td>\n",
       "      <td>95.0</td>\n",
       "    </tr>\n",
       "  </tbody>\n",
       "</table>\n",
       "</div>"
      ],
      "text/plain": [
       "      caseid liveurban           vote16  protest       vote  \\\n",
       "781      782      City     Someone else    False  Joe Biden   \n",
       "2061    2062      City  Hillary Clinton    False  Joe Biden   \n",
       "2321    2322    Suburb     Someone else    False  Joe Biden   \n",
       "2599    2600    Suburb     Did not vote    False  Joe Biden   \n",
       "2974    2975      City  Hillary Clinton     True  Joe Biden   \n",
       "\n",
       "                                   most_important_issue            confecon  \\\n",
       "781   Crime high cost of renting gets higher ever ye...    A little worried   \n",
       "2061                                         healthcare    A little worried   \n",
       "2321                                     Climate change  Moderately worried   \n",
       "2599                                         capitalism        Very worried   \n",
       "2974                                 the climate crisis        Very worried   \n",
       "\n",
       "          ideology     partyID          universal_income  \\\n",
       "781   Conservative  Republican            Favor a little   \n",
       "2061      Moderate    Democrat  Neither favor nor oppose   \n",
       "2321       Liberal    Democrat        Favor a great deal   \n",
       "2599       Liberal    Democrat   Favor a moderate amount   \n",
       "2974       Liberal    Democrat        Oppse a great deal   \n",
       "\n",
       "               family_separation        free_college  \\\n",
       "781   Neither favor nor disagree     Oppose a little   \n",
       "2061              Favor somewhat  Favor a great deal   \n",
       "2321             Oppose strongly  Favor a great deal   \n",
       "2599             Oppose strongly  Favor a great deal   \n",
       "2974             Oppose strongly  Favor a great deal   \n",
       "\n",
       "                 forgive_loans   race  birthyr     sex             education  \\\n",
       "781   Neither favor nor oppose  White     1955  Female  High school graduate   \n",
       "2061   Favor a moderate amount  White     1940  Female         No HS diploma   \n",
       "2321        Favor a great deal  White     1990    Male         2-year degree   \n",
       "2599        Favor a great deal  White     1992    Male  High school graduate   \n",
       "2974        Favor a great deal  White     1991    Male         4-year degree   \n",
       "\n",
       "                weight  fttrump  ftobama  ftbiden  ftwarren  ftsanders  \\\n",
       "781   1.07978658850445     65.0     50.0      3.0       1.0        6.0   \n",
       "2061   1.5074583391068      0.0    100.0      0.0     100.0      100.0   \n",
       "2321  1.72607310797372      0.0     70.0      1.0      90.0       90.0   \n",
       "2599  7.03646496881757      0.0     59.0      0.0      61.0       86.0   \n",
       "2974  1.08737874806145      0.0     55.0      1.0      75.0       98.0   \n",
       "\n",
       "      ftbuttigieg  ftharris  ftblack  ftwhite  fthisp  ftasian  ftmuslim  \\\n",
       "781           0.0       3.0     71.0     56.0    62.0     66.0      53.0   \n",
       "2061         50.0      99.0     70.0     90.0    50.0     50.0       1.0   \n",
       "2321         50.0      50.0     50.0     50.0    50.0     50.0      50.0   \n",
       "2599         29.0       0.0    100.0     25.0   100.0    100.0     100.0   \n",
       "2974          1.0      30.0     85.0      1.0    85.0     85.0      85.0   \n",
       "\n",
       "      ftillegal  ftjournal  ftnato  ftun  ftice  ftnra  ftchina  ftnkorea  \\\n",
       "781        53.0          1    20.0   9.0   47.0   25.0        7       1.0   \n",
       "2061       50.0         50    51.0  51.0   50.0   91.0       50      50.0   \n",
       "2321       50.0         60    50.0  50.0    0.0    0.0        5       0.0   \n",
       "2599      100.0         50    62.0  52.0    0.0    0.0       48      50.0   \n",
       "2974       95.0         90    69.0  80.0    0.0    0.0       25       1.0   \n",
       "\n",
       "      ftmexico  ftsaudi  ftukraine  ftiran  ftbritain  ftgermany  ftjapan  \\\n",
       "781       57.0     46.0       50.0     0.0         72         53       57   \n",
       "2061      50.0     50.0       50.0    50.0         50         50       50   \n",
       "2321      50.0      0.0       50.0    50.0         50         50       50   \n",
       "2599      65.0     21.0       50.0    38.0         50         69       87   \n",
       "2974      55.0      0.0       45.0    20.0         40         75       70   \n",
       "\n",
       "      ftisrael  ftfrance  ftcanada  ftturkey  ftrussia  ftpales  ftimmig  \n",
       "781       79.0      49.0        58      47.0      15.0     51.0     56.0  \n",
       "2061      50.0      50.0        50      50.0      50.0     50.0     50.0  \n",
       "2321       5.0      50.0        50      50.0       5.0     50.0     50.0  \n",
       "2599      50.0      38.0        49      50.0      50.0     88.0    100.0  \n",
       "2974      10.0      40.0        55      35.0      40.0     90.0     95.0  "
      ]
     },
     "execution_count": 695,
     "metadata": {},
     "output_type": "execute_result"
    }
   ],
   "source": [
    "df_clean.query(\"vote == 'Joe Biden'\").query(\"ftbiden < 5\")"
   ]
  },
  {
   "cell_type": "markdown",
   "metadata": {},
   "source": [
    "These 5 people gave Biden rating < 5 but still voted for him. It looks like they all liked Obama."
   ]
  },
  {
   "cell_type": "code",
   "execution_count": 696,
   "metadata": {},
   "outputs": [
    {
     "data": {
      "text/html": [
       "<div>\n",
       "<style scoped>\n",
       "    .dataframe tbody tr th:only-of-type {\n",
       "        vertical-align: middle;\n",
       "    }\n",
       "\n",
       "    .dataframe tbody tr th {\n",
       "        vertical-align: top;\n",
       "    }\n",
       "\n",
       "    .dataframe thead th {\n",
       "        text-align: right;\n",
       "    }\n",
       "</style>\n",
       "<table border=\"1\" class=\"dataframe\">\n",
       "  <thead>\n",
       "    <tr style=\"text-align: right;\">\n",
       "      <th></th>\n",
       "      <th>caseid</th>\n",
       "      <th>liveurban</th>\n",
       "      <th>vote16</th>\n",
       "      <th>protest</th>\n",
       "      <th>vote</th>\n",
       "      <th>most_important_issue</th>\n",
       "      <th>confecon</th>\n",
       "      <th>ideology</th>\n",
       "      <th>partyID</th>\n",
       "      <th>universal_income</th>\n",
       "      <th>family_separation</th>\n",
       "      <th>free_college</th>\n",
       "      <th>forgive_loans</th>\n",
       "      <th>race</th>\n",
       "      <th>birthyr</th>\n",
       "      <th>sex</th>\n",
       "      <th>education</th>\n",
       "      <th>weight</th>\n",
       "      <th>fttrump</th>\n",
       "      <th>ftobama</th>\n",
       "      <th>ftbiden</th>\n",
       "      <th>ftwarren</th>\n",
       "      <th>ftsanders</th>\n",
       "      <th>ftbuttigieg</th>\n",
       "      <th>ftharris</th>\n",
       "      <th>ftblack</th>\n",
       "      <th>ftwhite</th>\n",
       "      <th>fthisp</th>\n",
       "      <th>ftasian</th>\n",
       "      <th>ftmuslim</th>\n",
       "      <th>ftillegal</th>\n",
       "      <th>ftjournal</th>\n",
       "      <th>ftnato</th>\n",
       "      <th>ftun</th>\n",
       "      <th>ftice</th>\n",
       "      <th>ftnra</th>\n",
       "      <th>ftchina</th>\n",
       "      <th>ftnkorea</th>\n",
       "      <th>ftmexico</th>\n",
       "      <th>ftsaudi</th>\n",
       "      <th>ftukraine</th>\n",
       "      <th>ftiran</th>\n",
       "      <th>ftbritain</th>\n",
       "      <th>ftgermany</th>\n",
       "      <th>ftjapan</th>\n",
       "      <th>ftisrael</th>\n",
       "      <th>ftfrance</th>\n",
       "      <th>ftcanada</th>\n",
       "      <th>ftturkey</th>\n",
       "      <th>ftrussia</th>\n",
       "      <th>ftpales</th>\n",
       "      <th>ftimmig</th>\n",
       "    </tr>\n",
       "  </thead>\n",
       "  <tbody>\n",
       "    <tr>\n",
       "      <th>267</th>\n",
       "      <td>268</td>\n",
       "      <td>City</td>\n",
       "      <td>Donald Trump</td>\n",
       "      <td>False</td>\n",
       "      <td>Donald Trump</td>\n",
       "      <td>Education.</td>\n",
       "      <td>A little worried</td>\n",
       "      <td>Conservative</td>\n",
       "      <td>Republican</td>\n",
       "      <td>Favor a little</td>\n",
       "      <td>Oppose somewhat</td>\n",
       "      <td>Favor a little</td>\n",
       "      <td>Favor a great deal</td>\n",
       "      <td>White</td>\n",
       "      <td>1959</td>\n",
       "      <td>Female</td>\n",
       "      <td>Post-graduate</td>\n",
       "      <td>.746904935636401</td>\n",
       "      <td>100.0</td>\n",
       "      <td>0.0</td>\n",
       "      <td>100.0</td>\n",
       "      <td>1.0</td>\n",
       "      <td>4.0</td>\n",
       "      <td>NaN</td>\n",
       "      <td>NaN</td>\n",
       "      <td>70.0</td>\n",
       "      <td>90.0</td>\n",
       "      <td>61.0</td>\n",
       "      <td>63.0</td>\n",
       "      <td>15.0</td>\n",
       "      <td>6.0</td>\n",
       "      <td>21</td>\n",
       "      <td>48.0</td>\n",
       "      <td>36.0</td>\n",
       "      <td>49.0</td>\n",
       "      <td>43.0</td>\n",
       "      <td>50</td>\n",
       "      <td>50.0</td>\n",
       "      <td>43.0</td>\n",
       "      <td>39.0</td>\n",
       "      <td>60.0</td>\n",
       "      <td>43.0</td>\n",
       "      <td>58</td>\n",
       "      <td>40</td>\n",
       "      <td>63</td>\n",
       "      <td>90.0</td>\n",
       "      <td>69.0</td>\n",
       "      <td>53</td>\n",
       "      <td>53.0</td>\n",
       "      <td>56.0</td>\n",
       "      <td>54.0</td>\n",
       "      <td>16.0</td>\n",
       "    </tr>\n",
       "    <tr>\n",
       "      <th>1526</th>\n",
       "      <td>1527</td>\n",
       "      <td>City</td>\n",
       "      <td>Donald Trump</td>\n",
       "      <td>False</td>\n",
       "      <td>Donald Trump</td>\n",
       "      <td>EVERYTHING</td>\n",
       "      <td>Not at all worried</td>\n",
       "      <td>Conservative</td>\n",
       "      <td>Republican</td>\n",
       "      <td>Favor a great deal</td>\n",
       "      <td>Neither favor nor disagree</td>\n",
       "      <td>Neither favor nor oppose</td>\n",
       "      <td>Neither favor nor oppose</td>\n",
       "      <td>White</td>\n",
       "      <td>1956</td>\n",
       "      <td>Male</td>\n",
       "      <td>High school graduate</td>\n",
       "      <td>.847649185791497</td>\n",
       "      <td>100.0</td>\n",
       "      <td>99.0</td>\n",
       "      <td>100.0</td>\n",
       "      <td>71.0</td>\n",
       "      <td>81.0</td>\n",
       "      <td>80.0</td>\n",
       "      <td>90.0</td>\n",
       "      <td>99.0</td>\n",
       "      <td>100.0</td>\n",
       "      <td>95.0</td>\n",
       "      <td>91.0</td>\n",
       "      <td>82.0</td>\n",
       "      <td>50.0</td>\n",
       "      <td>98</td>\n",
       "      <td>94.0</td>\n",
       "      <td>89.0</td>\n",
       "      <td>96.0</td>\n",
       "      <td>99.0</td>\n",
       "      <td>71</td>\n",
       "      <td>70.0</td>\n",
       "      <td>78.0</td>\n",
       "      <td>68.0</td>\n",
       "      <td>69.0</td>\n",
       "      <td>47.0</td>\n",
       "      <td>85</td>\n",
       "      <td>77</td>\n",
       "      <td>83</td>\n",
       "      <td>57.0</td>\n",
       "      <td>100.0</td>\n",
       "      <td>100</td>\n",
       "      <td>91.0</td>\n",
       "      <td>88.0</td>\n",
       "      <td>76.0</td>\n",
       "      <td>99.0</td>\n",
       "    </tr>\n",
       "    <tr>\n",
       "      <th>1971</th>\n",
       "      <td>1972</td>\n",
       "      <td>Rural</td>\n",
       "      <td>Did not vote</td>\n",
       "      <td>False</td>\n",
       "      <td>Joe Biden</td>\n",
       "      <td>Proverty</td>\n",
       "      <td>Moderately worried</td>\n",
       "      <td>NaN</td>\n",
       "      <td>Republican</td>\n",
       "      <td>Neither favor nor oppose</td>\n",
       "      <td>Oppose strongly</td>\n",
       "      <td>Favor a great deal</td>\n",
       "      <td>Favor a great deal</td>\n",
       "      <td>White</td>\n",
       "      <td>1993</td>\n",
       "      <td>Female</td>\n",
       "      <td>2-year degree</td>\n",
       "      <td>.872100489544827</td>\n",
       "      <td>100.0</td>\n",
       "      <td>99.0</td>\n",
       "      <td>100.0</td>\n",
       "      <td>66.0</td>\n",
       "      <td>100.0</td>\n",
       "      <td>60.0</td>\n",
       "      <td>57.0</td>\n",
       "      <td>100.0</td>\n",
       "      <td>100.0</td>\n",
       "      <td>100.0</td>\n",
       "      <td>100.0</td>\n",
       "      <td>100.0</td>\n",
       "      <td>100.0</td>\n",
       "      <td>53</td>\n",
       "      <td>100.0</td>\n",
       "      <td>67.0</td>\n",
       "      <td>100.0</td>\n",
       "      <td>100.0</td>\n",
       "      <td>100</td>\n",
       "      <td>100.0</td>\n",
       "      <td>100.0</td>\n",
       "      <td>99.0</td>\n",
       "      <td>100.0</td>\n",
       "      <td>100.0</td>\n",
       "      <td>100</td>\n",
       "      <td>100</td>\n",
       "      <td>98</td>\n",
       "      <td>100.0</td>\n",
       "      <td>100.0</td>\n",
       "      <td>100</td>\n",
       "      <td>100.0</td>\n",
       "      <td>98.0</td>\n",
       "      <td>100.0</td>\n",
       "      <td>100.0</td>\n",
       "    </tr>\n",
       "    <tr>\n",
       "      <th>2271</th>\n",
       "      <td>2272</td>\n",
       "      <td>Town</td>\n",
       "      <td>Hillary Clinton</td>\n",
       "      <td>False</td>\n",
       "      <td>Someone else</td>\n",
       "      <td>jobs and homeless and Police just shoting norm...</td>\n",
       "      <td>Extremely worried</td>\n",
       "      <td>Conservative</td>\n",
       "      <td>Democrat</td>\n",
       "      <td>Favor a great deal</td>\n",
       "      <td>Favor strongly</td>\n",
       "      <td>Favor a great deal</td>\n",
       "      <td>Favor a great deal</td>\n",
       "      <td>White</td>\n",
       "      <td>1980</td>\n",
       "      <td>Male</td>\n",
       "      <td>Some college</td>\n",
       "      <td>1.05546596271457</td>\n",
       "      <td>100.0</td>\n",
       "      <td>78.0</td>\n",
       "      <td>100.0</td>\n",
       "      <td>58.0</td>\n",
       "      <td>29.0</td>\n",
       "      <td>5.0</td>\n",
       "      <td>100.0</td>\n",
       "      <td>90.0</td>\n",
       "      <td>94.0</td>\n",
       "      <td>89.0</td>\n",
       "      <td>9.0</td>\n",
       "      <td>88.0</td>\n",
       "      <td>89.0</td>\n",
       "      <td>86</td>\n",
       "      <td>86.0</td>\n",
       "      <td>79.0</td>\n",
       "      <td>79.0</td>\n",
       "      <td>69.0</td>\n",
       "      <td>68</td>\n",
       "      <td>27.0</td>\n",
       "      <td>57.0</td>\n",
       "      <td>7.0</td>\n",
       "      <td>9.0</td>\n",
       "      <td>8.0</td>\n",
       "      <td>68</td>\n",
       "      <td>10</td>\n",
       "      <td>77</td>\n",
       "      <td>5.0</td>\n",
       "      <td>8.0</td>\n",
       "      <td>62</td>\n",
       "      <td>95.0</td>\n",
       "      <td>9.0</td>\n",
       "      <td>78.0</td>\n",
       "      <td>88.0</td>\n",
       "    </tr>\n",
       "    <tr>\n",
       "      <th>2408</th>\n",
       "      <td>2409</td>\n",
       "      <td>City</td>\n",
       "      <td>Did not vote</td>\n",
       "      <td>False</td>\n",
       "      <td>Joe Biden</td>\n",
       "      <td>Not being the best number one country.</td>\n",
       "      <td>Extremely worried</td>\n",
       "      <td>Moderate</td>\n",
       "      <td>Independent</td>\n",
       "      <td>Favor a great deal</td>\n",
       "      <td>Favor strongly</td>\n",
       "      <td>Oppose a great deal</td>\n",
       "      <td>Favor a great deal</td>\n",
       "      <td>Black</td>\n",
       "      <td>1995</td>\n",
       "      <td>Male</td>\n",
       "      <td>Some college</td>\n",
       "      <td>3.47027368867645</td>\n",
       "      <td>100.0</td>\n",
       "      <td>100.0</td>\n",
       "      <td>100.0</td>\n",
       "      <td>99.0</td>\n",
       "      <td>100.0</td>\n",
       "      <td>99.0</td>\n",
       "      <td>100.0</td>\n",
       "      <td>100.0</td>\n",
       "      <td>100.0</td>\n",
       "      <td>100.0</td>\n",
       "      <td>99.0</td>\n",
       "      <td>75.0</td>\n",
       "      <td>2.0</td>\n",
       "      <td>100</td>\n",
       "      <td>100.0</td>\n",
       "      <td>100.0</td>\n",
       "      <td>99.0</td>\n",
       "      <td>99.0</td>\n",
       "      <td>100</td>\n",
       "      <td>100.0</td>\n",
       "      <td>100.0</td>\n",
       "      <td>100.0</td>\n",
       "      <td>100.0</td>\n",
       "      <td>100.0</td>\n",
       "      <td>100</td>\n",
       "      <td>100</td>\n",
       "      <td>100</td>\n",
       "      <td>100.0</td>\n",
       "      <td>100.0</td>\n",
       "      <td>100</td>\n",
       "      <td>100.0</td>\n",
       "      <td>100.0</td>\n",
       "      <td>100.0</td>\n",
       "      <td>100.0</td>\n",
       "    </tr>\n",
       "    <tr>\n",
       "      <th>2721</th>\n",
       "      <td>2722</td>\n",
       "      <td>Rural</td>\n",
       "      <td>Hillary Clinton</td>\n",
       "      <td>True</td>\n",
       "      <td>Joe Biden</td>\n",
       "      <td>Racism</td>\n",
       "      <td>Extremely worried</td>\n",
       "      <td>Liberal</td>\n",
       "      <td>Democrat</td>\n",
       "      <td>Favor a great deal</td>\n",
       "      <td>Favor strongly</td>\n",
       "      <td>Favor a great deal</td>\n",
       "      <td>Favor a great deal</td>\n",
       "      <td>Black</td>\n",
       "      <td>1990</td>\n",
       "      <td>Male</td>\n",
       "      <td>High school graduate</td>\n",
       "      <td>2.13773400773957</td>\n",
       "      <td>100.0</td>\n",
       "      <td>98.0</td>\n",
       "      <td>100.0</td>\n",
       "      <td>98.0</td>\n",
       "      <td>99.0</td>\n",
       "      <td>79.0</td>\n",
       "      <td>99.0</td>\n",
       "      <td>100.0</td>\n",
       "      <td>98.0</td>\n",
       "      <td>85.0</td>\n",
       "      <td>82.0</td>\n",
       "      <td>84.0</td>\n",
       "      <td>94.0</td>\n",
       "      <td>90</td>\n",
       "      <td>91.0</td>\n",
       "      <td>97.0</td>\n",
       "      <td>97.0</td>\n",
       "      <td>92.0</td>\n",
       "      <td>88</td>\n",
       "      <td>92.0</td>\n",
       "      <td>97.0</td>\n",
       "      <td>94.0</td>\n",
       "      <td>94.0</td>\n",
       "      <td>88.0</td>\n",
       "      <td>92</td>\n",
       "      <td>93</td>\n",
       "      <td>94</td>\n",
       "      <td>86.0</td>\n",
       "      <td>96.0</td>\n",
       "      <td>88</td>\n",
       "      <td>93.0</td>\n",
       "      <td>94.0</td>\n",
       "      <td>89.0</td>\n",
       "      <td>93.0</td>\n",
       "    </tr>\n",
       "  </tbody>\n",
       "</table>\n",
       "</div>"
      ],
      "text/plain": [
       "      caseid liveurban           vote16  protest          vote  \\\n",
       "267      268      City     Donald Trump    False  Donald Trump   \n",
       "1526    1527      City     Donald Trump    False  Donald Trump   \n",
       "1971    1972     Rural     Did not vote    False     Joe Biden   \n",
       "2271    2272      Town  Hillary Clinton    False  Someone else   \n",
       "2408    2409      City     Did not vote    False     Joe Biden   \n",
       "2721    2722     Rural  Hillary Clinton     True     Joe Biden   \n",
       "\n",
       "                                   most_important_issue            confecon  \\\n",
       "267                                          Education.    A little worried   \n",
       "1526                                         EVERYTHING  Not at all worried   \n",
       "1971                                           Proverty  Moderately worried   \n",
       "2271  jobs and homeless and Police just shoting norm...   Extremely worried   \n",
       "2408             Not being the best number one country.   Extremely worried   \n",
       "2721                                             Racism   Extremely worried   \n",
       "\n",
       "          ideology      partyID          universal_income  \\\n",
       "267   Conservative   Republican            Favor a little   \n",
       "1526  Conservative   Republican        Favor a great deal   \n",
       "1971           NaN   Republican  Neither favor nor oppose   \n",
       "2271  Conservative     Democrat        Favor a great deal   \n",
       "2408      Moderate  Independent        Favor a great deal   \n",
       "2721       Liberal     Democrat        Favor a great deal   \n",
       "\n",
       "               family_separation              free_college  \\\n",
       "267              Oppose somewhat            Favor a little   \n",
       "1526  Neither favor nor disagree  Neither favor nor oppose   \n",
       "1971             Oppose strongly        Favor a great deal   \n",
       "2271              Favor strongly        Favor a great deal   \n",
       "2408              Favor strongly       Oppose a great deal   \n",
       "2721              Favor strongly        Favor a great deal   \n",
       "\n",
       "                 forgive_loans   race  birthyr     sex             education  \\\n",
       "267         Favor a great deal  White     1959  Female         Post-graduate   \n",
       "1526  Neither favor nor oppose  White     1956    Male  High school graduate   \n",
       "1971        Favor a great deal  White     1993  Female         2-year degree   \n",
       "2271        Favor a great deal  White     1980    Male          Some college   \n",
       "2408        Favor a great deal  Black     1995    Male          Some college   \n",
       "2721        Favor a great deal  Black     1990    Male  High school graduate   \n",
       "\n",
       "                weight  fttrump  ftobama  ftbiden  ftwarren  ftsanders  \\\n",
       "267   .746904935636401    100.0      0.0    100.0       1.0        4.0   \n",
       "1526  .847649185791497    100.0     99.0    100.0      71.0       81.0   \n",
       "1971  .872100489544827    100.0     99.0    100.0      66.0      100.0   \n",
       "2271  1.05546596271457    100.0     78.0    100.0      58.0       29.0   \n",
       "2408  3.47027368867645    100.0    100.0    100.0      99.0      100.0   \n",
       "2721  2.13773400773957    100.0     98.0    100.0      98.0       99.0   \n",
       "\n",
       "      ftbuttigieg  ftharris  ftblack  ftwhite  fthisp  ftasian  ftmuslim  \\\n",
       "267           NaN       NaN     70.0     90.0    61.0     63.0      15.0   \n",
       "1526         80.0      90.0     99.0    100.0    95.0     91.0      82.0   \n",
       "1971         60.0      57.0    100.0    100.0   100.0    100.0     100.0   \n",
       "2271          5.0     100.0     90.0     94.0    89.0      9.0      88.0   \n",
       "2408         99.0     100.0    100.0    100.0   100.0     99.0      75.0   \n",
       "2721         79.0      99.0    100.0     98.0    85.0     82.0      84.0   \n",
       "\n",
       "      ftillegal  ftjournal  ftnato   ftun  ftice  ftnra  ftchina  ftnkorea  \\\n",
       "267         6.0         21    48.0   36.0   49.0   43.0       50      50.0   \n",
       "1526       50.0         98    94.0   89.0   96.0   99.0       71      70.0   \n",
       "1971      100.0         53   100.0   67.0  100.0  100.0      100     100.0   \n",
       "2271       89.0         86    86.0   79.0   79.0   69.0       68      27.0   \n",
       "2408        2.0        100   100.0  100.0   99.0   99.0      100     100.0   \n",
       "2721       94.0         90    91.0   97.0   97.0   92.0       88      92.0   \n",
       "\n",
       "      ftmexico  ftsaudi  ftukraine  ftiran  ftbritain  ftgermany  ftjapan  \\\n",
       "267       43.0     39.0       60.0    43.0         58         40       63   \n",
       "1526      78.0     68.0       69.0    47.0         85         77       83   \n",
       "1971     100.0     99.0      100.0   100.0        100        100       98   \n",
       "2271      57.0      7.0        9.0     8.0         68         10       77   \n",
       "2408     100.0    100.0      100.0   100.0        100        100      100   \n",
       "2721      97.0     94.0       94.0    88.0         92         93       94   \n",
       "\n",
       "      ftisrael  ftfrance  ftcanada  ftturkey  ftrussia  ftpales  ftimmig  \n",
       "267       90.0      69.0        53      53.0      56.0     54.0     16.0  \n",
       "1526      57.0     100.0       100      91.0      88.0     76.0     99.0  \n",
       "1971     100.0     100.0       100     100.0      98.0    100.0    100.0  \n",
       "2271       5.0       8.0        62      95.0       9.0     78.0     88.0  \n",
       "2408     100.0     100.0       100     100.0     100.0    100.0    100.0  \n",
       "2721      86.0      96.0        88      93.0      94.0     89.0     93.0  "
      ]
     },
     "execution_count": 696,
     "metadata": {},
     "output_type": "execute_result"
    }
   ],
   "source": [
    "df_clean.query('ftbiden == 100 & fttrump == 100')"
   ]
  },
  {
   "cell_type": "markdown",
   "metadata": {},
   "source": [
    "Interesting, these 6 people rated Joe Biden 100 and Trump 100 at the same time. 2 of them voted for Trump while 3 of them voted for Biden."
   ]
  },
  {
   "cell_type": "code",
   "execution_count": 43,
   "metadata": {},
   "outputs": [
    {
     "data": {
      "text/html": [
       "<div>\n",
       "<style scoped>\n",
       "    .dataframe tbody tr th:only-of-type {\n",
       "        vertical-align: middle;\n",
       "    }\n",
       "\n",
       "    .dataframe tbody tr th {\n",
       "        vertical-align: top;\n",
       "    }\n",
       "\n",
       "    .dataframe thead th {\n",
       "        text-align: right;\n",
       "    }\n",
       "</style>\n",
       "<table border=\"1\" class=\"dataframe\">\n",
       "  <thead>\n",
       "    <tr style=\"text-align: right;\">\n",
       "      <th></th>\n",
       "      <th>caseid</th>\n",
       "      <th>liveurban</th>\n",
       "      <th>vote16</th>\n",
       "      <th>protest</th>\n",
       "      <th>vote</th>\n",
       "      <th>most_important_issue</th>\n",
       "      <th>confecon</th>\n",
       "      <th>ideology</th>\n",
       "      <th>partyID</th>\n",
       "      <th>universal_income</th>\n",
       "      <th>family_separation</th>\n",
       "      <th>free_college</th>\n",
       "      <th>forgive_loans</th>\n",
       "      <th>race</th>\n",
       "      <th>birthyr</th>\n",
       "      <th>sex</th>\n",
       "      <th>education</th>\n",
       "      <th>weight</th>\n",
       "      <th>fttrump</th>\n",
       "      <th>ftobama</th>\n",
       "      <th>ftbiden</th>\n",
       "      <th>ftwarren</th>\n",
       "      <th>ftsanders</th>\n",
       "      <th>ftbuttigieg</th>\n",
       "      <th>ftharris</th>\n",
       "      <th>ftblack</th>\n",
       "      <th>ftwhite</th>\n",
       "      <th>fthisp</th>\n",
       "      <th>ftasian</th>\n",
       "      <th>ftmuslim</th>\n",
       "      <th>ftillegal</th>\n",
       "      <th>ftjournal</th>\n",
       "      <th>ftnato</th>\n",
       "      <th>ftun</th>\n",
       "      <th>ftice</th>\n",
       "      <th>ftnra</th>\n",
       "      <th>ftchina</th>\n",
       "      <th>ftnkorea</th>\n",
       "      <th>ftmexico</th>\n",
       "      <th>ftsaudi</th>\n",
       "      <th>ftukraine</th>\n",
       "      <th>ftiran</th>\n",
       "      <th>ftbritain</th>\n",
       "      <th>ftgermany</th>\n",
       "      <th>ftjapan</th>\n",
       "      <th>ftisrael</th>\n",
       "      <th>ftfrance</th>\n",
       "      <th>ftcanada</th>\n",
       "      <th>ftturkey</th>\n",
       "      <th>ftrussia</th>\n",
       "      <th>ftpales</th>\n",
       "      <th>ftimmig</th>\n",
       "    </tr>\n",
       "  </thead>\n",
       "  <tbody>\n",
       "    <tr>\n",
       "      <th>117</th>\n",
       "      <td>118</td>\n",
       "      <td>Rural</td>\n",
       "      <td>Did not vote</td>\n",
       "      <td>False</td>\n",
       "      <td>Joe Biden</td>\n",
       "      <td>Holding on to our Democracy is our most pressi...</td>\n",
       "      <td>Extremely worried</td>\n",
       "      <td>Moderate</td>\n",
       "      <td>Democrat</td>\n",
       "      <td>Favor a great deal</td>\n",
       "      <td>Oppose strongly</td>\n",
       "      <td>Favor a moderate amount</td>\n",
       "      <td>Favor a great deal</td>\n",
       "      <td>Black</td>\n",
       "      <td>1949</td>\n",
       "      <td>Male</td>\n",
       "      <td>2-year degree</td>\n",
       "      <td>1.04281941711299</td>\n",
       "      <td>50.0</td>\n",
       "      <td>98.0</td>\n",
       "      <td>96.0</td>\n",
       "      <td>91.0</td>\n",
       "      <td>90.0</td>\n",
       "      <td>88.0</td>\n",
       "      <td>86.0</td>\n",
       "      <td>91.0</td>\n",
       "      <td>90.0</td>\n",
       "      <td>90.0</td>\n",
       "      <td>90.0</td>\n",
       "      <td>87.0</td>\n",
       "      <td>89.0</td>\n",
       "      <td>95</td>\n",
       "      <td>100.0</td>\n",
       "      <td>100.0</td>\n",
       "      <td>60.0</td>\n",
       "      <td>50.0</td>\n",
       "      <td>77</td>\n",
       "      <td>50.0</td>\n",
       "      <td>91.0</td>\n",
       "      <td>50.0</td>\n",
       "      <td>91.0</td>\n",
       "      <td>72.0</td>\n",
       "      <td>93</td>\n",
       "      <td>85</td>\n",
       "      <td>83</td>\n",
       "      <td>81.0</td>\n",
       "      <td>94.0</td>\n",
       "      <td>91</td>\n",
       "      <td>71.0</td>\n",
       "      <td>40.0</td>\n",
       "      <td>83.0</td>\n",
       "      <td>91.0</td>\n",
       "    </tr>\n",
       "    <tr>\n",
       "      <th>167</th>\n",
       "      <td>168</td>\n",
       "      <td>Rural</td>\n",
       "      <td>Someone else</td>\n",
       "      <td>False</td>\n",
       "      <td>Joe Biden</td>\n",
       "      <td>Trumpism</td>\n",
       "      <td>Extremely worried</td>\n",
       "      <td>Liberal</td>\n",
       "      <td>Democrat</td>\n",
       "      <td>Favor a moderate amount</td>\n",
       "      <td>Oppose strongly</td>\n",
       "      <td>Favor a great deal</td>\n",
       "      <td>Favor a great deal</td>\n",
       "      <td>White</td>\n",
       "      <td>1942</td>\n",
       "      <td>Male</td>\n",
       "      <td>High school graduate</td>\n",
       "      <td>.56925888192293</td>\n",
       "      <td>0.0</td>\n",
       "      <td>70.0</td>\n",
       "      <td>60.0</td>\n",
       "      <td>70.0</td>\n",
       "      <td>70.0</td>\n",
       "      <td>60.0</td>\n",
       "      <td>60.0</td>\n",
       "      <td>60.0</td>\n",
       "      <td>40.0</td>\n",
       "      <td>70.0</td>\n",
       "      <td>60.0</td>\n",
       "      <td>60.0</td>\n",
       "      <td>60.0</td>\n",
       "      <td>95</td>\n",
       "      <td>70.0</td>\n",
       "      <td>80.0</td>\n",
       "      <td>20.0</td>\n",
       "      <td>10.0</td>\n",
       "      <td>30</td>\n",
       "      <td>10.0</td>\n",
       "      <td>90.0</td>\n",
       "      <td>10.0</td>\n",
       "      <td>85.0</td>\n",
       "      <td>10.0</td>\n",
       "      <td>70</td>\n",
       "      <td>70</td>\n",
       "      <td>60</td>\n",
       "      <td>20.0</td>\n",
       "      <td>80.0</td>\n",
       "      <td>90</td>\n",
       "      <td>20.0</td>\n",
       "      <td>10.0</td>\n",
       "      <td>80.0</td>\n",
       "      <td>85.0</td>\n",
       "    </tr>\n",
       "    <tr>\n",
       "      <th>300</th>\n",
       "      <td>301</td>\n",
       "      <td>Rural</td>\n",
       "      <td>Hillary Clinton</td>\n",
       "      <td>False</td>\n",
       "      <td>Joe Biden</td>\n",
       "      <td>Women's equality</td>\n",
       "      <td>Extremely worried</td>\n",
       "      <td>Liberal</td>\n",
       "      <td>Democrat</td>\n",
       "      <td>Oppse a great deal</td>\n",
       "      <td>Oppose strongly</td>\n",
       "      <td>Neither favor nor oppose</td>\n",
       "      <td>Favor a great deal</td>\n",
       "      <td>White</td>\n",
       "      <td>1943</td>\n",
       "      <td>Male</td>\n",
       "      <td>4-year degree</td>\n",
       "      <td>1.02441840964603</td>\n",
       "      <td>3.0</td>\n",
       "      <td>98.0</td>\n",
       "      <td>70.0</td>\n",
       "      <td>59.0</td>\n",
       "      <td>63.0</td>\n",
       "      <td>76.0</td>\n",
       "      <td>84.0</td>\n",
       "      <td>65.0</td>\n",
       "      <td>63.0</td>\n",
       "      <td>64.0</td>\n",
       "      <td>60.0</td>\n",
       "      <td>64.0</td>\n",
       "      <td>62.0</td>\n",
       "      <td>70</td>\n",
       "      <td>83.0</td>\n",
       "      <td>50.0</td>\n",
       "      <td>11.0</td>\n",
       "      <td>2.0</td>\n",
       "      <td>48</td>\n",
       "      <td>7.0</td>\n",
       "      <td>71.0</td>\n",
       "      <td>3.0</td>\n",
       "      <td>80.0</td>\n",
       "      <td>20.0</td>\n",
       "      <td>99</td>\n",
       "      <td>81</td>\n",
       "      <td>67</td>\n",
       "      <td>38.0</td>\n",
       "      <td>71.0</td>\n",
       "      <td>96</td>\n",
       "      <td>13.0</td>\n",
       "      <td>3.0</td>\n",
       "      <td>79.0</td>\n",
       "      <td>64.0</td>\n",
       "    </tr>\n",
       "    <tr>\n",
       "      <th>1872</th>\n",
       "      <td>1873</td>\n",
       "      <td>Rural</td>\n",
       "      <td>Hillary Clinton</td>\n",
       "      <td>False</td>\n",
       "      <td>Joe Biden</td>\n",
       "      <td>DONALD TRUMP!</td>\n",
       "      <td>Extremely worried</td>\n",
       "      <td>Conservative</td>\n",
       "      <td>Democrat</td>\n",
       "      <td>Oppse a great deal</td>\n",
       "      <td>Oppose somewhat</td>\n",
       "      <td>Favor a great deal</td>\n",
       "      <td>Favor a great deal</td>\n",
       "      <td>Other</td>\n",
       "      <td>1949</td>\n",
       "      <td>Male</td>\n",
       "      <td>4-year degree</td>\n",
       "      <td>1.62469079796581</td>\n",
       "      <td>3.0</td>\n",
       "      <td>100.0</td>\n",
       "      <td>71.0</td>\n",
       "      <td>69.0</td>\n",
       "      <td>51.0</td>\n",
       "      <td>89.0</td>\n",
       "      <td>41.0</td>\n",
       "      <td>51.0</td>\n",
       "      <td>50.0</td>\n",
       "      <td>40.0</td>\n",
       "      <td>71.0</td>\n",
       "      <td>61.0</td>\n",
       "      <td>81.0</td>\n",
       "      <td>99</td>\n",
       "      <td>90.0</td>\n",
       "      <td>90.0</td>\n",
       "      <td>50.0</td>\n",
       "      <td>5.0</td>\n",
       "      <td>50</td>\n",
       "      <td>5.0</td>\n",
       "      <td>3.0</td>\n",
       "      <td>11.0</td>\n",
       "      <td>22.0</td>\n",
       "      <td>6.0</td>\n",
       "      <td>100</td>\n",
       "      <td>60</td>\n",
       "      <td>53</td>\n",
       "      <td>21.0</td>\n",
       "      <td>91.0</td>\n",
       "      <td>96</td>\n",
       "      <td>20.0</td>\n",
       "      <td>33.0</td>\n",
       "      <td>52.0</td>\n",
       "      <td>62.0</td>\n",
       "    </tr>\n",
       "    <tr>\n",
       "      <th>2057</th>\n",
       "      <td>2058</td>\n",
       "      <td>Rural</td>\n",
       "      <td>Did not vote</td>\n",
       "      <td>False</td>\n",
       "      <td>Someone else</td>\n",
       "      <td>The destruction of the planet</td>\n",
       "      <td>Extremely worried</td>\n",
       "      <td>Liberal</td>\n",
       "      <td>Independent</td>\n",
       "      <td>oppose a little</td>\n",
       "      <td>Oppose strongly</td>\n",
       "      <td>Favor a great deal</td>\n",
       "      <td>Favor a great deal</td>\n",
       "      <td>White</td>\n",
       "      <td>1943</td>\n",
       "      <td>Male</td>\n",
       "      <td>High school graduate</td>\n",
       "      <td>.827305943187592</td>\n",
       "      <td>0.0</td>\n",
       "      <td>50.0</td>\n",
       "      <td>0.0</td>\n",
       "      <td>28.0</td>\n",
       "      <td>100.0</td>\n",
       "      <td>30.0</td>\n",
       "      <td>30.0</td>\n",
       "      <td>100.0</td>\n",
       "      <td>20.0</td>\n",
       "      <td>100.0</td>\n",
       "      <td>100.0</td>\n",
       "      <td>90.0</td>\n",
       "      <td>30.0</td>\n",
       "      <td>100</td>\n",
       "      <td>0.0</td>\n",
       "      <td>1.0</td>\n",
       "      <td>0.0</td>\n",
       "      <td>0.0</td>\n",
       "      <td>71</td>\n",
       "      <td>11.0</td>\n",
       "      <td>89.0</td>\n",
       "      <td>0.0</td>\n",
       "      <td>51.0</td>\n",
       "      <td>22.0</td>\n",
       "      <td>100</td>\n",
       "      <td>100</td>\n",
       "      <td>100</td>\n",
       "      <td>49.0</td>\n",
       "      <td>81.0</td>\n",
       "      <td>97</td>\n",
       "      <td>20.0</td>\n",
       "      <td>50.0</td>\n",
       "      <td>100.0</td>\n",
       "      <td>100.0</td>\n",
       "    </tr>\n",
       "    <tr>\n",
       "      <th>2093</th>\n",
       "      <td>2094</td>\n",
       "      <td>Rural</td>\n",
       "      <td>Hillary Clinton</td>\n",
       "      <td>False</td>\n",
       "      <td>Joe Biden</td>\n",
       "      <td>Guns and meds</td>\n",
       "      <td>Extremely worried</td>\n",
       "      <td>Moderate</td>\n",
       "      <td>Democrat</td>\n",
       "      <td>oppose a little</td>\n",
       "      <td>Oppose somewhat</td>\n",
       "      <td>Oppose a great deal</td>\n",
       "      <td>Oppose a great deal</td>\n",
       "      <td>White</td>\n",
       "      <td>1948</td>\n",
       "      <td>Female</td>\n",
       "      <td>High school graduate</td>\n",
       "      <td>.984520079262263</td>\n",
       "      <td>41.0</td>\n",
       "      <td>52.0</td>\n",
       "      <td>90.0</td>\n",
       "      <td>59.0</td>\n",
       "      <td>58.0</td>\n",
       "      <td>45.0</td>\n",
       "      <td>51.0</td>\n",
       "      <td>31.0</td>\n",
       "      <td>85.0</td>\n",
       "      <td>28.0</td>\n",
       "      <td>31.0</td>\n",
       "      <td>23.0</td>\n",
       "      <td>13.0</td>\n",
       "      <td>43</td>\n",
       "      <td>56.0</td>\n",
       "      <td>73.0</td>\n",
       "      <td>54.0</td>\n",
       "      <td>42.0</td>\n",
       "      <td>26</td>\n",
       "      <td>25.0</td>\n",
       "      <td>9.0</td>\n",
       "      <td>36.0</td>\n",
       "      <td>22.0</td>\n",
       "      <td>19.0</td>\n",
       "      <td>40</td>\n",
       "      <td>47</td>\n",
       "      <td>32</td>\n",
       "      <td>32.0</td>\n",
       "      <td>43.0</td>\n",
       "      <td>66</td>\n",
       "      <td>33.0</td>\n",
       "      <td>18.0</td>\n",
       "      <td>33.0</td>\n",
       "      <td>41.0</td>\n",
       "    </tr>\n",
       "    <tr>\n",
       "      <th>2106</th>\n",
       "      <td>2107</td>\n",
       "      <td>Rural</td>\n",
       "      <td>Donald Trump</td>\n",
       "      <td>False</td>\n",
       "      <td>Donald Trump</td>\n",
       "      <td>Dem-os</td>\n",
       "      <td>Extremely worried</td>\n",
       "      <td>Moderate</td>\n",
       "      <td>Republican</td>\n",
       "      <td>Favor a great deal</td>\n",
       "      <td>Oppose strongly</td>\n",
       "      <td>Oppose a great deal</td>\n",
       "      <td>Oppose a great deal</td>\n",
       "      <td>White</td>\n",
       "      <td>1948</td>\n",
       "      <td>Female</td>\n",
       "      <td>High school graduate</td>\n",
       "      <td>.954396916008379</td>\n",
       "      <td>100.0</td>\n",
       "      <td>0.0</td>\n",
       "      <td>0.0</td>\n",
       "      <td>0.0</td>\n",
       "      <td>0.0</td>\n",
       "      <td>0.0</td>\n",
       "      <td>0.0</td>\n",
       "      <td>0.0</td>\n",
       "      <td>51.0</td>\n",
       "      <td>0.0</td>\n",
       "      <td>0.0</td>\n",
       "      <td>0.0</td>\n",
       "      <td>0.0</td>\n",
       "      <td>20</td>\n",
       "      <td>0.0</td>\n",
       "      <td>52.0</td>\n",
       "      <td>21.0</td>\n",
       "      <td>72.0</td>\n",
       "      <td>0</td>\n",
       "      <td>0.0</td>\n",
       "      <td>11.0</td>\n",
       "      <td>0.0</td>\n",
       "      <td>0.0</td>\n",
       "      <td>0.0</td>\n",
       "      <td>5</td>\n",
       "      <td>11</td>\n",
       "      <td>0</td>\n",
       "      <td>0.0</td>\n",
       "      <td>11.0</td>\n",
       "      <td>21</td>\n",
       "      <td>6.0</td>\n",
       "      <td>0.0</td>\n",
       "      <td>0.0</td>\n",
       "      <td>0.0</td>\n",
       "    </tr>\n",
       "    <tr>\n",
       "      <th>2136</th>\n",
       "      <td>2137</td>\n",
       "      <td>Rural</td>\n",
       "      <td>Hillary Clinton</td>\n",
       "      <td>False</td>\n",
       "      <td>Joe Biden</td>\n",
       "      <td>wealthy not paying a fair share of taxes so bu...</td>\n",
       "      <td>Extremely worried</td>\n",
       "      <td>Moderate</td>\n",
       "      <td>Democrat</td>\n",
       "      <td>oppose a little</td>\n",
       "      <td>Oppose strongly</td>\n",
       "      <td>Favor a great deal</td>\n",
       "      <td>Favor a great deal</td>\n",
       "      <td>White</td>\n",
       "      <td>1949</td>\n",
       "      <td>Female</td>\n",
       "      <td>High school graduate</td>\n",
       "      <td>1.02515128827396</td>\n",
       "      <td>0.0</td>\n",
       "      <td>100.0</td>\n",
       "      <td>89.0</td>\n",
       "      <td>50.0</td>\n",
       "      <td>91.0</td>\n",
       "      <td>51.0</td>\n",
       "      <td>49.0</td>\n",
       "      <td>57.0</td>\n",
       "      <td>58.0</td>\n",
       "      <td>7.0</td>\n",
       "      <td>6.0</td>\n",
       "      <td>5.0</td>\n",
       "      <td>0.0</td>\n",
       "      <td>34</td>\n",
       "      <td>1.0</td>\n",
       "      <td>1.0</td>\n",
       "      <td>1.0</td>\n",
       "      <td>2.0</td>\n",
       "      <td>0</td>\n",
       "      <td>0.0</td>\n",
       "      <td>1.0</td>\n",
       "      <td>0.0</td>\n",
       "      <td>1.0</td>\n",
       "      <td>0.0</td>\n",
       "      <td>0</td>\n",
       "      <td>0</td>\n",
       "      <td>0</td>\n",
       "      <td>0.0</td>\n",
       "      <td>0.0</td>\n",
       "      <td>3</td>\n",
       "      <td>1.0</td>\n",
       "      <td>0.0</td>\n",
       "      <td>0.0</td>\n",
       "      <td>1.0</td>\n",
       "    </tr>\n",
       "  </tbody>\n",
       "</table>\n",
       "</div>"
      ],
      "text/plain": [
       "      caseid liveurban           vote16  protest          vote  \\\n",
       "117      118     Rural     Did not vote    False     Joe Biden   \n",
       "167      168     Rural     Someone else    False     Joe Biden   \n",
       "300      301     Rural  Hillary Clinton    False     Joe Biden   \n",
       "1872    1873     Rural  Hillary Clinton    False     Joe Biden   \n",
       "2057    2058     Rural     Did not vote    False  Someone else   \n",
       "2093    2094     Rural  Hillary Clinton    False     Joe Biden   \n",
       "2106    2107     Rural     Donald Trump    False  Donald Trump   \n",
       "2136    2137     Rural  Hillary Clinton    False     Joe Biden   \n",
       "\n",
       "                                   most_important_issue           confecon  \\\n",
       "117   Holding on to our Democracy is our most pressi...  Extremely worried   \n",
       "167                                            Trumpism  Extremely worried   \n",
       "300                                    Women's equality  Extremely worried   \n",
       "1872                                      DONALD TRUMP!  Extremely worried   \n",
       "2057                      The destruction of the planet  Extremely worried   \n",
       "2093                                      Guns and meds  Extremely worried   \n",
       "2106                                             Dem-os  Extremely worried   \n",
       "2136  wealthy not paying a fair share of taxes so bu...  Extremely worried   \n",
       "\n",
       "          ideology      partyID         universal_income family_separation  \\\n",
       "117       Moderate     Democrat       Favor a great deal   Oppose strongly   \n",
       "167        Liberal     Democrat  Favor a moderate amount   Oppose strongly   \n",
       "300        Liberal     Democrat       Oppse a great deal   Oppose strongly   \n",
       "1872  Conservative     Democrat       Oppse a great deal   Oppose somewhat   \n",
       "2057       Liberal  Independent          oppose a little   Oppose strongly   \n",
       "2093      Moderate     Democrat          oppose a little   Oppose somewhat   \n",
       "2106      Moderate   Republican       Favor a great deal   Oppose strongly   \n",
       "2136      Moderate     Democrat          oppose a little   Oppose strongly   \n",
       "\n",
       "                  free_college        forgive_loans   race  birthyr     sex  \\\n",
       "117    Favor a moderate amount   Favor a great deal  Black     1949    Male   \n",
       "167         Favor a great deal   Favor a great deal  White     1942    Male   \n",
       "300   Neither favor nor oppose   Favor a great deal  White     1943    Male   \n",
       "1872        Favor a great deal   Favor a great deal  Other     1949    Male   \n",
       "2057        Favor a great deal   Favor a great deal  White     1943    Male   \n",
       "2093       Oppose a great deal  Oppose a great deal  White     1948  Female   \n",
       "2106       Oppose a great deal  Oppose a great deal  White     1948  Female   \n",
       "2136        Favor a great deal   Favor a great deal  White     1949  Female   \n",
       "\n",
       "                 education            weight  fttrump  ftobama  ftbiden  \\\n",
       "117          2-year degree  1.04281941711299     50.0     98.0     96.0   \n",
       "167   High school graduate   .56925888192293      0.0     70.0     60.0   \n",
       "300          4-year degree  1.02441840964603      3.0     98.0     70.0   \n",
       "1872         4-year degree  1.62469079796581      3.0    100.0     71.0   \n",
       "2057  High school graduate  .827305943187592      0.0     50.0      0.0   \n",
       "2093  High school graduate  .984520079262263     41.0     52.0     90.0   \n",
       "2106  High school graduate  .954396916008379    100.0      0.0      0.0   \n",
       "2136  High school graduate  1.02515128827396      0.0    100.0     89.0   \n",
       "\n",
       "      ftwarren  ftsanders  ftbuttigieg  ftharris  ftblack  ftwhite  fthisp  \\\n",
       "117       91.0       90.0         88.0      86.0     91.0     90.0    90.0   \n",
       "167       70.0       70.0         60.0      60.0     60.0     40.0    70.0   \n",
       "300       59.0       63.0         76.0      84.0     65.0     63.0    64.0   \n",
       "1872      69.0       51.0         89.0      41.0     51.0     50.0    40.0   \n",
       "2057      28.0      100.0         30.0      30.0    100.0     20.0   100.0   \n",
       "2093      59.0       58.0         45.0      51.0     31.0     85.0    28.0   \n",
       "2106       0.0        0.0          0.0       0.0      0.0     51.0     0.0   \n",
       "2136      50.0       91.0         51.0      49.0     57.0     58.0     7.0   \n",
       "\n",
       "      ftasian  ftmuslim  ftillegal  ftjournal  ftnato   ftun  ftice  ftnra  \\\n",
       "117      90.0      87.0       89.0         95   100.0  100.0   60.0   50.0   \n",
       "167      60.0      60.0       60.0         95    70.0   80.0   20.0   10.0   \n",
       "300      60.0      64.0       62.0         70    83.0   50.0   11.0    2.0   \n",
       "1872     71.0      61.0       81.0         99    90.0   90.0   50.0    5.0   \n",
       "2057    100.0      90.0       30.0        100     0.0    1.0    0.0    0.0   \n",
       "2093     31.0      23.0       13.0         43    56.0   73.0   54.0   42.0   \n",
       "2106      0.0       0.0        0.0         20     0.0   52.0   21.0   72.0   \n",
       "2136      6.0       5.0        0.0         34     1.0    1.0    1.0    2.0   \n",
       "\n",
       "      ftchina  ftnkorea  ftmexico  ftsaudi  ftukraine  ftiran  ftbritain  \\\n",
       "117        77      50.0      91.0     50.0       91.0    72.0         93   \n",
       "167        30      10.0      90.0     10.0       85.0    10.0         70   \n",
       "300        48       7.0      71.0      3.0       80.0    20.0         99   \n",
       "1872       50       5.0       3.0     11.0       22.0     6.0        100   \n",
       "2057       71      11.0      89.0      0.0       51.0    22.0        100   \n",
       "2093       26      25.0       9.0     36.0       22.0    19.0         40   \n",
       "2106        0       0.0      11.0      0.0        0.0     0.0          5   \n",
       "2136        0       0.0       1.0      0.0        1.0     0.0          0   \n",
       "\n",
       "      ftgermany  ftjapan  ftisrael  ftfrance  ftcanada  ftturkey  ftrussia  \\\n",
       "117          85       83      81.0      94.0        91      71.0      40.0   \n",
       "167          70       60      20.0      80.0        90      20.0      10.0   \n",
       "300          81       67      38.0      71.0        96      13.0       3.0   \n",
       "1872         60       53      21.0      91.0        96      20.0      33.0   \n",
       "2057        100      100      49.0      81.0        97      20.0      50.0   \n",
       "2093         47       32      32.0      43.0        66      33.0      18.0   \n",
       "2106         11        0       0.0      11.0        21       6.0       0.0   \n",
       "2136          0        0       0.0       0.0         3       1.0       0.0   \n",
       "\n",
       "      ftpales  ftimmig  \n",
       "117      83.0     91.0  \n",
       "167      80.0     85.0  \n",
       "300      79.0     64.0  \n",
       "1872     52.0     62.0  \n",
       "2057    100.0    100.0  \n",
       "2093     33.0     41.0  \n",
       "2106      0.0      0.0  \n",
       "2136      0.0      1.0  "
      ]
     },
     "execution_count": 43,
     "metadata": {},
     "output_type": "execute_result"
    }
   ],
   "source": [
    "df_clean.query(\"confecon == 'Extremely worried' & liveurban == 'Rural' & birthyr < 1950\")"
   ]
  },
  {
   "cell_type": "markdown",
   "metadata": {},
   "source": [
    "Want to see all of the voters that were extremely worried about the economy and live in rural areas and were born prior to 1950. There were 8 voters in this category and only 1 voted for Trump, and 6 voted for Biden."
   ]
  },
  {
   "cell_type": "markdown",
   "metadata": {},
   "source": [
    "## Likability"
   ]
  },
  {
   "cell_type": "code",
   "execution_count": 703,
   "metadata": {},
   "outputs": [
    {
     "data": {
      "text/plain": [
       "like       0.535881\n",
       "neutral    0.361934\n",
       "dislike    0.102184\n",
       "Name: ftbiden_level, dtype: float64"
      ]
     },
     "execution_count": 703,
     "metadata": {},
     "output_type": "execute_result"
    }
   ],
   "source": [
    "df_clean['ftbiden_level'] = pd.cut(df_clean['ftbiden'], bins=[-0.1, 40, 70, 100], labels=('dislike', 'neutral', 'like'))\n",
    "df_clean.loc[df_clean['vote'] == 'Joe Biden']['ftbiden_level'].value_counts(normalize=True)"
   ]
  },
  {
   "cell_type": "markdown",
   "metadata": {},
   "source": [
    "Among voters who voted for Biden, 54% liked him, roughly 10% disliked him."
   ]
  },
  {
   "cell_type": "code",
   "execution_count": 704,
   "metadata": {},
   "outputs": [
    {
     "data": {
      "text/plain": [
       "like       0.846336\n",
       "neutral    0.136328\n",
       "dislike    0.017336\n",
       "Name: fttrump_level, dtype: float64"
      ]
     },
     "execution_count": 704,
     "metadata": {},
     "output_type": "execute_result"
    }
   ],
   "source": [
    "df_clean['fttrump_level'] = pd.cut(df_clean['fttrump'], bins=[-0.1, 40, 70, 100], labels=('dislike', 'neutral', 'like'))\n",
    "df_clean.loc[df_clean['vote'] == 'Donald Trump']['fttrump_level'].value_counts(normalize=True)"
   ]
  },
  {
   "cell_type": "markdown",
   "metadata": {},
   "source": [
    "Among voters who voted for Trump, 85% liked him, only 1.7% disliked him."
   ]
  },
  {
   "cell_type": "markdown",
   "metadata": {},
   "source": [
    "## Age"
   ]
  },
  {
   "cell_type": "code",
   "execution_count": 709,
   "metadata": {},
   "outputs": [
    {
     "data": {
      "image/png": "[encoded data removed]",
      "text/plain": [
       "<Figure size 864x576 with 1 Axes>"
      ]
     },
     "metadata": {
      "needs_background": "light"
     },
     "output_type": "display_data"
    }
   ],
   "source": [
    "df_clean = df_clean.assign(age = 2021 - df_clean['birthyr'])\n",
    "df_clean.loc[df_clean['vote'] == 'Donald Trump']['age'].hist(bins=20)\n",
    "sns.despine();"
   ]
  },
  {
   "cell_type": "markdown",
   "metadata": {},
   "source": [
    "Around 60-70 year old were Trump's largest voting age group."
   ]
  },
  {
   "cell_type": "code",
   "execution_count": 710,
   "metadata": {},
   "outputs": [
    {
     "data": {
      "image/png": "[encoded data removed]",
      "text/plain": [
       "<Figure size 864x576 with 1 Axes>"
      ]
     },
     "metadata": {
      "needs_background": "light"
     },
     "output_type": "display_data"
    }
   ],
   "source": [
    "df_clean.loc[df_clean['vote'] == 'Joe Biden']['age'].hist(bins=20)\n",
    "sns.despine();"
   ]
  },
  {
   "cell_type": "markdown",
   "metadata": {},
   "source": [
    "There were more young people voted for Biden."
   ]
  },
  {
   "cell_type": "code",
   "execution_count": 714,
   "metadata": {},
   "outputs": [],
   "source": [
    "catcolumns = ['liveurban', 'vote16', 'protest', 'vote', 'confecon', 'ideology', 'partyID', 'universal_income', \n",
    "              'family_separation', 'free_college', 'forgive_loans', 'race', 'sex', 'education']\n",
    "df_clean[catcolumns] = df_clean[catcolumns].astype('category')"
   ]
  },
  {
   "cell_type": "markdown",
   "metadata": {},
   "source": [
    "## Economy"
   ]
  },
  {
   "cell_type": "code",
   "execution_count": 718,
   "metadata": {},
   "outputs": [
    {
     "data": {
      "text/plain": [
       "True     0.713509\n",
       "False    0.286491\n",
       "Name: worried_econ, dtype: float64"
      ]
     },
     "execution_count": 718,
     "metadata": {},
     "output_type": "execute_result"
    }
   ],
   "source": [
    "df_clean['worried_econ'] = df_clean['confecon'].apply(lambda x: x in \n",
    "                                                      ['Moderately worried', 'Very worried', 'Extremely worried'])\n",
    "df_clean.loc[df_clean['vote'] == 'Joe Biden']['worried_econ'].value_counts(normalize=True)"
   ]
  },
  {
   "cell_type": "markdown",
   "metadata": {},
   "source": [
    "Among Joe Biden's voters, over 71% worried about economy. 29% did not worry about economy."
   ]
  },
  {
   "cell_type": "code",
   "execution_count": 720,
   "metadata": {},
   "outputs": [
    {
     "data": {
      "text/plain": [
       "False    0.813826\n",
       "True     0.186174\n",
       "Name: worried_econ, dtype: float64"
      ]
     },
     "execution_count": 720,
     "metadata": {},
     "output_type": "execute_result"
    }
   ],
   "source": [
    "df_clean.loc[df_clean['vote'] == 'Donald Trump']['worried_econ'].value_counts(normalize=True)"
   ]
  },
  {
   "cell_type": "markdown",
   "metadata": {},
   "source": [
    "Among Trump's voters, only 19% worried about economy, and 81% did not worry about economy."
   ]
  },
  {
   "cell_type": "code",
   "execution_count": 739,
   "metadata": {},
   "outputs": [],
   "source": [
    "df_clean['confecon'] = df_clean['confecon'].cat.reorder_categories(['Not at all worried',\n",
    "                                                                    'A little worried', \n",
    "                                                                    'Moderately worried',\n",
    "                                                                    'Very worried',\n",
    "                                                                    'Extremely worried'])\n",
    "mybars = df_clean['confecon'].value_counts().sort_index()"
   ]
  },
  {
   "cell_type": "code",
   "execution_count": 740,
   "metadata": {},
   "outputs": [
    {
     "data": {
      "image/png": "[encoded data removed]",
      "text/plain": [
       "<Figure size 720x432 with 1 Axes>"
      ]
     },
     "metadata": {
      "needs_background": "light"
     },
     "output_type": "display_data"
    }
   ],
   "source": [
    "plt.figure(figsize=(10, 6))\n",
    "myplot = plt.barh(mybars_df['index'], mybars_df['confecon'])\n",
    "plt.ylabel('Level of worry')\n",
    "plt.xlabel('Number of people')\n",
    "plt.title('Amount of Worry About the Current State of the Economy')\n",
    "for rect in myplot.patches:\n",
    "    xcoor = rect.get_y() + .5*rect.get_height()\n",
    "    ycoor = rect.get_width()\n",
    "    pcent = round(100*ycoor / sum(mybars_df['confecon']), 2)\n",
    "    plt.text(ycoor, xcoor, str(pcent) + '%',\n",
    "             horizontalalignment = 'right', \n",
    "             verticalalignment = 'center',\n",
    "             fontsize = 14, color = 'white');"
   ]
  },
  {
   "cell_type": "markdown",
   "metadata": {},
   "source": [
    "Most voters did not very worry about the state of the economy."
   ]
  },
  {
   "cell_type": "code",
   "execution_count": 741,
   "metadata": {},
   "outputs": [
    {
     "data": {
      "image/png": "[encoded data removed]",
      "text/plain": [
       "<Figure size 864x360 with 1 Axes>"
      ]
     },
     "metadata": {
      "needs_background": "light"
     },
     "output_type": "display_data"
    }
   ],
   "source": [
    "xtab = pd.crosstab(df_clean['confecon'], df_clean['partyID'])\n",
    "myplot = xtab.plot(kind='bar', figsize=(12, 5), color=['b', 'y', 'r'])\n",
    "plt.xlabel('Level of worry')\n",
    "plt.ylabel('Number of people')\n",
    "plt.title('Amount of Worry About the Current State of the Economy')\n",
    "for rect in myplot.patches:\n",
    "    xcoor = rect.get_x() + .5*rect.get_width()\n",
    "    ycoor = rect.get_height()\n",
    "    plt.text(xcoor, ycoor, str(int(ycoor)),\n",
    "             horizontalalignment = 'center',\n",
    "             verticalalignment = 'bottom',\n",
    "             fontsize=10);"
   ]
  },
  {
   "cell_type": "code",
   "execution_count": 744,
   "metadata": {},
   "outputs": [
    {
     "data": {
      "image/png": "[encoded data removed]",
      "text/plain": [
       "<Figure size 864x288 with 3 Axes>"
      ]
     },
     "metadata": {
      "needs_background": "light"
     },
     "output_type": "display_data"
    }
   ],
   "source": [
    "g = sns.FacetGrid(df_plot, col='partyID', hue='partyID',  hue_kws={'color': ['b', 'y', 'r']},\n",
    "                  height=4, aspect=1)\n",
    "g.map(plt.barh, 'confecon', 'count')\n",
    "g.set_titles('{col_name}')\n",
    "g.set_axis_labels('Number of people', 'Level of worry') \n",
    "g.fig.subplots_adjust(top=.8)\n",
    "g.fig.suptitle('Amount of Worry About the Current State of the Economy, by Party', fontsize=14);"
   ]
  },
  {
   "cell_type": "markdown",
   "metadata": {},
   "source": [
    "Republicans were least worry about the state of the economy."
   ]
  },
  {
   "cell_type": "code",
   "execution_count": 745,
   "metadata": {},
   "outputs": [
    {
     "data": {
      "image/png": "[encoded data removed]",
      "text/plain": [
       "<Figure size 648x432 with 6 Axes>"
      ]
     },
     "metadata": {
      "needs_background": "light"
     },
     "output_type": "display_data"
    }
   ],
   "source": [
    "df_plot = df_clean.groupby(['partyID', 'sex', 'confecon']).size().reset_index()\n",
    "df_plot = df_plot.rename(columns={0: 'count'})\n",
    "g = sns.FacetGrid(df_plot, row='sex', col='partyID', hue_kws={'color': ['b', 'y', 'r']}, hue='partyID')\n",
    "g.map(plt.barh, 'confecon', 'count')\n",
    "g.set_titles('{row_name}, {col_name}')\n",
    "g.set_axis_labels('Number of people', 'Level of worry')\n",
    "g.fig.subplots_adjust(top=0.8)\n",
    "g.fig.suptitle('Amount of Worry About the Current State of the Economy, by Party & Gender', fontsize=14);"
   ]
  },
  {
   "cell_type": "markdown",
   "metadata": {},
   "source": [
    "This applies to both male and female."
   ]
  },
  {
   "cell_type": "code",
   "execution_count": 748,
   "metadata": {},
   "outputs": [
    {
     "name": "stderr",
     "output_type": "stream",
     "text": [
      "/opt/tljh/user/lib/python3.6/site-packages/seaborn/axisgrid.py:643: UserWarning:\n",
      "\n",
      "Using the barplot function without specifying `order` is likely to produce an incorrect plot.\n",
      "\n"
     ]
    },
    {
     "data": {
      "image/png": "[encoded data removed]",
      "text/plain": [
       "<Figure size 648x648 with 9 Axes>"
      ]
     },
     "metadata": {
      "needs_background": "light"
     },
     "output_type": "display_data"
    }
   ],
   "source": [
    "df_plot = df_clean\n",
    "df_plot['age_cat'] = pd.cut(df_clean.age, [17,25,35,45,50,55,65,75,85,100])\n",
    "df_plot = df_plot.groupby(['confecon','age_cat']).size().reset_index()\n",
    "df_plot = df_plot.rename({0:'count'}, axis=1)\n",
    "\n",
    "g = sns.FacetGrid(df_plot, col = 'age_cat', col_wrap=3, height=3, aspect=1)\n",
    "g.map(sns.barplot, 'count', 'confecon')\n",
    "g.set_titles('{col_name}')\n",
    "g.set_axis_labels('Number of people', 'Level of worry') \n",
    "g.fig.subplots_adjust(top=.9)\n",
    "g.fig.suptitle('Amount of Worry About the Current State of the Economy, by Age Group', fontsize=14);"
   ]
  },
  {
   "cell_type": "markdown",
   "metadata": {},
   "source": [
    "## Universal basic income"
   ]
  },
  {
   "cell_type": "code",
   "execution_count": 749,
   "metadata": {},
   "outputs": [
    {
     "data": {
      "text/html": [
       "<div>\n",
       "<style scoped>\n",
       "    .dataframe tbody tr th:only-of-type {\n",
       "        vertical-align: middle;\n",
       "    }\n",
       "\n",
       "    .dataframe tbody tr th {\n",
       "        vertical-align: top;\n",
       "    }\n",
       "\n",
       "    .dataframe thead th {\n",
       "        text-align: right;\n",
       "    }\n",
       "</style>\n",
       "<table border=\"1\" class=\"dataframe\">\n",
       "  <thead>\n",
       "    <tr style=\"text-align: right;\">\n",
       "      <th></th>\n",
       "      <th>universal_income</th>\n",
       "      <th>count</th>\n",
       "      <th>percent</th>\n",
       "      <th>cumulative_count</th>\n",
       "      <th>cumulative_percent</th>\n",
       "    </tr>\n",
       "  </thead>\n",
       "  <tbody>\n",
       "    <tr>\n",
       "      <th>0</th>\n",
       "      <td>Oppse a great deal</td>\n",
       "      <td>820</td>\n",
       "      <td>64.414768</td>\n",
       "      <td>820</td>\n",
       "      <td>64.414768</td>\n",
       "    </tr>\n",
       "    <tr>\n",
       "      <th>1</th>\n",
       "      <td>Neither favor nor oppose</td>\n",
       "      <td>135</td>\n",
       "      <td>10.604870</td>\n",
       "      <td>955</td>\n",
       "      <td>75.019639</td>\n",
       "    </tr>\n",
       "    <tr>\n",
       "      <th>2</th>\n",
       "      <td>Oppose a moderate amount</td>\n",
       "      <td>85</td>\n",
       "      <td>6.677141</td>\n",
       "      <td>1040</td>\n",
       "      <td>81.696779</td>\n",
       "    </tr>\n",
       "    <tr>\n",
       "      <th>3</th>\n",
       "      <td>Favor a little</td>\n",
       "      <td>72</td>\n",
       "      <td>5.655931</td>\n",
       "      <td>1112</td>\n",
       "      <td>87.352710</td>\n",
       "    </tr>\n",
       "    <tr>\n",
       "      <th>4</th>\n",
       "      <td>Favor a great deal</td>\n",
       "      <td>60</td>\n",
       "      <td>4.713276</td>\n",
       "      <td>1172</td>\n",
       "      <td>92.065986</td>\n",
       "    </tr>\n",
       "    <tr>\n",
       "      <th>5</th>\n",
       "      <td>Favor a moderate amount</td>\n",
       "      <td>55</td>\n",
       "      <td>4.320503</td>\n",
       "      <td>1227</td>\n",
       "      <td>96.386489</td>\n",
       "    </tr>\n",
       "    <tr>\n",
       "      <th>6</th>\n",
       "      <td>oppose a little</td>\n",
       "      <td>46</td>\n",
       "      <td>3.613511</td>\n",
       "      <td>1273</td>\n",
       "      <td>100.000000</td>\n",
       "    </tr>\n",
       "  </tbody>\n",
       "</table>\n",
       "</div>"
      ],
      "text/plain": [
       "           universal_income  count    percent  cumulative_count  \\\n",
       "0        Oppse a great deal    820  64.414768               820   \n",
       "1  Neither favor nor oppose    135  10.604870               955   \n",
       "2  Oppose a moderate amount     85   6.677141              1040   \n",
       "3            Favor a little     72   5.655931              1112   \n",
       "4        Favor a great deal     60   4.713276              1172   \n",
       "5   Favor a moderate amount     55   4.320503              1227   \n",
       "6           oppose a little     46   3.613511              1273   \n",
       "\n",
       "   cumulative_percent  \n",
       "0           64.414768  \n",
       "1           75.019639  \n",
       "2           81.696779  \n",
       "3           87.352710  \n",
       "4           92.065986  \n",
       "5           96.386489  \n",
       "6          100.000000  "
      ]
     },
     "execution_count": 749,
     "metadata": {},
     "output_type": "execute_result"
    }
   ],
   "source": [
    "df_clean.loc[df_clean['vote'] == 'Donald Trump'].stb.freq(['universal_income'])"
   ]
  },
  {
   "cell_type": "markdown",
   "metadata": {},
   "source": [
    "Trump's voters tend to strongly oppose universal basic income."
   ]
  },
  {
   "cell_type": "code",
   "execution_count": 750,
   "metadata": {},
   "outputs": [
    {
     "data": {
      "text/html": [
       "<div>\n",
       "<style scoped>\n",
       "    .dataframe tbody tr th:only-of-type {\n",
       "        vertical-align: middle;\n",
       "    }\n",
       "\n",
       "    .dataframe tbody tr th {\n",
       "        vertical-align: top;\n",
       "    }\n",
       "\n",
       "    .dataframe thead th {\n",
       "        text-align: right;\n",
       "    }\n",
       "</style>\n",
       "<table border=\"1\" class=\"dataframe\">\n",
       "  <thead>\n",
       "    <tr style=\"text-align: right;\">\n",
       "      <th></th>\n",
       "      <th>universal_income</th>\n",
       "      <th>count</th>\n",
       "      <th>percent</th>\n",
       "      <th>cumulative_count</th>\n",
       "      <th>cumulative_percent</th>\n",
       "    </tr>\n",
       "  </thead>\n",
       "  <tbody>\n",
       "    <tr>\n",
       "      <th>0</th>\n",
       "      <td>Neither favor nor oppose</td>\n",
       "      <td>333</td>\n",
       "      <td>25.854037</td>\n",
       "      <td>333</td>\n",
       "      <td>25.854037</td>\n",
       "    </tr>\n",
       "    <tr>\n",
       "      <th>1</th>\n",
       "      <td>Favor a great deal</td>\n",
       "      <td>239</td>\n",
       "      <td>18.555901</td>\n",
       "      <td>572</td>\n",
       "      <td>44.409938</td>\n",
       "    </tr>\n",
       "    <tr>\n",
       "      <th>2</th>\n",
       "      <td>Favor a moderate amount</td>\n",
       "      <td>212</td>\n",
       "      <td>16.459627</td>\n",
       "      <td>784</td>\n",
       "      <td>60.869565</td>\n",
       "    </tr>\n",
       "    <tr>\n",
       "      <th>3</th>\n",
       "      <td>Favor a little</td>\n",
       "      <td>199</td>\n",
       "      <td>15.450311</td>\n",
       "      <td>983</td>\n",
       "      <td>76.319876</td>\n",
       "    </tr>\n",
       "    <tr>\n",
       "      <th>4</th>\n",
       "      <td>Oppse a great deal</td>\n",
       "      <td>106</td>\n",
       "      <td>8.229814</td>\n",
       "      <td>1089</td>\n",
       "      <td>84.549689</td>\n",
       "    </tr>\n",
       "    <tr>\n",
       "      <th>5</th>\n",
       "      <td>oppose a little</td>\n",
       "      <td>105</td>\n",
       "      <td>8.152174</td>\n",
       "      <td>1194</td>\n",
       "      <td>92.701863</td>\n",
       "    </tr>\n",
       "    <tr>\n",
       "      <th>6</th>\n",
       "      <td>Oppose a moderate amount</td>\n",
       "      <td>94</td>\n",
       "      <td>7.298137</td>\n",
       "      <td>1288</td>\n",
       "      <td>100.000000</td>\n",
       "    </tr>\n",
       "  </tbody>\n",
       "</table>\n",
       "</div>"
      ],
      "text/plain": [
       "           universal_income  count    percent  cumulative_count  \\\n",
       "0  Neither favor nor oppose    333  25.854037               333   \n",
       "1        Favor a great deal    239  18.555901               572   \n",
       "2   Favor a moderate amount    212  16.459627               784   \n",
       "3            Favor a little    199  15.450311               983   \n",
       "4        Oppse a great deal    106   8.229814              1089   \n",
       "5           oppose a little    105   8.152174              1194   \n",
       "6  Oppose a moderate amount     94   7.298137              1288   \n",
       "\n",
       "   cumulative_percent  \n",
       "0           25.854037  \n",
       "1           44.409938  \n",
       "2           60.869565  \n",
       "3           76.319876  \n",
       "4           84.549689  \n",
       "5           92.701863  \n",
       "6          100.000000  "
      ]
     },
     "execution_count": 750,
     "metadata": {},
     "output_type": "execute_result"
    }
   ],
   "source": [
    "df_clean.loc[df_clean['vote'] == 'Joe Biden'].stb.freq(['universal_income'])"
   ]
  },
  {
   "cell_type": "markdown",
   "metadata": {},
   "source": [
    "Biden's voters tend to not oppose universal basic income."
   ]
  },
  {
   "cell_type": "markdown",
   "metadata": {},
   "source": [
    "## Universal basic income vs. political ideology"
   ]
  },
  {
   "cell_type": "code",
   "execution_count": 751,
   "metadata": {},
   "outputs": [
    {
     "data": {
      "text/html": [
       "<div>\n",
       "<style scoped>\n",
       "    .dataframe tbody tr th:only-of-type {\n",
       "        vertical-align: middle;\n",
       "    }\n",
       "\n",
       "    .dataframe tbody tr th {\n",
       "        vertical-align: top;\n",
       "    }\n",
       "\n",
       "    .dataframe thead th {\n",
       "        text-align: right;\n",
       "    }\n",
       "</style>\n",
       "<table border=\"1\" class=\"dataframe\">\n",
       "  <thead>\n",
       "    <tr style=\"text-align: right;\">\n",
       "      <th>ideology</th>\n",
       "      <th>Liberal</th>\n",
       "      <th>Moderate</th>\n",
       "      <th>Conservative</th>\n",
       "    </tr>\n",
       "    <tr>\n",
       "      <th>universal_income</th>\n",
       "      <th></th>\n",
       "      <th></th>\n",
       "      <th></th>\n",
       "    </tr>\n",
       "  </thead>\n",
       "  <tbody>\n",
       "    <tr>\n",
       "      <th>Oppse a great deal</th>\n",
       "      <td>6.71</td>\n",
       "      <td>23.62</td>\n",
       "      <td>62.19</td>\n",
       "    </tr>\n",
       "    <tr>\n",
       "      <th>Oppose a moderate amount</th>\n",
       "      <td>5.61</td>\n",
       "      <td>7.87</td>\n",
       "      <td>7.11</td>\n",
       "    </tr>\n",
       "    <tr>\n",
       "      <th>oppose a little</th>\n",
       "      <td>6.71</td>\n",
       "      <td>8.20</td>\n",
       "      <td>3.99</td>\n",
       "    </tr>\n",
       "    <tr>\n",
       "      <th>Neither favor nor oppose</th>\n",
       "      <td>22.07</td>\n",
       "      <td>26.00</td>\n",
       "      <td>11.71</td>\n",
       "    </tr>\n",
       "    <tr>\n",
       "      <th>Favor a little</th>\n",
       "      <td>15.73</td>\n",
       "      <td>12.30</td>\n",
       "      <td>6.24</td>\n",
       "    </tr>\n",
       "    <tr>\n",
       "      <th>Favor a moderate amount</th>\n",
       "      <td>18.78</td>\n",
       "      <td>11.00</td>\n",
       "      <td>3.99</td>\n",
       "    </tr>\n",
       "    <tr>\n",
       "      <th>Favor a great deal</th>\n",
       "      <td>24.39</td>\n",
       "      <td>11.00</td>\n",
       "      <td>4.77</td>\n",
       "    </tr>\n",
       "  </tbody>\n",
       "</table>\n",
       "</div>"
      ],
      "text/plain": [
       "ideology                  Liberal  Moderate  Conservative\n",
       "universal_income                                         \n",
       "Oppse a great deal           6.71     23.62         62.19\n",
       "Oppose a moderate amount     5.61      7.87          7.11\n",
       "oppose a little              6.71      8.20          3.99\n",
       "Neither favor nor oppose    22.07     26.00         11.71\n",
       "Favor a little              15.73     12.30          6.24\n",
       "Favor a moderate amount     18.78     11.00          3.99\n",
       "Favor a great deal          24.39     11.00          4.77"
      ]
     },
     "execution_count": 751,
     "metadata": {},
     "output_type": "execute_result"
    }
   ],
   "source": [
    "df_clean['universal_income'] = df_clean['universal_income'].cat.reorder_categories(['Oppse a great deal', 'Oppose a moderate amount', \n",
    "                                                                                    'oppose a little', 'Neither favor nor oppose',\n",
    "                                                                                    'Favor a little', 'Favor a moderate amount', \n",
    "                                                                                    'Favor a great deal'])\n",
    "df_clean['ideology'] = df_clean['ideology'].cat.reorder_categories(['Liberal', 'Moderate', 'Conservative'])\n",
    "\n",
    "(pd.crosstab(df_clean['universal_income'], df_clean['ideology'], normalize='columns')*100).round(2)"
   ]
  },
  {
   "cell_type": "markdown",
   "metadata": {},
   "source": [
    "Conservative tend to strongly oppose universal basic income, and Liberal tend to not oppose universal basic income."
   ]
  },
  {
   "cell_type": "markdown",
   "metadata": {},
   "source": [
    "## Universal basic income and free college"
   ]
  },
  {
   "cell_type": "code",
   "execution_count": 723,
   "metadata": {},
   "outputs": [
    {
     "data": {
      "text/plain": [
       "False    0.610248\n",
       "True     0.389752\n",
       "Name: favor_both, dtype: float64"
      ]
     },
     "execution_count": 723,
     "metadata": {},
     "output_type": "execute_result"
    }
   ],
   "source": [
    "df_clean['favor_both'] = df_clean.apply(lambda x: \n",
    "                                        x['universal_income'] in ['Favor a great deal', \n",
    "                                                                  'Favor a little', 'Favor a moderate amount'] \n",
    "                                        and x['free_college'] in ['Favor a great deal', \n",
    "                                                                  'Favor a moderate amount', 'Favor a little'], axis=1)\n",
    "df_clean.loc[df_clean['vote'] == 'Joe Biden']['favor_both'].value_counts(normalize=True)"
   ]
  },
  {
   "cell_type": "markdown",
   "metadata": {},
   "source": [
    "Among Biden's voters, 39% favor both universal basic income and free college."
   ]
  },
  {
   "cell_type": "code",
   "execution_count": 724,
   "metadata": {},
   "outputs": [
    {
     "data": {
      "text/plain": [
       "False    0.924588\n",
       "True     0.075412\n",
       "Name: favor_both, dtype: float64"
      ]
     },
     "execution_count": 724,
     "metadata": {},
     "output_type": "execute_result"
    }
   ],
   "source": [
    "df_clean.loc[df_clean['vote'] == 'Donald Trump']['favor_both'].value_counts(normalize=True)"
   ]
  },
  {
   "cell_type": "markdown",
   "metadata": {},
   "source": [
    "Among Trump's voters, only 7.5% favor both universal basic income and free college."
   ]
  },
  {
   "cell_type": "markdown",
   "metadata": {},
   "source": [
    "## Journalists & Immigration"
   ]
  },
  {
   "cell_type": "code",
   "execution_count": 726,
   "metadata": {},
   "outputs": [
    {
     "data": {
      "text/html": [
       "<div>\n",
       "<style scoped>\n",
       "    .dataframe tbody tr th:only-of-type {\n",
       "        vertical-align: middle;\n",
       "    }\n",
       "\n",
       "    .dataframe tbody tr th {\n",
       "        vertical-align: top;\n",
       "    }\n",
       "\n",
       "    .dataframe thead th {\n",
       "        text-align: right;\n",
       "    }\n",
       "</style>\n",
       "<table border=\"1\" class=\"dataframe\">\n",
       "  <thead>\n",
       "    <tr style=\"text-align: right;\">\n",
       "      <th></th>\n",
       "      <th>fttrump</th>\n",
       "      <th>ftbiden</th>\n",
       "      <th>ftimmig</th>\n",
       "      <th>ftjournal</th>\n",
       "    </tr>\n",
       "    <tr>\n",
       "      <th>vote</th>\n",
       "      <th></th>\n",
       "      <th></th>\n",
       "      <th></th>\n",
       "      <th></th>\n",
       "    </tr>\n",
       "  </thead>\n",
       "  <tbody>\n",
       "    <tr>\n",
       "      <th>Donald Trump</th>\n",
       "      <td>87.835303</td>\n",
       "      <td>15.743286</td>\n",
       "      <td>68.801887</td>\n",
       "      <td>26.502749</td>\n",
       "    </tr>\n",
       "    <tr>\n",
       "      <th>Joe Biden</th>\n",
       "      <td>8.450549</td>\n",
       "      <td>70.724649</td>\n",
       "      <td>75.315217</td>\n",
       "      <td>72.365683</td>\n",
       "    </tr>\n",
       "    <tr>\n",
       "      <th>Probably will not vote</th>\n",
       "      <td>28.750000</td>\n",
       "      <td>39.595238</td>\n",
       "      <td>61.734043</td>\n",
       "      <td>49.706714</td>\n",
       "    </tr>\n",
       "    <tr>\n",
       "      <th>Someone else</th>\n",
       "      <td>23.126582</td>\n",
       "      <td>34.022293</td>\n",
       "      <td>67.503125</td>\n",
       "      <td>52.386293</td>\n",
       "    </tr>\n",
       "  </tbody>\n",
       "</table>\n",
       "</div>"
      ],
      "text/plain": [
       "                          fttrump    ftbiden    ftimmig  ftjournal\n",
       "vote                                                              \n",
       "Donald Trump            87.835303  15.743286  68.801887  26.502749\n",
       "Joe Biden                8.450549  70.724649  75.315217  72.365683\n",
       "Probably will not vote  28.750000  39.595238  61.734043  49.706714\n",
       "Someone else            23.126582  34.022293  67.503125  52.386293"
      ]
     },
     "execution_count": 726,
     "metadata": {},
     "output_type": "execute_result"
    }
   ],
   "source": [
    "df_clean.groupby('vote').agg({'fttrump': 'mean',\n",
    "                             'ftbiden': 'mean',\n",
    "                             'ftimmig': 'mean',\n",
    "                             'ftjournal': 'mean'})"
   ]
  },
  {
   "cell_type": "markdown",
   "metadata": {},
   "source": [
    "Voters who favor Trump had the lowest favorability on journalists. Voters who favor Biden had the highest favorability on immigration."
   ]
  },
  {
   "cell_type": "markdown",
   "metadata": {},
   "source": [
    "## Urban vs. Rural"
   ]
  },
  {
   "cell_type": "code",
   "execution_count": 731,
   "metadata": {},
   "outputs": [
    {
     "data": {
      "text/html": [
       "<div>\n",
       "<style scoped>\n",
       "    .dataframe tbody tr th:only-of-type {\n",
       "        vertical-align: middle;\n",
       "    }\n",
       "\n",
       "    .dataframe tbody tr th {\n",
       "        vertical-align: top;\n",
       "    }\n",
       "\n",
       "    .dataframe thead th {\n",
       "        text-align: right;\n",
       "    }\n",
       "</style>\n",
       "<table border=\"1\" class=\"dataframe\">\n",
       "  <thead>\n",
       "    <tr style=\"text-align: right;\">\n",
       "      <th>liveurban</th>\n",
       "      <th>City</th>\n",
       "      <th>Rural</th>\n",
       "      <th>Suburb</th>\n",
       "      <th>Town</th>\n",
       "    </tr>\n",
       "    <tr>\n",
       "      <th>vote</th>\n",
       "      <th></th>\n",
       "      <th></th>\n",
       "      <th></th>\n",
       "      <th></th>\n",
       "    </tr>\n",
       "  </thead>\n",
       "  <tbody>\n",
       "    <tr>\n",
       "      <th>Donald Trump</th>\n",
       "      <td>235</td>\n",
       "      <td>314</td>\n",
       "      <td>465</td>\n",
       "      <td>259</td>\n",
       "    </tr>\n",
       "    <tr>\n",
       "      <th>Joe Biden</th>\n",
       "      <td>401</td>\n",
       "      <td>204</td>\n",
       "      <td>462</td>\n",
       "      <td>221</td>\n",
       "    </tr>\n",
       "    <tr>\n",
       "      <th>Probably will not vote</th>\n",
       "      <td>88</td>\n",
       "      <td>61</td>\n",
       "      <td>83</td>\n",
       "      <td>51</td>\n",
       "    </tr>\n",
       "    <tr>\n",
       "      <th>Someone else</th>\n",
       "      <td>92</td>\n",
       "      <td>64</td>\n",
       "      <td>107</td>\n",
       "      <td>58</td>\n",
       "    </tr>\n",
       "  </tbody>\n",
       "</table>\n",
       "</div>"
      ],
      "text/plain": [
       "liveurban               City  Rural  Suburb  Town\n",
       "vote                                             \n",
       "Donald Trump             235    314     465   259\n",
       "Joe Biden                401    204     462   221\n",
       "Probably will not vote    88     61      83    51\n",
       "Someone else              92     64     107    58"
      ]
     },
     "execution_count": 731,
     "metadata": {},
     "output_type": "execute_result"
    }
   ],
   "source": [
    "pd.DataFrame(df_clean.groupby(['vote', 'liveurban']).size().unstack())"
   ]
  },
  {
   "cell_type": "markdown",
   "metadata": {},
   "source": [
    "Biden had more voters than Trump in cities, and Trump had more voters in rural areas. Trump had a slight lead among people in towns, and Trump and Biden were within three votes among people in suburbs."
   ]
  },
  {
   "cell_type": "markdown",
   "metadata": {},
   "source": [
    "## Important Issue"
   ]
  },
  {
   "cell_type": "code",
   "execution_count": 732,
   "metadata": {},
   "outputs": [
    {
     "data": {
      "text/plain": [
       "vote\n",
       "Joe Biden                 325\n",
       "Donald Trump               59\n",
       "Someone else               25\n",
       "Probably will not vote     10\n",
       "Name: most_important_issue, dtype: int64"
      ]
     },
     "execution_count": 732,
     "metadata": {},
     "output_type": "execute_result"
    }
   ],
   "source": [
    "df_clean.groupby('vote').most_important_issue.apply(lambda x: \n",
    "                                                    x.str.contains('trump', case=False).sum()).sort_values(ascending=False)"
   ]
  },
  {
   "cell_type": "markdown",
   "metadata": {},
   "source": [
    "Biden's voters mentioned \"Trump\" 325 times when talking about the most important issue, while Trump's voters only mentioned \"Trump\" 59 times."
   ]
  },
  {
   "cell_type": "markdown",
   "metadata": {},
   "source": [
    "## Thermometer rating for the candidates"
   ]
  },
  {
   "cell_type": "code",
   "execution_count": 758,
   "metadata": {},
   "outputs": [
    {
     "data": {
      "text/html": [
       "<div>\n",
       "<style scoped>\n",
       "    .dataframe tbody tr th:only-of-type {\n",
       "        vertical-align: middle;\n",
       "    }\n",
       "\n",
       "    .dataframe tbody tr th {\n",
       "        vertical-align: top;\n",
       "    }\n",
       "\n",
       "    .dataframe thead th {\n",
       "        text-align: right;\n",
       "    }\n",
       "</style>\n",
       "<table border=\"1\" class=\"dataframe\">\n",
       "  <thead>\n",
       "    <tr style=\"text-align: right;\">\n",
       "      <th></th>\n",
       "      <th>ftbiden</th>\n",
       "      <th>fttrump</th>\n",
       "    </tr>\n",
       "  </thead>\n",
       "  <tbody>\n",
       "    <tr>\n",
       "      <th>ftbiden</th>\n",
       "      <td>1.000000</td>\n",
       "      <td>-0.646357</td>\n",
       "    </tr>\n",
       "    <tr>\n",
       "      <th>fttrump</th>\n",
       "      <td>-0.646357</td>\n",
       "      <td>1.000000</td>\n",
       "    </tr>\n",
       "  </tbody>\n",
       "</table>\n",
       "</div>"
      ],
      "text/plain": [
       "          ftbiden   fttrump\n",
       "ftbiden  1.000000 -0.646357\n",
       "fttrump -0.646357  1.000000"
      ]
     },
     "execution_count": 758,
     "metadata": {},
     "output_type": "execute_result"
    }
   ],
   "source": [
    "df_clean[['ftbiden', 'fttrump']].corr()"
   ]
  },
  {
   "cell_type": "markdown",
   "metadata": {},
   "source": [
    "The correlation between Biden and Trump’s thermometer ratings is negative, which is not surprising."
   ]
  },
  {
   "cell_type": "code",
   "execution_count": 752,
   "metadata": {},
   "outputs": [
    {
     "data": {
      "image/png": "[encoded data removed]",
      "text/plain": [
       "<Figure size 864x288 with 3 Axes>"
      ]
     },
     "metadata": {
      "needs_background": "light"
     },
     "output_type": "display_data"
    }
   ],
   "source": [
    "g = sns.FacetGrid(df_clean, col = 'partyID', height=4, aspect=1)\n",
    "g.map(sns.scatterplot, 'ftbiden', 'fttrump', alpha=.1, color='black')\n",
    "g.set_titles('{col_name}')\n",
    "g.set_axis_labels('Joe Biden thermometer rating', 'Donald Trump thermometer rating') \n",
    "g.fig.subplots_adjust(top=.8)\n",
    "g.fig.suptitle('Thermometer Ratings of Biden vs. Trump, by Party', fontsize=16);"
   ]
  },
  {
   "cell_type": "markdown",
   "metadata": {},
   "source": [
    "Democrats were mostly united in rating Trump very low, but they had a wide range of mixed feelings towards Biden. Republicans in contrast were more clustered around higher ratings for Trump. Independents were spread out and were more common in the middle."
   ]
  },
  {
   "cell_type": "code",
   "execution_count": 754,
   "metadata": {},
   "outputs": [
    {
     "data": {
      "image/png": "[encoded data removed]",
      "text/plain": [
       "<Figure size 576x288 with 2 Axes>"
      ]
     },
     "metadata": {
      "needs_background": "light"
     },
     "output_type": "display_data"
    }
   ],
   "source": [
    "g = sns.FacetGrid(df_clean, col = 'sex', height=4, aspect=1)\n",
    "g.map(sns.scatterplot, 'ftbiden', 'fttrump', alpha=.1, color='black')\n",
    "g.set_titles('{col_name}')\n",
    "g.set_axis_labels('Joe Biden thermometer rating', 'Donald Trump thermometer rating') \n",
    "g.fig.subplots_adjust(top=.8)\n",
    "g.fig.suptitle('Thermometer Ratings of Biden vs. Trump, by Gender', fontsize=16);"
   ]
  },
  {
   "cell_type": "markdown",
   "metadata": {},
   "source": [
    "There isn't obvious difference between how male vs. female rated on both candidates."
   ]
  },
  {
   "cell_type": "code",
   "execution_count": 755,
   "metadata": {},
   "outputs": [
    {
     "data": {
      "image/png": "[encoded data removed]",
      "text/plain": [
       "<Figure size 720x432 with 1 Axes>"
      ]
     },
     "metadata": {
      "needs_background": "light"
     },
     "output_type": "display_data"
    }
   ],
   "source": [
    "df_line = df_clean.groupby('age').agg({'ftbiden':'mean',\n",
    "                                       'fttrump':'mean',\n",
    "                                       'ftobama':'mean',\n",
    "                                       'ftsanders':'mean'})\n",
    "df_line = df_line.reset_index()\n",
    "df_line = pd.melt(df_line, id_vars='age', \n",
    "                    value_vars = ['ftbiden', 'fttrump', 'ftobama', 'ftsanders'])\n",
    "df_line = df_line.rename({'variable':'candidate', 'value':'thermometer'}, axis=1)\n",
    "df_line['candidate'] = df_line['candidate'].map({'ftbiden':'Joe Biden',\n",
    "                                                 'fttrump':'Donald Trump',\n",
    "                                                 'ftobama':'Barack Obama',\n",
    "                                                 'ftsanders':'Bernie Sanders'})\n",
    "\n",
    "plt.figure(figsize=(10, 6))\n",
    "sns.lineplot(x='age', y='thermometer', hue='candidate', palette=['blue','red'], style='candidate',\n",
    "             data=df_line.query(\"candidate=='Donald Trump' | candidate=='Joe Biden'\"))\n",
    "plt.xlabel('Age of voters')\n",
    "plt.ylabel('Thermometer rating')\n",
    "plt.title('Feeling Thermometer Ratings By Age')\n",
    "plt.ylim(0,100);"
   ]
  },
  {
   "cell_type": "markdown",
   "metadata": {},
   "source": [
    "Apparently, Biden was more popular among younger voters and Trump was more popular among older voters."
   ]
  },
  {
   "cell_type": "code",
   "execution_count": 756,
   "metadata": {},
   "outputs": [
    {
     "data": {
      "image/png": "[encoded data removed]",
      "text/plain": [
       "<Figure size 720x432 with 1 Axes>"
      ]
     },
     "metadata": {
      "needs_background": "light"
     },
     "output_type": "display_data"
    }
   ],
   "source": [
    "plt.figure(figsize=(10,6))\n",
    "sns.kdeplot(df_clean.ftbiden, shade=True, label='Biden')\n",
    "sns.kdeplot(df_clean.fttrump, shade=True, label='Trump')\n",
    "plt.ylabel('Frequency')\n",
    "plt.xlabel('Thermometer rating')\n",
    "plt.title('Distribution of Thermometer Ratings')\n",
    "plt.legend();"
   ]
  },
  {
   "cell_type": "markdown",
   "metadata": {},
   "source": [
    "More people had extreme opinions of Trump, and more people had mediocre opinions of Biden."
   ]
  },
  {
   "cell_type": "code",
   "execution_count": 757,
   "metadata": {},
   "outputs": [
    {
     "data": {
      "image/png": "[encoded data removed]",
      "text/plain": [
       "<Figure size 720x432 with 1 Axes>"
      ]
     },
     "metadata": {
      "needs_background": "light"
     },
     "output_type": "display_data"
    }
   ],
   "source": [
    "df_vio = pd.melt(df_clean, id_vars = ['caseid', 'sex'], \n",
    "                    value_vars = ['ftbiden', 'fttrump'])\n",
    "df_vio = df_vio.rename(columns=({'variable':'candidate',\n",
    "                        'value':'thermometer'}))\n",
    "df_vio['candidate'] = df_vio['candidate'].map({'ftbiden':'Joe Biden',\n",
    "                                                'fttrump':'Donald Trump'})\n",
    "plt.figure(figsize = (10, 6))\n",
    "sns.violinplot(x = 'candidate', y = 'thermometer', data = df_vio,\n",
    "              hue = 'sex')\n",
    "plt.xlabel(\"Political Figure\")\n",
    "plt.ylabel(\"Feeling Thermometer Ratings\")\n",
    "plt.title(\"Distributions of Ratings for Political Figures\");"
   ]
  },
  {
   "cell_type": "markdown",
   "metadata": {},
   "source": [
    "And this applies to both male and female voters."
   ]
  },
  {
   "cell_type": "markdown",
   "metadata": {},
   "source": [
    "## Statistical Analysis\n",
    "\n",
    "### Weighted average of candidates’ thermometer ratings\n",
    "\n",
    "We can recalculate the average Biden rating & average Trump rating while using these weights to count every row in a way that is more representative of the U.S. adult population."
   ]
  },
  {
   "cell_type": "code",
   "execution_count": 759,
   "metadata": {},
   "outputs": [
    {
     "data": {
      "text/plain": [
       "43.31193635270897"
      ]
     },
     "execution_count": 759,
     "metadata": {},
     "output_type": "execute_result"
    }
   ],
   "source": [
    "df_clean.weight = pd.to_numeric(df_clean.weight.str.strip().replace({'':1}))\n",
    "biden_temp = df_clean.loc[~df_clean.ftbiden.isna()]\n",
    "np.average(biden_temp.ftbiden, weights = biden_temp.weight)"
   ]
  },
  {
   "cell_type": "code",
   "execution_count": 760,
   "metadata": {},
   "outputs": [
    {
     "data": {
      "text/plain": [
       "43.25284206257595"
      ]
     },
     "execution_count": 760,
     "metadata": {},
     "output_type": "execute_result"
    }
   ],
   "source": [
    "trump_temp = df_clean.loc[~df_clean.fttrump.isna()]\n",
    "np.average(trump_temp.fttrump, weights = trump_temp.weight)"
   ]
  },
  {
   "cell_type": "markdown",
   "metadata": {},
   "source": [
    "The weighted average of Biden’s thermometer ratings is similar with Trump's."
   ]
  },
  {
   "cell_type": "markdown",
   "metadata": {},
   "source": [
    "### Weighted median of candidates' thermometer ratings"
   ]
  },
  {
   "cell_type": "code",
   "execution_count": 761,
   "metadata": {},
   "outputs": [
    {
     "data": {
      "text/plain": [
       "47.0"
      ]
     },
     "execution_count": 761,
     "metadata": {},
     "output_type": "execute_result"
    }
   ],
   "source": [
    "import weighted\n",
    "\n",
    "weighted.median(df_clean['ftbiden'], df_clean.weight)"
   ]
  },
  {
   "cell_type": "code",
   "execution_count": 762,
   "metadata": {},
   "outputs": [
    {
     "data": {
      "text/plain": [
       "37.0"
      ]
     },
     "execution_count": 762,
     "metadata": {},
     "output_type": "execute_result"
    }
   ],
   "source": [
    "weighted.median(df_clean['fttrump'], df_clean.weight)"
   ]
  },
  {
   "cell_type": "markdown",
   "metadata": {},
   "source": [
    "However, the weighted median of Biden’s thermometer ratings is much higher (10 points) than Trump's."
   ]
  },
  {
   "cell_type": "markdown",
   "metadata": {},
   "source": [
    "### Measures of variability"
   ]
  },
  {
   "cell_type": "code",
   "execution_count": 765,
   "metadata": {},
   "outputs": [
    {
     "data": {
      "text/plain": [
       "[1118.0106501193227, 33.436666253071984]"
      ]
     },
     "execution_count": 765,
     "metadata": {},
     "output_type": "execute_result"
    }
   ],
   "source": [
    "[df_clean.ftbiden.var(), df_clean.ftbiden.std()]"
   ]
  },
  {
   "cell_type": "markdown",
   "metadata": {},
   "source": [
    "Variability and standard deviation"
   ]
  },
  {
   "cell_type": "code",
   "execution_count": 766,
   "metadata": {},
   "outputs": [
    {
     "data": {
      "text/plain": [
       "[0.0, 100.0]"
      ]
     },
     "execution_count": 766,
     "metadata": {},
     "output_type": "execute_result"
    }
   ],
   "source": [
    "[df_clean.ftbiden.min(), df_clean.ftbiden.max()]"
   ]
  },
  {
   "cell_type": "markdown",
   "metadata": {},
   "source": [
    "Min and Max"
   ]
  },
  {
   "cell_type": "code",
   "execution_count": 763,
   "metadata": {},
   "outputs": [
    {
     "data": {
      "text/plain": [
       "[70.0, 7.0, 63.0]"
      ]
     },
     "execution_count": 763,
     "metadata": {},
     "output_type": "execute_result"
    }
   ],
   "source": [
    "[df_clean['ftbiden'].quantile(.75), \n",
    "df_clean['ftbiden'].quantile(.25),\n",
    "df_clean['ftbiden'].quantile(.75) - df_clean['ftbiden'].quantile(.25)]"
   ]
  },
  {
   "cell_type": "markdown",
   "metadata": {},
   "source": [
    "Biden's thermometer ratings at 75th and 25th percentiles, and interquartile range (IQR)."
   ]
  },
  {
   "cell_type": "code",
   "execution_count": 764,
   "metadata": {},
   "outputs": [
    {
     "data": {
      "text/plain": [
       "[91.0, 2.0, 89.0]"
      ]
     },
     "execution_count": 764,
     "metadata": {},
     "output_type": "execute_result"
    }
   ],
   "source": [
    "[df_clean['fttrump'].quantile(.75),\n",
    "df_clean['fttrump'].quantile(.25),\n",
    "df_clean['fttrump'].quantile(.75) - df_clean['fttrump'].quantile(.25)]"
   ]
  },
  {
   "cell_type": "markdown",
   "metadata": {},
   "source": [
    "Trump's thermometer ratings at 75th and 25th percentiles, and interquartile range (IQR)."
   ]
  },
  {
   "cell_type": "markdown",
   "metadata": {},
   "source": [
    "## Mean, median & quantile"
   ]
  },
  {
   "cell_type": "code",
   "execution_count": 779,
   "metadata": {},
   "outputs": [
    {
     "data": {
      "text/html": [
       "<div>\n",
       "<style scoped>\n",
       "    .dataframe tbody tr th:only-of-type {\n",
       "        vertical-align: middle;\n",
       "    }\n",
       "\n",
       "    .dataframe tbody tr th {\n",
       "        vertical-align: top;\n",
       "    }\n",
       "\n",
       "    .dataframe thead tr th {\n",
       "        text-align: left;\n",
       "    }\n",
       "\n",
       "    .dataframe thead tr:last-of-type th {\n",
       "        text-align: right;\n",
       "    }\n",
       "</style>\n",
       "<table border=\"1\" class=\"dataframe\">\n",
       "  <thead>\n",
       "    <tr>\n",
       "      <th></th>\n",
       "      <th colspan=\"4\" halign=\"left\">ftbiden</th>\n",
       "      <th colspan=\"4\" halign=\"left\">fttrump</th>\n",
       "    </tr>\n",
       "    <tr>\n",
       "      <th></th>\n",
       "      <th>mean</th>\n",
       "      <th>median</th>\n",
       "      <th>q25</th>\n",
       "      <th>q75</th>\n",
       "      <th>mean</th>\n",
       "      <th>median</th>\n",
       "      <th>q25</th>\n",
       "      <th>q75</th>\n",
       "    </tr>\n",
       "    <tr>\n",
       "      <th>partyID</th>\n",
       "      <th></th>\n",
       "      <th></th>\n",
       "      <th></th>\n",
       "      <th></th>\n",
       "      <th></th>\n",
       "      <th></th>\n",
       "      <th></th>\n",
       "      <th></th>\n",
       "    </tr>\n",
       "  </thead>\n",
       "  <tbody>\n",
       "    <tr>\n",
       "      <th>Democrat</th>\n",
       "      <td>66.38</td>\n",
       "      <td>70.0</td>\n",
       "      <td>50.0</td>\n",
       "      <td>88.0</td>\n",
       "      <td>11.21</td>\n",
       "      <td>2.0</td>\n",
       "      <td>0.00</td>\n",
       "      <td>7.0</td>\n",
       "    </tr>\n",
       "    <tr>\n",
       "      <th>Independent</th>\n",
       "      <td>35.26</td>\n",
       "      <td>33.0</td>\n",
       "      <td>6.0</td>\n",
       "      <td>53.0</td>\n",
       "      <td>40.89</td>\n",
       "      <td>37.0</td>\n",
       "      <td>2.50</td>\n",
       "      <td>73.5</td>\n",
       "    </tr>\n",
       "    <tr>\n",
       "      <th>Republican</th>\n",
       "      <td>18.82</td>\n",
       "      <td>8.0</td>\n",
       "      <td>1.0</td>\n",
       "      <td>31.0</td>\n",
       "      <td>82.36</td>\n",
       "      <td>94.0</td>\n",
       "      <td>74.75</td>\n",
       "      <td>100.0</td>\n",
       "    </tr>\n",
       "  </tbody>\n",
       "</table>\n",
       "</div>"
      ],
      "text/plain": [
       "            ftbiden                    fttrump                     \n",
       "               mean median   q25   q75    mean median    q25    q75\n",
       "partyID                                                            \n",
       "Democrat      66.38   70.0  50.0  88.0   11.21    2.0   0.00    7.0\n",
       "Independent   35.26   33.0   6.0  53.0   40.89   37.0   2.50   73.5\n",
       "Republican    18.82    8.0   1.0  31.0   82.36   94.0  74.75  100.0"
      ]
     },
     "execution_count": 779,
     "metadata": {},
     "output_type": "execute_result"
    }
   ],
   "source": [
    "def q25(x):\n",
    "    return x.quantile(.25)\n",
    "\n",
    "def q75(x):\n",
    "    return x.quantile(.75)\n",
    "\n",
    "df_clean.groupby('partyID').agg({'ftbiden': ['mean', 'median', q25, q75],\n",
    "                                 'fttrump': ['mean', 'median', q25, q75]}).round(2)"
   ]
  },
  {
   "cell_type": "markdown",
   "metadata": {},
   "source": [
    "There is a clear relationship between party affiliation and candidates' thermometer ratings."
   ]
  },
  {
   "cell_type": "code",
   "execution_count": 781,
   "metadata": {},
   "outputs": [
    {
     "data": {
      "text/html": [
       "<div>\n",
       "<style scoped>\n",
       "    .dataframe tbody tr th:only-of-type {\n",
       "        vertical-align: middle;\n",
       "    }\n",
       "\n",
       "    .dataframe tbody tr th {\n",
       "        vertical-align: top;\n",
       "    }\n",
       "\n",
       "    .dataframe thead th {\n",
       "        text-align: right;\n",
       "    }\n",
       "</style>\n",
       "<table border=\"1\" class=\"dataframe\">\n",
       "  <thead>\n",
       "    <tr style=\"text-align: right;\">\n",
       "      <th>ideology</th>\n",
       "      <th>Liberal</th>\n",
       "      <th>Moderate</th>\n",
       "      <th>Conservative</th>\n",
       "    </tr>\n",
       "    <tr>\n",
       "      <th>liveurban</th>\n",
       "      <th></th>\n",
       "      <th></th>\n",
       "      <th></th>\n",
       "    </tr>\n",
       "  </thead>\n",
       "  <tbody>\n",
       "    <tr>\n",
       "      <th>City</th>\n",
       "      <td>56.66</td>\n",
       "      <td>21.66</td>\n",
       "      <td>-45.38</td>\n",
       "    </tr>\n",
       "    <tr>\n",
       "      <th>Rural</th>\n",
       "      <td>46.16</td>\n",
       "      <td>6.45</td>\n",
       "      <td>-64.23</td>\n",
       "    </tr>\n",
       "    <tr>\n",
       "      <th>Suburb</th>\n",
       "      <td>55.42</td>\n",
       "      <td>21.39</td>\n",
       "      <td>-63.63</td>\n",
       "    </tr>\n",
       "    <tr>\n",
       "      <th>Town</th>\n",
       "      <td>52.12</td>\n",
       "      <td>19.71</td>\n",
       "      <td>-63.97</td>\n",
       "    </tr>\n",
       "  </tbody>\n",
       "</table>\n",
       "</div>"
      ],
      "text/plain": [
       "ideology   Liberal  Moderate  Conservative\n",
       "liveurban                                 \n",
       "City         56.66     21.66        -45.38\n",
       "Rural        46.16      6.45        -64.23\n",
       "Suburb       55.42     21.39        -63.63\n",
       "Town         52.12     19.71        -63.97"
      ]
     },
     "execution_count": 781,
     "metadata": {},
     "output_type": "execute_result"
    }
   ],
   "source": [
    "df_clean['partisanship'] = df_clean['ftbiden'] - df_clean['fttrump']\n",
    "df_clean[['ftbiden', 'fttrump', 'partisanship']]\n",
    "(pd.crosstab(df_clean['liveurban'], df_clean['ideology'], values=df_clean['partisanship'], aggfunc='mean')).round(2)"
   ]
  },
  {
   "cell_type": "markdown",
   "metadata": {},
   "source": [
    "People who live in cities and are liberal rated Biden 56.66 points higher than Trump on average, and people who are conservative and live in suburbs rated Trump 63.63 points higher than Biden on average."
   ]
  },
  {
   "cell_type": "markdown",
   "metadata": {},
   "source": [
    "### Hypothesis tests\n",
    "\n",
    "For example, we want to know where there is significant difference between men and women on how they rate Trump."
   ]
  },
  {
   "cell_type": "code",
   "execution_count": 782,
   "metadata": {},
   "outputs": [
    {
     "data": {
      "text/plain": [
       "Ttest_indResult(statistic=5.22707643132577, pvalue=1.8362222726982473e-07)"
      ]
     },
     "execution_count": 782,
     "metadata": {},
     "output_type": "execute_result"
    }
   ],
   "source": [
    "fttrump_men = df_clean.query(\"sex=='Male'\").fttrump.dropna()\n",
    "fttrump_women = df_clean.query(\"sex=='Female'\").fttrump.dropna()\n",
    "stats.ttest_ind(fttrump_men, fttrump_women, equal_var=False)"
   ]
  },
  {
   "cell_type": "markdown",
   "metadata": {},
   "source": [
    "We can reject the null hypothesis and conclude that there is a statisitically significant difference between men and women in terms of how highly they rate Trump."
   ]
  },
  {
   "cell_type": "markdown",
   "metadata": {},
   "source": [
    "We also want to compare the average rating of Trump to the average rating of Biden."
   ]
  },
  {
   "cell_type": "code",
   "execution_count": 783,
   "metadata": {},
   "outputs": [
    {
     "data": {
      "text/plain": [
       "{'trump': 43.87000958160332,\n",
       " 'biden': 42.15189466923571,\n",
       " 'difference': 1.7181149123676107}"
      ]
     },
     "execution_count": 783,
     "metadata": {},
     "output_type": "execute_result"
    }
   ],
   "source": [
    "{'trump': df_clean['fttrump'].mean(),\n",
    " 'biden': df_clean['ftbiden'].mean(), \n",
    " 'difference': df_clean['fttrump'].mean() - df_clean['ftbiden'].mean()}"
   ]
  },
  {
   "cell_type": "code",
   "execution_count": 784,
   "metadata": {},
   "outputs": [
    {
     "data": {
      "text/plain": [
       "Ttest_relResult(statistic=1.6327284676310017, pvalue=0.10262803725374475)"
      ]
     },
     "execution_count": 784,
     "metadata": {},
     "output_type": "execute_result"
    }
   ],
   "source": [
    "df_ttest = df_clean[['fttrump', 'ftbiden']].dropna()\n",
    "stats.ttest_rel(df_ttest['fttrump'], df_ttest['ftbiden'])"
   ]
  },
  {
   "cell_type": "markdown",
   "metadata": {},
   "source": [
    "We fail to reject the null hypothesis that the two candidates have the same average thermometer rating."
   ]
  },
  {
   "cell_type": "markdown",
   "metadata": {},
   "source": [
    "### Test of multiple comparisons\n",
    "\n",
    "We want to know whether there is a significant difference between the average age of Democrats, independents, and Republicans:"
   ]
  },
  {
   "cell_type": "code",
   "execution_count": 786,
   "metadata": {},
   "outputs": [
    {
     "data": {
      "text/html": [
       "<div>\n",
       "<style scoped>\n",
       "    .dataframe tbody tr th:only-of-type {\n",
       "        vertical-align: middle;\n",
       "    }\n",
       "\n",
       "    .dataframe tbody tr th {\n",
       "        vertical-align: top;\n",
       "    }\n",
       "\n",
       "    .dataframe thead th {\n",
       "        text-align: right;\n",
       "    }\n",
       "</style>\n",
       "<table border=\"1\" class=\"dataframe\">\n",
       "  <thead>\n",
       "    <tr style=\"text-align: right;\">\n",
       "      <th></th>\n",
       "      <th>age</th>\n",
       "    </tr>\n",
       "    <tr>\n",
       "      <th>partyID</th>\n",
       "      <th></th>\n",
       "    </tr>\n",
       "  </thead>\n",
       "  <tbody>\n",
       "    <tr>\n",
       "      <th>Democrat</th>\n",
       "      <td>51.734894</td>\n",
       "    </tr>\n",
       "    <tr>\n",
       "      <th>Independent</th>\n",
       "      <td>49.705104</td>\n",
       "    </tr>\n",
       "    <tr>\n",
       "      <th>Republican</th>\n",
       "      <td>57.350877</td>\n",
       "    </tr>\n",
       "  </tbody>\n",
       "</table>\n",
       "</div>"
      ],
      "text/plain": [
       "                   age\n",
       "partyID               \n",
       "Democrat     51.734894\n",
       "Independent  49.705104\n",
       "Republican   57.350877"
      ]
     },
     "execution_count": 786,
     "metadata": {},
     "output_type": "execute_result"
    }
   ],
   "source": [
    "df_clean.groupby('partyID').agg({'age': 'mean'})"
   ]
  },
  {
   "cell_type": "code",
   "execution_count": 787,
   "metadata": {},
   "outputs": [
    {
     "data": {
      "text/plain": [
       "F_onewayResult(statistic=52.588970634465824, pvalue=3.517577203359592e-23)"
      ]
     },
     "execution_count": 787,
     "metadata": {},
     "output_type": "execute_result"
    }
   ],
   "source": [
    "stats.f_oneway(df_clean.query(\"partyID == 'Democrat'\").age.dropna(),\n",
    "               df_clean.query(\"partyID == 'Independent'\").age.dropna(),\n",
    "               df_clean.query(\"partyID == 'Republican'\").age.dropna())"
   ]
  },
  {
   "cell_type": "markdown",
   "metadata": {},
   "source": [
    "The p-value is much smaller than .05, so we reject the null hypothesis that the three groups have the same average age."
   ]
  },
  {
   "cell_type": "markdown",
   "metadata": {},
   "source": [
    "### Tests of association\n",
    "\n",
    "Conservatives overwhelmingly oppose a universal basic income, with 62.2% of conservatives stating that they oppose a universal basic income a great deal. Only 6.7% of liberals, in contrast, oppose a universal basic income a great deal.\n",
    "\n",
    "Whether these differences are strong enough for us to conclude that there are ideological differences in support for a universal basic income."
   ]
  },
  {
   "cell_type": "code",
   "execution_count": 788,
   "metadata": {},
   "outputs": [
    {
     "data": {
      "text/html": [
       "<div>\n",
       "<style scoped>\n",
       "    .dataframe tbody tr th:only-of-type {\n",
       "        vertical-align: middle;\n",
       "    }\n",
       "\n",
       "    .dataframe tbody tr th {\n",
       "        vertical-align: top;\n",
       "    }\n",
       "\n",
       "    .dataframe thead th {\n",
       "        text-align: right;\n",
       "    }\n",
       "</style>\n",
       "<table border=\"1\" class=\"dataframe\">\n",
       "  <thead>\n",
       "    <tr style=\"text-align: right;\">\n",
       "      <th>ideology</th>\n",
       "      <th>Liberal</th>\n",
       "      <th>Moderate</th>\n",
       "      <th>Conservative</th>\n",
       "    </tr>\n",
       "    <tr>\n",
       "      <th>universal_income</th>\n",
       "      <th></th>\n",
       "      <th></th>\n",
       "      <th></th>\n",
       "    </tr>\n",
       "  </thead>\n",
       "  <tbody>\n",
       "    <tr>\n",
       "      <th>Oppse a great deal</th>\n",
       "      <td>6.71</td>\n",
       "      <td>23.62</td>\n",
       "      <td>62.19</td>\n",
       "    </tr>\n",
       "    <tr>\n",
       "      <th>Oppose a moderate amount</th>\n",
       "      <td>5.61</td>\n",
       "      <td>7.87</td>\n",
       "      <td>7.11</td>\n",
       "    </tr>\n",
       "    <tr>\n",
       "      <th>oppose a little</th>\n",
       "      <td>6.71</td>\n",
       "      <td>8.20</td>\n",
       "      <td>3.99</td>\n",
       "    </tr>\n",
       "    <tr>\n",
       "      <th>Neither favor nor oppose</th>\n",
       "      <td>22.07</td>\n",
       "      <td>26.00</td>\n",
       "      <td>11.71</td>\n",
       "    </tr>\n",
       "    <tr>\n",
       "      <th>Favor a little</th>\n",
       "      <td>15.73</td>\n",
       "      <td>12.30</td>\n",
       "      <td>6.24</td>\n",
       "    </tr>\n",
       "    <tr>\n",
       "      <th>Favor a moderate amount</th>\n",
       "      <td>18.78</td>\n",
       "      <td>11.00</td>\n",
       "      <td>3.99</td>\n",
       "    </tr>\n",
       "    <tr>\n",
       "      <th>Favor a great deal</th>\n",
       "      <td>24.39</td>\n",
       "      <td>11.00</td>\n",
       "      <td>4.77</td>\n",
       "    </tr>\n",
       "  </tbody>\n",
       "</table>\n",
       "</div>"
      ],
      "text/plain": [
       "ideology                  Liberal  Moderate  Conservative\n",
       "universal_income                                         \n",
       "Oppse a great deal           6.71     23.62         62.19\n",
       "Oppose a moderate amount     5.61      7.87          7.11\n",
       "oppose a little              6.71      8.20          3.99\n",
       "Neither favor nor oppose    22.07     26.00         11.71\n",
       "Favor a little              15.73     12.30          6.24\n",
       "Favor a moderate amount     18.78     11.00          3.99\n",
       "Favor a great deal          24.39     11.00          4.77"
      ]
     },
     "execution_count": 788,
     "metadata": {},
     "output_type": "execute_result"
    }
   ],
   "source": [
    "(pd.crosstab(df_clean['universal_income'], df_clean['ideology'], normalize='columns')*100).round(2)"
   ]
  },
  {
   "cell_type": "code",
   "execution_count": 789,
   "metadata": {},
   "outputs": [
    {
     "data": {
      "text/plain": [
       "(849.5464372904162,\n",
       " 3.8910750579483107e-174,\n",
       " 12,\n",
       " array([[280.2137931 , 316.77827586, 394.00793103],\n",
       "        [ 56.83448276,  64.25068966,  79.91482759],\n",
       "        [ 50.04827586,  56.57896552,  70.37275862],\n",
       "        [157.49655172, 178.04793103, 221.45551724],\n",
       "        [ 89.06896552, 100.69137931, 125.23965517],\n",
       "        [ 85.39310345,  96.53586207, 120.07103448],\n",
       "        [100.94482759, 114.11689655, 141.93827586]]))"
      ]
     },
     "execution_count": 789,
     "metadata": {},
     "output_type": "execute_result"
    }
   ],
   "source": [
    "stats.chi2_contingency(pd.crosstab(df_clean['universal_income'], df_clean['ideology']).values)"
   ]
  },
  {
   "cell_type": "markdown",
   "metadata": {},
   "source": [
    "The p-value at 3.89e-174 is much less than .05. Therefore, we reject this null hypothesis and conclude that there is a statistically significant relationship between ideology and support for a universal basic income."
   ]
  },
  {
   "cell_type": "markdown",
   "metadata": {},
   "source": [
    "### Multidimensional Scaling"
   ]
  },
  {
   "cell_type": "code",
   "execution_count": 790,
   "metadata": {},
   "outputs": [],
   "source": [
    "from sklearn.metrics import euclidean_distances\n",
    "\n",
    "df_ft = df_clean.loc[:, 'fttrump': 'ftimmig'].dropna()\n",
    "names = df_ft.columns.str[2:]\n",
    "ft_distance = euclidean_distances(np.transpose(df_ft))"
   ]
  },
  {
   "cell_type": "code",
   "execution_count": 791,
   "metadata": {},
   "outputs": [
    {
     "data": {
      "image/png": "[encoded data removed]",
      "text/plain": [
       "<Figure size 864x576 with 1 Axes>"
      ]
     },
     "metadata": {
      "needs_background": "light"
     },
     "output_type": "display_data"
    }
   ],
   "source": [
    "from sklearn import manifold\n",
    "\n",
    "mds = manifold.MDS(n_components=2, dissimilarity='precomputed')\n",
    "mds_fit = mds.fit(ft_distance)\n",
    "pos = mds_fit.embedding_\n",
    "\n",
    "plt.rcParams['figure.figsize'] = 12,8\n",
    "plt.scatter(pos[:, 0], pos[:, 1], color='navy', s=0)\n",
    "\n",
    "for i in enumerate(names):\n",
    "    plt.annotate(i[1], (pos[i[0], 0], pos[i[0], 1]))\n",
    "plt.show();"
   ]
  },
  {
   "cell_type": "markdown",
   "metadata": {},
   "source": [
    "The above graph represents a map of politics according to a representative sample of adults in the data in the United States as of December 2019. Entities that are closer together have smaller Euclidean distances, which indicates that they are similar in some ways. \n",
    "\n",
    "Democratic candidates for president, Biden, Sanders, Warren, Buttigieg, and Harris are all very close together. Obama is also close to that cluster of Democrats. Trump is about as far from them as possible. Trump is closest to the NRA and ICE, The Democrats are close to the UN, the NATO, journalists, and illegal immigrants. The racial groups, white, black, Asian, and Hispanic are close to each other and to immigrants. Among countries, there are two main groupings: one includes Canada, France, Britain, Germany, France, and Mexico, and the other includes China, Turkey, Iran, Saudi Arabia, Russia, and North Korea. Israel and Palestine are more distant from other countries and very far from each other. Ukraine is in the middle.\n",
    "\n",
    "This graph helps us understand similarities between features, helps us understand the viewpoints towards different topics in the American electorate."
   ]
  },
  {
   "cell_type": "markdown",
   "metadata": {},
   "source": [
    "### Principal Component Analysis (PCA)"
   ]
  },
  {
   "cell_type": "code",
   "execution_count": 792,
   "metadata": {},
   "outputs": [],
   "source": [
    "from prince import PCA\n",
    "\n",
    "pca = PCA(n_components=2, \n",
    "          rescale_with_mean=True,\n",
    "          rescale_with_std=True\n",
    ")\n",
    "pca = pca.fit(df_ft)"
   ]
  },
  {
   "cell_type": "code",
   "execution_count": 793,
   "metadata": {},
   "outputs": [
    {
     "data": {
      "text/html": [
       "<div>\n",
       "<style scoped>\n",
       "    .dataframe tbody tr th:only-of-type {\n",
       "        vertical-align: middle;\n",
       "    }\n",
       "\n",
       "    .dataframe tbody tr th {\n",
       "        vertical-align: top;\n",
       "    }\n",
       "\n",
       "    .dataframe thead th {\n",
       "        text-align: right;\n",
       "    }\n",
       "</style>\n",
       "<table border=\"1\" class=\"dataframe\">\n",
       "  <thead>\n",
       "    <tr style=\"text-align: right;\">\n",
       "      <th></th>\n",
       "      <th>dim1</th>\n",
       "      <th>dim2</th>\n",
       "    </tr>\n",
       "  </thead>\n",
       "  <tbody>\n",
       "    <tr>\n",
       "      <th>ftjournal</th>\n",
       "      <td>-0.830682</td>\n",
       "      <td>0.225883</td>\n",
       "    </tr>\n",
       "    <tr>\n",
       "      <th>ftun</th>\n",
       "      <td>-0.817509</td>\n",
       "      <td>0.169747</td>\n",
       "    </tr>\n",
       "    <tr>\n",
       "      <th>ftillegal</th>\n",
       "      <td>-0.811237</td>\n",
       "      <td>0.137007</td>\n",
       "    </tr>\n",
       "    <tr>\n",
       "      <th>ftobama</th>\n",
       "      <td>-0.804786</td>\n",
       "      <td>0.376682</td>\n",
       "    </tr>\n",
       "    <tr>\n",
       "      <th>ftwarren</th>\n",
       "      <td>-0.804091</td>\n",
       "      <td>0.360561</td>\n",
       "    </tr>\n",
       "    <tr>\n",
       "      <th>ftharris</th>\n",
       "      <td>-0.774592</td>\n",
       "      <td>0.292580</td>\n",
       "    </tr>\n",
       "    <tr>\n",
       "      <th>ftmuslim</th>\n",
       "      <td>-0.769883</td>\n",
       "      <td>-0.099410</td>\n",
       "    </tr>\n",
       "    <tr>\n",
       "      <th>ftbiden</th>\n",
       "      <td>-0.752664</td>\n",
       "      <td>0.319838</td>\n",
       "    </tr>\n",
       "    <tr>\n",
       "      <th>ftbuttigieg</th>\n",
       "      <td>-0.750555</td>\n",
       "      <td>0.254972</td>\n",
       "    </tr>\n",
       "    <tr>\n",
       "      <th>ftsanders</th>\n",
       "      <td>-0.746146</td>\n",
       "      <td>0.355578</td>\n",
       "    </tr>\n",
       "    <tr>\n",
       "      <th>ftfrance</th>\n",
       "      <td>-0.743863</td>\n",
       "      <td>-0.204568</td>\n",
       "    </tr>\n",
       "    <tr>\n",
       "      <th>ftmexico</th>\n",
       "      <td>-0.716031</td>\n",
       "      <td>-0.262071</td>\n",
       "    </tr>\n",
       "    <tr>\n",
       "      <th>ftpales</th>\n",
       "      <td>-0.708715</td>\n",
       "      <td>-0.070890</td>\n",
       "    </tr>\n",
       "    <tr>\n",
       "      <th>ftnato</th>\n",
       "      <td>-0.702495</td>\n",
       "      <td>-0.065117</td>\n",
       "    </tr>\n",
       "    <tr>\n",
       "      <th>ftgermany</th>\n",
       "      <td>-0.661523</td>\n",
       "      <td>-0.292994</td>\n",
       "    </tr>\n",
       "    <tr>\n",
       "      <th>ftcanada</th>\n",
       "      <td>-0.616064</td>\n",
       "      <td>-0.262214</td>\n",
       "    </tr>\n",
       "    <tr>\n",
       "      <th>ftiran</th>\n",
       "      <td>-0.576525</td>\n",
       "      <td>-0.108440</td>\n",
       "    </tr>\n",
       "    <tr>\n",
       "      <th>ftukraine</th>\n",
       "      <td>-0.537361</td>\n",
       "      <td>-0.395648</td>\n",
       "    </tr>\n",
       "    <tr>\n",
       "      <th>ftchina</th>\n",
       "      <td>-0.524933</td>\n",
       "      <td>-0.310720</td>\n",
       "    </tr>\n",
       "    <tr>\n",
       "      <th>fthisp</th>\n",
       "      <td>-0.495543</td>\n",
       "      <td>-0.480103</td>\n",
       "    </tr>\n",
       "    <tr>\n",
       "      <th>ftblack</th>\n",
       "      <td>-0.437558</td>\n",
       "      <td>-0.442102</td>\n",
       "    </tr>\n",
       "    <tr>\n",
       "      <th>ftimmig</th>\n",
       "      <td>-0.433261</td>\n",
       "      <td>-0.465348</td>\n",
       "    </tr>\n",
       "    <tr>\n",
       "      <th>ftbritain</th>\n",
       "      <td>-0.429749</td>\n",
       "      <td>-0.493661</td>\n",
       "    </tr>\n",
       "    <tr>\n",
       "      <th>ftturkey</th>\n",
       "      <td>-0.417361</td>\n",
       "      <td>-0.384296</td>\n",
       "    </tr>\n",
       "    <tr>\n",
       "      <th>ftjapan</th>\n",
       "      <td>-0.415978</td>\n",
       "      <td>-0.542368</td>\n",
       "    </tr>\n",
       "    <tr>\n",
       "      <th>ftasian</th>\n",
       "      <td>-0.410437</td>\n",
       "      <td>-0.565739</td>\n",
       "    </tr>\n",
       "    <tr>\n",
       "      <th>ftnkorea</th>\n",
       "      <td>-0.270753</td>\n",
       "      <td>-0.282780</td>\n",
       "    </tr>\n",
       "    <tr>\n",
       "      <th>ftsaudi</th>\n",
       "      <td>-0.262063</td>\n",
       "      <td>-0.475873</td>\n",
       "    </tr>\n",
       "    <tr>\n",
       "      <th>ftwhite</th>\n",
       "      <td>-0.104892</td>\n",
       "      <td>-0.582802</td>\n",
       "    </tr>\n",
       "    <tr>\n",
       "      <th>ftrussia</th>\n",
       "      <td>-0.071980</td>\n",
       "      <td>-0.494301</td>\n",
       "    </tr>\n",
       "    <tr>\n",
       "      <th>ftisrael</th>\n",
       "      <td>0.124992</td>\n",
       "      <td>-0.695917</td>\n",
       "    </tr>\n",
       "    <tr>\n",
       "      <th>ftice</th>\n",
       "      <td>0.478175</td>\n",
       "      <td>-0.632289</td>\n",
       "    </tr>\n",
       "    <tr>\n",
       "      <th>ftnra</th>\n",
       "      <td>0.550674</td>\n",
       "      <td>-0.613404</td>\n",
       "    </tr>\n",
       "    <tr>\n",
       "      <th>fttrump</th>\n",
       "      <td>0.685936</td>\n",
       "      <td>-0.561953</td>\n",
       "    </tr>\n",
       "  </tbody>\n",
       "</table>\n",
       "</div>"
      ],
      "text/plain": [
       "                 dim1      dim2\n",
       "ftjournal   -0.830682  0.225883\n",
       "ftun        -0.817509  0.169747\n",
       "ftillegal   -0.811237  0.137007\n",
       "ftobama     -0.804786  0.376682\n",
       "ftwarren    -0.804091  0.360561\n",
       "ftharris    -0.774592  0.292580\n",
       "ftmuslim    -0.769883 -0.099410\n",
       "ftbiden     -0.752664  0.319838\n",
       "ftbuttigieg -0.750555  0.254972\n",
       "ftsanders   -0.746146  0.355578\n",
       "ftfrance    -0.743863 -0.204568\n",
       "ftmexico    -0.716031 -0.262071\n",
       "ftpales     -0.708715 -0.070890\n",
       "ftnato      -0.702495 -0.065117\n",
       "ftgermany   -0.661523 -0.292994\n",
       "ftcanada    -0.616064 -0.262214\n",
       "ftiran      -0.576525 -0.108440\n",
       "ftukraine   -0.537361 -0.395648\n",
       "ftchina     -0.524933 -0.310720\n",
       "fthisp      -0.495543 -0.480103\n",
       "ftblack     -0.437558 -0.442102\n",
       "ftimmig     -0.433261 -0.465348\n",
       "ftbritain   -0.429749 -0.493661\n",
       "ftturkey    -0.417361 -0.384296\n",
       "ftjapan     -0.415978 -0.542368\n",
       "ftasian     -0.410437 -0.565739\n",
       "ftnkorea    -0.270753 -0.282780\n",
       "ftsaudi     -0.262063 -0.475873\n",
       "ftwhite     -0.104892 -0.582802\n",
       "ftrussia    -0.071980 -0.494301\n",
       "ftisrael     0.124992 -0.695917\n",
       "ftice        0.478175 -0.632289\n",
       "ftnra        0.550674 -0.613404\n",
       "fttrump      0.685936 -0.561953"
      ]
     },
     "execution_count": 793,
     "metadata": {},
     "output_type": "execute_result"
    }
   ],
   "source": [
    "loadings = pca.column_correlations(df_ft)\n",
    "loadings.columns = ['dim1', 'dim2']\n",
    "loadings.sort_values('dim1')"
   ]
  },
  {
   "cell_type": "markdown",
   "metadata": {},
   "source": [
    "The first feature (dim1) seems to represent the traditional left-right ideological spectrum. The Democrats, along with the U.N., illegal immigrants, and journalists load most strongly on one side of this index, and Trump, the NRA, and ICE load most strongly on the other side."
   ]
  },
  {
   "cell_type": "code",
   "execution_count": 347,
   "metadata": {},
   "outputs": [
    {
     "data": {
      "text/html": [
       "<div>\n",
       "<style scoped>\n",
       "    .dataframe tbody tr th:only-of-type {\n",
       "        vertical-align: middle;\n",
       "    }\n",
       "\n",
       "    .dataframe tbody tr th {\n",
       "        vertical-align: top;\n",
       "    }\n",
       "\n",
       "    .dataframe thead th {\n",
       "        text-align: right;\n",
       "    }\n",
       "</style>\n",
       "<table border=\"1\" class=\"dataframe\">\n",
       "  <thead>\n",
       "    <tr style=\"text-align: right;\">\n",
       "      <th></th>\n",
       "      <th>dim1</th>\n",
       "      <th>dim2</th>\n",
       "    </tr>\n",
       "  </thead>\n",
       "  <tbody>\n",
       "    <tr>\n",
       "      <th>ftisrael</th>\n",
       "      <td>0.124992</td>\n",
       "      <td>-0.695920</td>\n",
       "    </tr>\n",
       "    <tr>\n",
       "      <th>ftice</th>\n",
       "      <td>0.478175</td>\n",
       "      <td>-0.632289</td>\n",
       "    </tr>\n",
       "    <tr>\n",
       "      <th>ftnra</th>\n",
       "      <td>0.550674</td>\n",
       "      <td>-0.613404</td>\n",
       "    </tr>\n",
       "    <tr>\n",
       "      <th>ftwhite</th>\n",
       "      <td>-0.104892</td>\n",
       "      <td>-0.582802</td>\n",
       "    </tr>\n",
       "    <tr>\n",
       "      <th>ftasian</th>\n",
       "      <td>-0.410437</td>\n",
       "      <td>-0.565740</td>\n",
       "    </tr>\n",
       "    <tr>\n",
       "      <th>fttrump</th>\n",
       "      <td>0.685936</td>\n",
       "      <td>-0.561953</td>\n",
       "    </tr>\n",
       "    <tr>\n",
       "      <th>ftjapan</th>\n",
       "      <td>-0.415978</td>\n",
       "      <td>-0.542368</td>\n",
       "    </tr>\n",
       "    <tr>\n",
       "      <th>ftrussia</th>\n",
       "      <td>-0.071980</td>\n",
       "      <td>-0.494301</td>\n",
       "    </tr>\n",
       "    <tr>\n",
       "      <th>ftbritain</th>\n",
       "      <td>-0.429749</td>\n",
       "      <td>-0.493660</td>\n",
       "    </tr>\n",
       "    <tr>\n",
       "      <th>fthisp</th>\n",
       "      <td>-0.495543</td>\n",
       "      <td>-0.480104</td>\n",
       "    </tr>\n",
       "    <tr>\n",
       "      <th>ftsaudi</th>\n",
       "      <td>-0.262063</td>\n",
       "      <td>-0.475874</td>\n",
       "    </tr>\n",
       "    <tr>\n",
       "      <th>ftimmig</th>\n",
       "      <td>-0.433261</td>\n",
       "      <td>-0.465341</td>\n",
       "    </tr>\n",
       "    <tr>\n",
       "      <th>ftblack</th>\n",
       "      <td>-0.437558</td>\n",
       "      <td>-0.442105</td>\n",
       "    </tr>\n",
       "    <tr>\n",
       "      <th>ftukraine</th>\n",
       "      <td>-0.537361</td>\n",
       "      <td>-0.395656</td>\n",
       "    </tr>\n",
       "    <tr>\n",
       "      <th>ftturkey</th>\n",
       "      <td>-0.417361</td>\n",
       "      <td>-0.384297</td>\n",
       "    </tr>\n",
       "    <tr>\n",
       "      <th>ftchina</th>\n",
       "      <td>-0.524933</td>\n",
       "      <td>-0.310716</td>\n",
       "    </tr>\n",
       "    <tr>\n",
       "      <th>ftgermany</th>\n",
       "      <td>-0.661523</td>\n",
       "      <td>-0.292994</td>\n",
       "    </tr>\n",
       "    <tr>\n",
       "      <th>ftnkorea</th>\n",
       "      <td>-0.270753</td>\n",
       "      <td>-0.282779</td>\n",
       "    </tr>\n",
       "    <tr>\n",
       "      <th>ftcanada</th>\n",
       "      <td>-0.616064</td>\n",
       "      <td>-0.262212</td>\n",
       "    </tr>\n",
       "    <tr>\n",
       "      <th>ftmexico</th>\n",
       "      <td>-0.716031</td>\n",
       "      <td>-0.262069</td>\n",
       "    </tr>\n",
       "    <tr>\n",
       "      <th>ftfrance</th>\n",
       "      <td>-0.743863</td>\n",
       "      <td>-0.204568</td>\n",
       "    </tr>\n",
       "    <tr>\n",
       "      <th>ftiran</th>\n",
       "      <td>-0.576525</td>\n",
       "      <td>-0.108441</td>\n",
       "    </tr>\n",
       "    <tr>\n",
       "      <th>ftmuslim</th>\n",
       "      <td>-0.769883</td>\n",
       "      <td>-0.099410</td>\n",
       "    </tr>\n",
       "    <tr>\n",
       "      <th>ftpales</th>\n",
       "      <td>-0.708715</td>\n",
       "      <td>-0.070891</td>\n",
       "    </tr>\n",
       "    <tr>\n",
       "      <th>ftnato</th>\n",
       "      <td>-0.702494</td>\n",
       "      <td>-0.065116</td>\n",
       "    </tr>\n",
       "    <tr>\n",
       "      <th>ftillegal</th>\n",
       "      <td>-0.811237</td>\n",
       "      <td>0.137009</td>\n",
       "    </tr>\n",
       "    <tr>\n",
       "      <th>ftun</th>\n",
       "      <td>-0.817509</td>\n",
       "      <td>0.169748</td>\n",
       "    </tr>\n",
       "    <tr>\n",
       "      <th>ftjournal</th>\n",
       "      <td>-0.830682</td>\n",
       "      <td>0.225884</td>\n",
       "    </tr>\n",
       "    <tr>\n",
       "      <th>ftbuttigieg</th>\n",
       "      <td>-0.750555</td>\n",
       "      <td>0.254972</td>\n",
       "    </tr>\n",
       "    <tr>\n",
       "      <th>ftharris</th>\n",
       "      <td>-0.774592</td>\n",
       "      <td>0.292578</td>\n",
       "    </tr>\n",
       "    <tr>\n",
       "      <th>ftbiden</th>\n",
       "      <td>-0.752664</td>\n",
       "      <td>0.319839</td>\n",
       "    </tr>\n",
       "    <tr>\n",
       "      <th>ftsanders</th>\n",
       "      <td>-0.746146</td>\n",
       "      <td>0.355575</td>\n",
       "    </tr>\n",
       "    <tr>\n",
       "      <th>ftwarren</th>\n",
       "      <td>-0.804091</td>\n",
       "      <td>0.360558</td>\n",
       "    </tr>\n",
       "    <tr>\n",
       "      <th>ftobama</th>\n",
       "      <td>-0.804786</td>\n",
       "      <td>0.376683</td>\n",
       "    </tr>\n",
       "  </tbody>\n",
       "</table>\n",
       "</div>"
      ],
      "text/plain": [
       "                 dim1      dim2\n",
       "ftisrael     0.124992 -0.695920\n",
       "ftice        0.478175 -0.632289\n",
       "ftnra        0.550674 -0.613404\n",
       "ftwhite     -0.104892 -0.582802\n",
       "ftasian     -0.410437 -0.565740\n",
       "fttrump      0.685936 -0.561953\n",
       "ftjapan     -0.415978 -0.542368\n",
       "ftrussia    -0.071980 -0.494301\n",
       "ftbritain   -0.429749 -0.493660\n",
       "fthisp      -0.495543 -0.480104\n",
       "ftsaudi     -0.262063 -0.475874\n",
       "ftimmig     -0.433261 -0.465341\n",
       "ftblack     -0.437558 -0.442105\n",
       "ftukraine   -0.537361 -0.395656\n",
       "ftturkey    -0.417361 -0.384297\n",
       "ftchina     -0.524933 -0.310716\n",
       "ftgermany   -0.661523 -0.292994\n",
       "ftnkorea    -0.270753 -0.282779\n",
       "ftcanada    -0.616064 -0.262212\n",
       "ftmexico    -0.716031 -0.262069\n",
       "ftfrance    -0.743863 -0.204568\n",
       "ftiran      -0.576525 -0.108441\n",
       "ftmuslim    -0.769883 -0.099410\n",
       "ftpales     -0.708715 -0.070891\n",
       "ftnato      -0.702494 -0.065116\n",
       "ftillegal   -0.811237  0.137009\n",
       "ftun        -0.817509  0.169748\n",
       "ftjournal   -0.830682  0.225884\n",
       "ftbuttigieg -0.750555  0.254972\n",
       "ftharris    -0.774592  0.292578\n",
       "ftbiden     -0.752664  0.319839\n",
       "ftsanders   -0.746146  0.355575\n",
       "ftwarren    -0.804091  0.360558\n",
       "ftobama     -0.804786  0.376683"
      ]
     },
     "execution_count": 347,
     "metadata": {},
     "output_type": "execute_result"
    }
   ],
   "source": [
    "loadings.sort_values('dim2')"
   ]
  },
  {
   "cell_type": "markdown",
   "metadata": {},
   "source": [
    "The secone feature(dim2) seems associated with left-right political ideology as well, but it appears to partly identify the countries."
   ]
  },
  {
   "cell_type": "markdown",
   "metadata": {},
   "source": [
    "### Multiple Correspondence Analysis (MCA)\n",
    "\n",
    "Similar to PCA, but MCA works with categorical observed features instead of continuous-valued ones. Like multidimensional scaling, MCA can be used to generate a map that is an excellent tool for EDA. In this case, the map will show would closely categories of different features correspond to one another."
   ]
  },
  {
   "cell_type": "code",
   "execution_count": 794,
   "metadata": {},
   "outputs": [
    {
     "data": {
      "image/png": "[encoded data removed]",
      "text/plain": [
       "<Figure size 864x864 with 1 Axes>"
      ]
     },
     "metadata": {
      "needs_background": "light"
     },
     "output_type": "display_data"
    }
   ],
   "source": [
    "from prince import MCA\n",
    "\n",
    "df_cat = df_clean[['liveurban', 'vote16', 'vote', 'confecon', 'ideology', 'partyID', \n",
    "                   'universal_income', 'family_separation', 'free_college', \n",
    "                   'forgive_loans', 'race', 'sex', 'education']].dropna()\n",
    "mca = MCA(n_components=2)\n",
    "mca = mca.fit(df_cat)\n",
    "\n",
    "mca.plot_coordinates(X=df_cat, \n",
    "                     figsize=(12, 12), \n",
    "                     show_row_points=False, \n",
    "                     row_points_size=10, \n",
    "                     show_row_labels=False, \n",
    "                     show_column_points=True,\n",
    "                     column_points_size=30,\n",
    "                     show_column_labels=True,\n",
    "                     legend_n_cols=1);"
   ]
  },
  {
   "cell_type": "code",
   "execution_count": 795,
   "metadata": {},
   "outputs": [
    {
     "data": {
      "text/html": [
       "<div>\n",
       "<style scoped>\n",
       "    .dataframe tbody tr th:only-of-type {\n",
       "        vertical-align: middle;\n",
       "    }\n",
       "\n",
       "    .dataframe tbody tr th {\n",
       "        vertical-align: top;\n",
       "    }\n",
       "\n",
       "    .dataframe thead th {\n",
       "        text-align: right;\n",
       "    }\n",
       "</style>\n",
       "<table border=\"1\" class=\"dataframe\">\n",
       "  <thead>\n",
       "    <tr style=\"text-align: right;\">\n",
       "      <th></th>\n",
       "      <th>0</th>\n",
       "      <th>1</th>\n",
       "    </tr>\n",
       "  </thead>\n",
       "  <tbody>\n",
       "    <tr>\n",
       "      <th>forgive_loans_Favor a great deal</th>\n",
       "      <td>-1.016875</td>\n",
       "      <td>-0.948425</td>\n",
       "    </tr>\n",
       "    <tr>\n",
       "      <th>free_college_Favor a great deal</th>\n",
       "      <td>-1.014847</td>\n",
       "      <td>-0.968513</td>\n",
       "    </tr>\n",
       "    <tr>\n",
       "      <th>ideology_Liberal</th>\n",
       "      <td>-0.976584</td>\n",
       "      <td>-0.538839</td>\n",
       "    </tr>\n",
       "    <tr>\n",
       "      <th>vote16_Hillary Clinton</th>\n",
       "      <td>-0.920940</td>\n",
       "      <td>-0.321139</td>\n",
       "    </tr>\n",
       "    <tr>\n",
       "      <th>partyID_Democrat</th>\n",
       "      <td>-0.886805</td>\n",
       "      <td>-0.179322</td>\n",
       "    </tr>\n",
       "    <tr>\n",
       "      <th>...</th>\n",
       "      <td>...</td>\n",
       "      <td>...</td>\n",
       "    </tr>\n",
       "    <tr>\n",
       "      <th>vote16_Donald Trump</th>\n",
       "      <td>1.015532</td>\n",
       "      <td>-0.148591</td>\n",
       "    </tr>\n",
       "    <tr>\n",
       "      <th>universal_income_Oppse a great deal</th>\n",
       "      <td>1.030309</td>\n",
       "      <td>-0.274405</td>\n",
       "    </tr>\n",
       "    <tr>\n",
       "      <th>forgive_loans_Oppose a great deal</th>\n",
       "      <td>1.031305</td>\n",
       "      <td>-0.277152</td>\n",
       "    </tr>\n",
       "    <tr>\n",
       "      <th>confecon_Not at all worried</th>\n",
       "      <td>1.038713</td>\n",
       "      <td>-0.219533</td>\n",
       "    </tr>\n",
       "    <tr>\n",
       "      <th>free_college_Oppose a great deal</th>\n",
       "      <td>1.063889</td>\n",
       "      <td>-0.278377</td>\n",
       "    </tr>\n",
       "  </tbody>\n",
       "</table>\n",
       "<p>61 rows × 2 columns</p>\n",
       "</div>"
      ],
      "text/plain": [
       "                                            0         1\n",
       "forgive_loans_Favor a great deal    -1.016875 -0.948425\n",
       "free_college_Favor a great deal     -1.014847 -0.968513\n",
       "ideology_Liberal                    -0.976584 -0.538839\n",
       "vote16_Hillary Clinton              -0.920940 -0.321139\n",
       "partyID_Democrat                    -0.886805 -0.179322\n",
       "...                                       ...       ...\n",
       "vote16_Donald Trump                  1.015532 -0.148591\n",
       "universal_income_Oppse a great deal  1.030309 -0.274405\n",
       "forgive_loans_Oppose a great deal    1.031305 -0.277152\n",
       "confecon_Not at all worried          1.038713 -0.219533\n",
       "free_college_Oppose a great deal     1.063889 -0.278377\n",
       "\n",
       "[61 rows x 2 columns]"
      ]
     },
     "execution_count": 795,
     "metadata": {},
     "output_type": "execute_result"
    }
   ],
   "source": [
    "mca.column_coordinates(df_cat).sort_values(0)"
   ]
  },
  {
   "cell_type": "markdown",
   "metadata": {},
   "source": [
    "The first latent feature we have categories is for liberal ideology, voting for Hillary Clinton in 2016, identifying as a Democrat, and supporting free college and educational loan forgiveness a great deal. On the other end we have categories for voting for Trump in 2016, no worry about the economy, and a great deal of opposition to free college, loan forgiveness, and universal basic income. This first latent feature appears to be the left-right ideological dimension."
   ]
  },
  {
   "cell_type": "code",
   "execution_count": 796,
   "metadata": {},
   "outputs": [
    {
     "data": {
      "text/html": [
       "<div>\n",
       "<style scoped>\n",
       "    .dataframe tbody tr th:only-of-type {\n",
       "        vertical-align: middle;\n",
       "    }\n",
       "\n",
       "    .dataframe tbody tr th {\n",
       "        vertical-align: top;\n",
       "    }\n",
       "\n",
       "    .dataframe thead th {\n",
       "        text-align: right;\n",
       "    }\n",
       "</style>\n",
       "<table border=\"1\" class=\"dataframe\">\n",
       "  <thead>\n",
       "    <tr style=\"text-align: right;\">\n",
       "      <th></th>\n",
       "      <th>0</th>\n",
       "      <th>1</th>\n",
       "    </tr>\n",
       "  </thead>\n",
       "  <tbody>\n",
       "    <tr>\n",
       "      <th>free_college_Favor a great deal</th>\n",
       "      <td>-1.014847</td>\n",
       "      <td>-0.968513</td>\n",
       "    </tr>\n",
       "    <tr>\n",
       "      <th>forgive_loans_Favor a great deal</th>\n",
       "      <td>-1.016875</td>\n",
       "      <td>-0.948425</td>\n",
       "    </tr>\n",
       "    <tr>\n",
       "      <th>universal_income_Favor a great deal</th>\n",
       "      <td>-0.844009</td>\n",
       "      <td>-0.786407</td>\n",
       "    </tr>\n",
       "    <tr>\n",
       "      <th>confecon_Extremely worried</th>\n",
       "      <td>-0.801452</td>\n",
       "      <td>-0.561779</td>\n",
       "    </tr>\n",
       "    <tr>\n",
       "      <th>ideology_Liberal</th>\n",
       "      <td>-0.976584</td>\n",
       "      <td>-0.538839</td>\n",
       "    </tr>\n",
       "    <tr>\n",
       "      <th>...</th>\n",
       "      <td>...</td>\n",
       "      <td>...</td>\n",
       "    </tr>\n",
       "    <tr>\n",
       "      <th>universal_income_Neither favor nor oppose</th>\n",
       "      <td>-0.468033</td>\n",
       "      <td>0.943663</td>\n",
       "    </tr>\n",
       "    <tr>\n",
       "      <th>vote16_Did not vote</th>\n",
       "      <td>-0.305585</td>\n",
       "      <td>1.122188</td>\n",
       "    </tr>\n",
       "    <tr>\n",
       "      <th>forgive_loans_Neither favor nor oppose</th>\n",
       "      <td>-0.357096</td>\n",
       "      <td>1.485270</td>\n",
       "    </tr>\n",
       "    <tr>\n",
       "      <th>free_college_Neither favor nor oppose</th>\n",
       "      <td>-0.369833</td>\n",
       "      <td>1.552549</td>\n",
       "    </tr>\n",
       "    <tr>\n",
       "      <th>vote_Probably will not vote</th>\n",
       "      <td>-0.414181</td>\n",
       "      <td>1.903382</td>\n",
       "    </tr>\n",
       "  </tbody>\n",
       "</table>\n",
       "<p>61 rows × 2 columns</p>\n",
       "</div>"
      ],
      "text/plain": [
       "                                                  0         1\n",
       "free_college_Favor a great deal           -1.014847 -0.968513\n",
       "forgive_loans_Favor a great deal          -1.016875 -0.948425\n",
       "universal_income_Favor a great deal       -0.844009 -0.786407\n",
       "confecon_Extremely worried                -0.801452 -0.561779\n",
       "ideology_Liberal                          -0.976584 -0.538839\n",
       "...                                             ...       ...\n",
       "universal_income_Neither favor nor oppose -0.468033  0.943663\n",
       "vote16_Did not vote                       -0.305585  1.122188\n",
       "forgive_loans_Neither favor nor oppose    -0.357096  1.485270\n",
       "free_college_Neither favor nor oppose     -0.369833  1.552549\n",
       "vote_Probably will not vote               -0.414181  1.903382\n",
       "\n",
       "[61 rows x 2 columns]"
      ]
     },
     "execution_count": 796,
     "metadata": {},
     "output_type": "execute_result"
    }
   ],
   "source": [
    "mca.column_coordinates(df_cat).sort_values(1)"
   ]
  },
  {
   "cell_type": "markdown",
   "metadata": {},
   "source": [
    "On one end, we have positions that do not take a position: did not vote in 2016, probably will not vote in 2020, and neither favor nor oppose universal basic income, loan forgiveness, and free college. This appears to measure voter apathy."
   ]
  },
  {
   "cell_type": "markdown",
   "metadata": {},
   "source": [
    "# The end"
   ]
  }
 ],
 "metadata": {
  "kernelspec": {
   "display_name": "Python 3",
   "language": "python",
   "name": "python3"
  },
  "language_info": {
   "codemirror_mode": {
    "name": "ipython",
    "version": 3
   },
   "file_extension": ".py",
   "mimetype": "text/x-python",
   "name": "python",
   "nbconvert_exporter": "python",
   "pygments_lexer": "ipython3",
   "version": "3.6.7"
  }
 },
 "nbformat": 4,
 "nbformat_minor": 2
}
