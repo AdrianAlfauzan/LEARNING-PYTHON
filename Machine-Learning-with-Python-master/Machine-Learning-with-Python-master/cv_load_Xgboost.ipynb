{
 "cells": [
  {
   "cell_type": "code",
   "execution_count": 1,
   "metadata": {},
   "outputs": [],
   "source": [
    "from collections import Counter\n",
    "\n",
    "dtype = {\n",
    "    'Usage': 'category',\n",
    "    'Description': 'category',\n",
    "    'status': 'category',\n",
    "}\n",
    "df = pd.read_csv('data/reservations.csv.gz', dtype=dtype, parse_dates=['created', 'arrival', 'departure'])\n",
    "df.drop(columns='Usage', inplace=True)\n",
    "\n",
    "df.loc[df['cancel_date'] == '0001-01-01T00:00:00', ['cancel_date']] = None\n",
    "df['cancel_date'] = pd.to_datetime(df['cancel_date'])\n",
    "\n",
    "df['arrival_year'] = df['arrival'].dt.year"
   ]
  },
  {
   "cell_type": "code",
   "execution_count": 2,
   "metadata": {},
   "outputs": [],
   "source": [
    "appearances = {}\n",
    "for contract_id in df['contract_id'].unique():\n",
    "    subset_df = df.loc[df['contract_id'] == contract_id].sort_values(by=['arrival', 'created'])\n",
    "    # save the last known state\n",
    "    # fill in blanks for bad years\n",
    "    # handle case where cancel year might come after a series of misses\n",
    "    yearly_state = {arrival_year: status for (created, arrival_year, status) in subset_df[['created', 'arrival_year', 'status']].itertuples(index=False, name=None)}\n",
    "    earliest = subset_df['arrival_year'].min()\n",
    "    latest = min(subset_df['arrival_year'].max(), 2019)\n",
    "    activity = [(year, yearly_state.get(year, 'no-show')) for year in range(earliest, latest + 1)]    \n",
    "    if activity:\n",
    "        resort_id = subset_df['resort_id'].values[0]\n",
    "        appearances[str(contract_id)] = [resort_id] + activity"
   ]
  },
  {
   "cell_type": "code",
   "execution_count": 3,
   "metadata": {},
   "outputs": [],
   "source": [
    "rows = []\n",
    "for r in list(appearances.values()):\n",
    "    resort_id, activity = r[0], r[1:]\n",
    "    row = [None] * 5\n",
    "    row[-len(activity):] = [s for year, s in activity]\n",
    "    rows.append([resort_id] + row)"
   ]
  },
  {
   "cell_type": "code",
   "execution_count": 4,
   "metadata": {},
   "outputs": [],
   "source": [
    "df = pd.DataFrame(rows, columns=['resort_id', 'year_2015', 'year_2016', 'year_2017', 'year_2018', 'year_2019'])"
   ]
  },
  {
   "cell_type": "code",
   "execution_count": 5,
   "metadata": {},
   "outputs": [
    {
     "data": {
      "text/html": [
       "<div>\n",
       "<style scoped>\n",
       "    .dataframe tbody tr th:only-of-type {\n",
       "        vertical-align: middle;\n",
       "    }\n",
       "\n",
       "    .dataframe tbody tr th {\n",
       "        vertical-align: top;\n",
       "    }\n",
       "\n",
       "    .dataframe thead th {\n",
       "        text-align: right;\n",
       "    }\n",
       "</style>\n",
       "<table border=\"1\" class=\"dataframe\">\n",
       "  <thead>\n",
       "    <tr style=\"text-align: right;\">\n",
       "      <th></th>\n",
       "      <th>resort_id</th>\n",
       "      <th>year_2015</th>\n",
       "      <th>year_2016</th>\n",
       "      <th>year_2017</th>\n",
       "      <th>year_2018</th>\n",
       "      <th>year_2019</th>\n",
       "    </tr>\n",
       "  </thead>\n",
       "  <tbody>\n",
       "    <tr>\n",
       "      <th>0</th>\n",
       "      <td>28</td>\n",
       "      <td>None</td>\n",
       "      <td>None</td>\n",
       "      <td>active</td>\n",
       "      <td>active</td>\n",
       "      <td>active</td>\n",
       "    </tr>\n",
       "    <tr>\n",
       "      <th>1</th>\n",
       "      <td>28</td>\n",
       "      <td>active</td>\n",
       "      <td>active</td>\n",
       "      <td>active</td>\n",
       "      <td>active</td>\n",
       "      <td>active</td>\n",
       "    </tr>\n",
       "    <tr>\n",
       "      <th>2</th>\n",
       "      <td>30</td>\n",
       "      <td>active</td>\n",
       "      <td>active</td>\n",
       "      <td>active</td>\n",
       "      <td>cancelled</td>\n",
       "      <td>cancelled</td>\n",
       "    </tr>\n",
       "    <tr>\n",
       "      <th>3</th>\n",
       "      <td>39</td>\n",
       "      <td>no-show</td>\n",
       "      <td>active</td>\n",
       "      <td>active</td>\n",
       "      <td>active</td>\n",
       "      <td>active</td>\n",
       "    </tr>\n",
       "    <tr>\n",
       "      <th>4</th>\n",
       "      <td>38</td>\n",
       "      <td>cancelled</td>\n",
       "      <td>active</td>\n",
       "      <td>cancelled</td>\n",
       "      <td>active</td>\n",
       "      <td>active</td>\n",
       "    </tr>\n",
       "  </tbody>\n",
       "</table>\n",
       "</div>"
      ],
      "text/plain": [
       "   resort_id  year_2015 year_2016  year_2017  year_2018  year_2019\n",
       "0         28       None      None     active     active     active\n",
       "1         28     active    active     active     active     active\n",
       "2         30     active    active     active  cancelled  cancelled\n",
       "3         39    no-show    active     active     active     active\n",
       "4         38  cancelled    active  cancelled     active     active"
      ]
     },
     "execution_count": 5,
     "metadata": {},
     "output_type": "execute_result"
    }
   ],
   "source": [
    "df.head()"
   ]
  },
  {
   "cell_type": "code",
   "execution_count": 6,
   "metadata": {},
   "outputs": [],
   "source": [
    "df.drop('resort_id', axis=1, inplace=True)\n",
    "\n",
    "df.year_2015 = pd.Categorical(df.year_2015)\n",
    "df['year_2015'] = df.year_2015.cat.codes\n",
    "\n",
    "df.year_2016 = pd.Categorical(df.year_2016)\n",
    "df['year_2016'] = df.year_2016.cat.codes\n",
    "\n",
    "df.year_2017 = pd.Categorical(df.year_2017)\n",
    "df['year_2017'] = df.year_2017.cat.codes\n",
    "\n",
    "df.year_2018 = pd.Categorical(df.year_2018)\n",
    "df['year_2018'] = df.year_2018.cat.codes\n",
    "\n",
    "#df.year_2019 = pd.Categorical(df.year_2019)\n",
    "#df['year_2019'] = df.year_2019.cat.codes\n",
    "\n",
    "df.columns = [''] * len(df.columns)"
   ]
  },
  {
   "cell_type": "code",
   "execution_count": 7,
   "metadata": {},
   "outputs": [],
   "source": [
    "from xgboost import XGBClassifier\n",
    "from sklearn.model_selection import train_test_split\n",
    "from sklearn.metrics import accuracy_score\n",
    "from xgboost import plot_importance\n",
    "from sklearn.metrics import roc_auc_score"
   ]
  },
  {
   "cell_type": "code",
   "execution_count": 8,
   "metadata": {},
   "outputs": [],
   "source": [
    "X = df.values[:,:-1]\n",
    "y = df.values[:, -1]"
   ]
  },
  {
   "cell_type": "code",
   "execution_count": 9,
   "metadata": {},
   "outputs": [],
   "source": [
    "X_train, X_test, y_train, y_test = train_test_split(X, y, test_size=0.3, random_state=0)"
   ]
  },
  {
   "cell_type": "code",
   "execution_count": 10,
   "metadata": {},
   "outputs": [
    {
     "name": "stdout",
     "output_type": "stream",
     "text": [
      "Accuracy: 0.6675513946530258\n"
     ]
    }
   ],
   "source": [
    "model = XGBClassifier()\n",
    "model.fit(X_train, y_train)\n",
    "y_pred = model.predict(X_test)\n",
    "accuracy = accuracy_score(y_test, y_pred)\n",
    "\n",
    "print('Accuracy:', accuracy)"
   ]
  },
  {
   "cell_type": "code",
   "execution_count": 14,
   "metadata": {},
   "outputs": [
    {
     "name": "stdout",
     "output_type": "stream",
     "text": [
      "AUC: 0.7678660585317042\n"
     ]
    }
   ],
   "source": [
    "y_prob = model.predict_proba(X_test)\n",
    "auc = roc_auc_score(y_test, y_prob, multi_class=\"ovo\", average=\"macro\")\n",
    "\n",
    "print('AUC:', auc)"
   ]
  },
  {
   "cell_type": "code",
   "execution_count": 15,
   "metadata": {},
   "outputs": [
    {
     "name": "stdout",
     "output_type": "stream",
     "text": [
      "              precision    recall  f1-score   support\n",
      "\n",
      "      active       0.71      0.86      0.78     11582\n",
      "   cancelled       0.61      0.51      0.55      5562\n",
      "     no-show       0.51      0.29      0.37      3578\n",
      "\n",
      "    accuracy                           0.67     20722\n",
      "   macro avg       0.61      0.55      0.57     20722\n",
      "weighted avg       0.65      0.67      0.65     20722\n",
      "\n"
     ]
    }
   ],
   "source": [
    "from sklearn.metrics import classification_report\n",
    "\n",
    "print(classification_report(y_test, y_pred))"
   ]
  },
  {
   "cell_type": "code",
   "execution_count": 17,
   "metadata": {},
   "outputs": [
    {
     "data": {
      "image/png": "[encoded data removed]",
      "text/plain": [
       "<Figure size 432x288 with 1 Axes>"
      ]
     },
     "metadata": {
      "needs_background": "light"
     },
     "output_type": "display_data"
    }
   ],
   "source": [
    "model.get_booster().feature_names = ['year_2015', 'year_2016', 'year_2017', 'year_2018']\n",
    "plot_importance(model.get_booster());"
   ]
  },
  {
   "cell_type": "code",
   "execution_count": 18,
   "metadata": {
    "scrolled": false
   },
   "outputs": [
    {
     "name": "stdout",
     "output_type": "stream",
     "text": [
      "[0]\tvalidation_0-merror:0.3396\tvalidation_0-mlogloss:1.05477\tvalidation_1-merror:0.339301\tvalidation_1-mlogloss:1.05502\n",
      "[1]\tvalidation_0-merror:0.34142\tvalidation_0-mlogloss:1.01778\tvalidation_1-merror:0.34099\tvalidation_1-mlogloss:1.01841\n",
      "[2]\tvalidation_0-merror:0.34142\tvalidation_0-mlogloss:0.986663\tvalidation_1-merror:0.34099\tvalidation_1-mlogloss:0.987349\n",
      "[3]\tvalidation_0-merror:0.34142\tvalidation_0-mlogloss:0.960197\tvalidation_1-merror:0.34099\tvalidation_1-mlogloss:0.96085\n",
      "[4]\tvalidation_0-merror:0.34142\tvalidation_0-mlogloss:0.937143\tvalidation_1-merror:0.34099\tvalidation_1-mlogloss:0.938186\n",
      "[5]\tvalidation_0-merror:0.34142\tvalidation_0-mlogloss:0.917799\tvalidation_1-merror:0.34099\tvalidation_1-mlogloss:0.918738\n",
      "[6]\tvalidation_0-merror:0.34142\tvalidation_0-mlogloss:0.901054\tvalidation_1-merror:0.34099\tvalidation_1-mlogloss:0.901939\n",
      "[7]\tvalidation_0-merror:0.34142\tvalidation_0-mlogloss:0.8865\tvalidation_1-merror:0.34099\tvalidation_1-mlogloss:0.887359\n",
      "[8]\tvalidation_0-merror:0.34142\tvalidation_0-mlogloss:0.873882\tvalidation_1-merror:0.34099\tvalidation_1-mlogloss:0.87476\n",
      "[9]\tvalidation_0-merror:0.34142\tvalidation_0-mlogloss:0.863038\tvalidation_1-merror:0.34099\tvalidation_1-mlogloss:0.863981\n",
      "[10]\tvalidation_0-merror:0.33991\tvalidation_0-mlogloss:0.853589\tvalidation_1-merror:0.340266\tvalidation_1-mlogloss:0.854481\n",
      "[11]\tvalidation_0-merror:0.33991\tvalidation_0-mlogloss:0.845369\tvalidation_1-merror:0.340266\tvalidation_1-mlogloss:0.846237\n",
      "[12]\tvalidation_0-merror:0.33991\tvalidation_0-mlogloss:0.838393\tvalidation_1-merror:0.340266\tvalidation_1-mlogloss:0.839179\n",
      "[13]\tvalidation_0-merror:0.33991\tvalidation_0-mlogloss:0.832054\tvalidation_1-merror:0.340266\tvalidation_1-mlogloss:0.832772\n",
      "[14]\tvalidation_0-merror:0.33991\tvalidation_0-mlogloss:0.826918\tvalidation_1-merror:0.340266\tvalidation_1-mlogloss:0.827643\n",
      "[15]\tvalidation_0-merror:0.33991\tvalidation_0-mlogloss:0.82222\tvalidation_1-merror:0.340266\tvalidation_1-mlogloss:0.82291\n",
      "[16]\tvalidation_0-merror:0.33991\tvalidation_0-mlogloss:0.818291\tvalidation_1-merror:0.340266\tvalidation_1-mlogloss:0.818941\n",
      "[17]\tvalidation_0-merror:0.339455\tvalidation_0-mlogloss:0.814533\tvalidation_1-merror:0.340556\tvalidation_1-mlogloss:0.815285\n",
      "[18]\tvalidation_0-merror:0.339435\tvalidation_0-mlogloss:0.811274\tvalidation_1-merror:0.34017\tvalidation_1-mlogloss:0.812117\n",
      "[19]\tvalidation_0-merror:0.339435\tvalidation_0-mlogloss:0.808605\tvalidation_1-merror:0.34017\tvalidation_1-mlogloss:0.809398\n",
      "[20]\tvalidation_0-merror:0.335339\tvalidation_0-mlogloss:0.805982\tvalidation_1-merror:0.335199\tvalidation_1-mlogloss:0.806835\n",
      "[21]\tvalidation_0-merror:0.335339\tvalidation_0-mlogloss:0.803714\tvalidation_1-merror:0.335199\tvalidation_1-mlogloss:0.804678\n",
      "[22]\tvalidation_0-merror:0.334347\tvalidation_0-mlogloss:0.801768\tvalidation_1-merror:0.333945\tvalidation_1-mlogloss:0.802672\n",
      "[23]\tvalidation_0-merror:0.33414\tvalidation_0-mlogloss:0.800066\tvalidation_1-merror:0.334427\tvalidation_1-mlogloss:0.801081\n",
      "[24]\tvalidation_0-merror:0.33414\tvalidation_0-mlogloss:0.798531\tvalidation_1-merror:0.334427\tvalidation_1-mlogloss:0.799468\n",
      "[25]\tvalidation_0-merror:0.333437\tvalidation_0-mlogloss:0.796854\tvalidation_1-merror:0.333655\tvalidation_1-mlogloss:0.797836\n",
      "[26]\tvalidation_0-merror:0.333437\tvalidation_0-mlogloss:0.795511\tvalidation_1-merror:0.333655\tvalidation_1-mlogloss:0.796422\n",
      "[27]\tvalidation_0-merror:0.333437\tvalidation_0-mlogloss:0.794246\tvalidation_1-merror:0.333655\tvalidation_1-mlogloss:0.795084\n",
      "[28]\tvalidation_0-merror:0.333437\tvalidation_0-mlogloss:0.793096\tvalidation_1-merror:0.333655\tvalidation_1-mlogloss:0.794\n",
      "[29]\tvalidation_0-merror:0.333106\tvalidation_0-mlogloss:0.792061\tvalidation_1-merror:0.333607\tvalidation_1-mlogloss:0.792862\n",
      "[30]\tvalidation_0-merror:0.333561\tvalidation_0-mlogloss:0.791092\tvalidation_1-merror:0.333317\tvalidation_1-mlogloss:0.791882\n",
      "[31]\tvalidation_0-merror:0.333561\tvalidation_0-mlogloss:0.790295\tvalidation_1-merror:0.333317\tvalidation_1-mlogloss:0.791011\n",
      "[32]\tvalidation_0-merror:0.333106\tvalidation_0-mlogloss:0.789673\tvalidation_1-merror:0.333607\tvalidation_1-mlogloss:0.790319\n",
      "[33]\tvalidation_0-merror:0.333064\tvalidation_0-mlogloss:0.788942\tvalidation_1-merror:0.332449\tvalidation_1-mlogloss:0.789537\n",
      "[34]\tvalidation_0-merror:0.332547\tvalidation_0-mlogloss:0.788349\tvalidation_1-merror:0.332497\tvalidation_1-mlogloss:0.788995\n",
      "[35]\tvalidation_0-merror:0.333002\tvalidation_0-mlogloss:0.787743\tvalidation_1-merror:0.332207\tvalidation_1-mlogloss:0.7884\n",
      "[36]\tvalidation_0-merror:0.333002\tvalidation_0-mlogloss:0.787225\tvalidation_1-merror:0.332207\tvalidation_1-mlogloss:0.787923\n",
      "[37]\tvalidation_0-merror:0.333002\tvalidation_0-mlogloss:0.78691\tvalidation_1-merror:0.332207\tvalidation_1-mlogloss:0.78761\n",
      "[38]\tvalidation_0-merror:0.333002\tvalidation_0-mlogloss:0.786591\tvalidation_1-merror:0.332207\tvalidation_1-mlogloss:0.787204\n",
      "[39]\tvalidation_0-merror:0.333002\tvalidation_0-mlogloss:0.786228\tvalidation_1-merror:0.332207\tvalidation_1-mlogloss:0.786946\n",
      "[40]\tvalidation_0-merror:0.333002\tvalidation_0-mlogloss:0.785962\tvalidation_1-merror:0.332207\tvalidation_1-mlogloss:0.786482\n",
      "[41]\tvalidation_0-merror:0.333002\tvalidation_0-mlogloss:0.785637\tvalidation_1-merror:0.332207\tvalidation_1-mlogloss:0.786239\n",
      "[42]\tvalidation_0-merror:0.332506\tvalidation_0-mlogloss:0.785407\tvalidation_1-merror:0.332063\tvalidation_1-mlogloss:0.785975\n",
      "[43]\tvalidation_0-merror:0.332506\tvalidation_0-mlogloss:0.785101\tvalidation_1-merror:0.332063\tvalidation_1-mlogloss:0.785686\n",
      "[44]\tvalidation_0-merror:0.332506\tvalidation_0-mlogloss:0.784929\tvalidation_1-merror:0.332063\tvalidation_1-mlogloss:0.785492\n",
      "[45]\tvalidation_0-merror:0.332506\tvalidation_0-mlogloss:0.784765\tvalidation_1-merror:0.332063\tvalidation_1-mlogloss:0.785343\n",
      "[46]\tvalidation_0-merror:0.332506\tvalidation_0-mlogloss:0.784674\tvalidation_1-merror:0.332063\tvalidation_1-mlogloss:0.7851\n",
      "[47]\tvalidation_0-merror:0.332506\tvalidation_0-mlogloss:0.784411\tvalidation_1-merror:0.332063\tvalidation_1-mlogloss:0.784982\n",
      "[48]\tvalidation_0-merror:0.332506\tvalidation_0-mlogloss:0.784272\tvalidation_1-merror:0.332063\tvalidation_1-mlogloss:0.784788\n",
      "[49]\tvalidation_0-merror:0.332506\tvalidation_0-mlogloss:0.784274\tvalidation_1-merror:0.332063\tvalidation_1-mlogloss:0.784645\n",
      "[50]\tvalidation_0-merror:0.332506\tvalidation_0-mlogloss:0.784081\tvalidation_1-merror:0.332063\tvalidation_1-mlogloss:0.784543\n",
      "[51]\tvalidation_0-merror:0.332506\tvalidation_0-mlogloss:0.783898\tvalidation_1-merror:0.332063\tvalidation_1-mlogloss:0.784427\n",
      "[52]\tvalidation_0-merror:0.332506\tvalidation_0-mlogloss:0.783846\tvalidation_1-merror:0.332063\tvalidation_1-mlogloss:0.784326\n",
      "[53]\tvalidation_0-merror:0.332506\tvalidation_0-mlogloss:0.78386\tvalidation_1-merror:0.332063\tvalidation_1-mlogloss:0.784323\n",
      "[54]\tvalidation_0-merror:0.332506\tvalidation_0-mlogloss:0.783729\tvalidation_1-merror:0.332063\tvalidation_1-mlogloss:0.784178\n",
      "[55]\tvalidation_0-merror:0.332506\tvalidation_0-mlogloss:0.78358\tvalidation_1-merror:0.332063\tvalidation_1-mlogloss:0.784117\n",
      "[56]\tvalidation_0-merror:0.332506\tvalidation_0-mlogloss:0.783509\tvalidation_1-merror:0.332063\tvalidation_1-mlogloss:0.784047\n",
      "[57]\tvalidation_0-merror:0.332506\tvalidation_0-mlogloss:0.783505\tvalidation_1-merror:0.332063\tvalidation_1-mlogloss:0.784026\n",
      "[58]\tvalidation_0-merror:0.332506\tvalidation_0-mlogloss:0.783426\tvalidation_1-merror:0.332063\tvalidation_1-mlogloss:0.783906\n",
      "[59]\tvalidation_0-merror:0.332651\tvalidation_0-mlogloss:0.783269\tvalidation_1-merror:0.332497\tvalidation_1-mlogloss:0.783847\n",
      "[60]\tvalidation_0-merror:0.332651\tvalidation_0-mlogloss:0.783168\tvalidation_1-merror:0.332497\tvalidation_1-mlogloss:0.783816\n",
      "[61]\tvalidation_0-merror:0.332651\tvalidation_0-mlogloss:0.783262\tvalidation_1-merror:0.332497\tvalidation_1-mlogloss:0.783741\n",
      "[62]\tvalidation_0-merror:0.332651\tvalidation_0-mlogloss:0.783172\tvalidation_1-merror:0.332497\tvalidation_1-mlogloss:0.783703\n",
      "[63]\tvalidation_0-merror:0.332651\tvalidation_0-mlogloss:0.783041\tvalidation_1-merror:0.332497\tvalidation_1-mlogloss:0.783646\n",
      "[64]\tvalidation_0-merror:0.332651\tvalidation_0-mlogloss:0.782997\tvalidation_1-merror:0.332497\tvalidation_1-mlogloss:0.783636\n",
      "[65]\tvalidation_0-merror:0.332651\tvalidation_0-mlogloss:0.783023\tvalidation_1-merror:0.332497\tvalidation_1-mlogloss:0.783575\n",
      "[66]\tvalidation_0-merror:0.332651\tvalidation_0-mlogloss:0.782997\tvalidation_1-merror:0.332497\tvalidation_1-mlogloss:0.783515\n"
     ]
    },
    {
     "name": "stdout",
     "output_type": "stream",
     "text": [
      "[67]\tvalidation_0-merror:0.332651\tvalidation_0-mlogloss:0.782833\tvalidation_1-merror:0.332497\tvalidation_1-mlogloss:0.783534\n",
      "[68]\tvalidation_0-merror:0.332651\tvalidation_0-mlogloss:0.782839\tvalidation_1-merror:0.332497\tvalidation_1-mlogloss:0.783478\n",
      "[69]\tvalidation_0-merror:0.332651\tvalidation_0-mlogloss:0.782821\tvalidation_1-merror:0.332497\tvalidation_1-mlogloss:0.783481\n",
      "[70]\tvalidation_0-merror:0.332651\tvalidation_0-mlogloss:0.782844\tvalidation_1-merror:0.332497\tvalidation_1-mlogloss:0.783472\n",
      "[71]\tvalidation_0-merror:0.332651\tvalidation_0-mlogloss:0.782854\tvalidation_1-merror:0.332497\tvalidation_1-mlogloss:0.783417\n",
      "[72]\tvalidation_0-merror:0.332651\tvalidation_0-mlogloss:0.782854\tvalidation_1-merror:0.332497\tvalidation_1-mlogloss:0.783407\n",
      "[73]\tvalidation_0-merror:0.332651\tvalidation_0-mlogloss:0.782753\tvalidation_1-merror:0.332497\tvalidation_1-mlogloss:0.783351\n",
      "[74]\tvalidation_0-merror:0.332485\tvalidation_0-mlogloss:0.782701\tvalidation_1-merror:0.332352\tvalidation_1-mlogloss:0.78333\n",
      "[75]\tvalidation_0-merror:0.332485\tvalidation_0-mlogloss:0.782656\tvalidation_1-merror:0.332352\tvalidation_1-mlogloss:0.78332\n",
      "[76]\tvalidation_0-merror:0.332485\tvalidation_0-mlogloss:0.782595\tvalidation_1-merror:0.332352\tvalidation_1-mlogloss:0.783323\n",
      "[77]\tvalidation_0-merror:0.332485\tvalidation_0-mlogloss:0.782556\tvalidation_1-merror:0.332352\tvalidation_1-mlogloss:0.783246\n",
      "[78]\tvalidation_0-merror:0.332485\tvalidation_0-mlogloss:0.782579\tvalidation_1-merror:0.332352\tvalidation_1-mlogloss:0.783232\n",
      "[79]\tvalidation_0-merror:0.332485\tvalidation_0-mlogloss:0.782462\tvalidation_1-merror:0.332352\tvalidation_1-mlogloss:0.78326\n",
      "[80]\tvalidation_0-merror:0.332485\tvalidation_0-mlogloss:0.78248\tvalidation_1-merror:0.332352\tvalidation_1-mlogloss:0.783178\n",
      "[81]\tvalidation_0-merror:0.332485\tvalidation_0-mlogloss:0.782422\tvalidation_1-merror:0.332352\tvalidation_1-mlogloss:0.783128\n",
      "[82]\tvalidation_0-merror:0.332485\tvalidation_0-mlogloss:0.782419\tvalidation_1-merror:0.332352\tvalidation_1-mlogloss:0.783075\n",
      "[83]\tvalidation_0-merror:0.332485\tvalidation_0-mlogloss:0.782423\tvalidation_1-merror:0.332352\tvalidation_1-mlogloss:0.783116\n",
      "[84]\tvalidation_0-merror:0.332485\tvalidation_0-mlogloss:0.782414\tvalidation_1-merror:0.332352\tvalidation_1-mlogloss:0.783056\n",
      "[85]\tvalidation_0-merror:0.332485\tvalidation_0-mlogloss:0.782387\tvalidation_1-merror:0.332352\tvalidation_1-mlogloss:0.782996\n",
      "[86]\tvalidation_0-merror:0.332485\tvalidation_0-mlogloss:0.782381\tvalidation_1-merror:0.332352\tvalidation_1-mlogloss:0.782957\n",
      "[87]\tvalidation_0-merror:0.332485\tvalidation_0-mlogloss:0.782389\tvalidation_1-merror:0.332352\tvalidation_1-mlogloss:0.782912\n",
      "[88]\tvalidation_0-merror:0.332485\tvalidation_0-mlogloss:0.782242\tvalidation_1-merror:0.332352\tvalidation_1-mlogloss:0.782917\n",
      "[89]\tvalidation_0-merror:0.332527\tvalidation_0-mlogloss:0.782201\tvalidation_1-merror:0.332159\tvalidation_1-mlogloss:0.782876\n",
      "[90]\tvalidation_0-merror:0.332527\tvalidation_0-mlogloss:0.782191\tvalidation_1-merror:0.332159\tvalidation_1-mlogloss:0.782847\n",
      "[91]\tvalidation_0-merror:0.332527\tvalidation_0-mlogloss:0.782174\tvalidation_1-merror:0.332159\tvalidation_1-mlogloss:0.782842\n",
      "[92]\tvalidation_0-merror:0.332527\tvalidation_0-mlogloss:0.782099\tvalidation_1-merror:0.332159\tvalidation_1-mlogloss:0.782792\n",
      "[93]\tvalidation_0-merror:0.332527\tvalidation_0-mlogloss:0.782114\tvalidation_1-merror:0.332159\tvalidation_1-mlogloss:0.782775\n",
      "[94]\tvalidation_0-merror:0.332072\tvalidation_0-mlogloss:0.782126\tvalidation_1-merror:0.332449\tvalidation_1-mlogloss:0.782795\n",
      "[95]\tvalidation_0-merror:0.332072\tvalidation_0-mlogloss:0.782136\tvalidation_1-merror:0.332449\tvalidation_1-mlogloss:0.782787\n",
      "[96]\tvalidation_0-merror:0.332527\tvalidation_0-mlogloss:0.782098\tvalidation_1-merror:0.332159\tvalidation_1-mlogloss:0.782717\n",
      "[97]\tvalidation_0-merror:0.332527\tvalidation_0-mlogloss:0.782054\tvalidation_1-merror:0.332159\tvalidation_1-mlogloss:0.782734\n",
      "[98]\tvalidation_0-merror:0.332072\tvalidation_0-mlogloss:0.782096\tvalidation_1-merror:0.332449\tvalidation_1-mlogloss:0.782738\n",
      "[99]\tvalidation_0-merror:0.332072\tvalidation_0-mlogloss:0.782074\tvalidation_1-merror:0.332449\tvalidation_1-mlogloss:0.782711\n"
     ]
    },
    {
     "data": {
      "text/plain": [
       "XGBClassifier(objective='multi:softprob')"
      ]
     },
     "execution_count": 18,
     "metadata": {},
     "output_type": "execute_result"
    }
   ],
   "source": [
    "model = XGBClassifier()\n",
    "eval_set = [(X_train, y_train), (X_test, y_test)]\n",
    "model.fit(X_train, y_train, eval_metric=[\"merror\", \"mlogloss\"], eval_set=eval_set, verbose=True)"
   ]
  },
  {
   "cell_type": "code",
   "execution_count": 19,
   "metadata": {},
   "outputs": [
    {
     "data": {
      "image/png": "[encoded data removed]",
      "text/plain": [
       "<Figure size 432x288 with 1 Axes>"
      ]
     },
     "metadata": {
      "needs_background": "light"
     },
     "output_type": "display_data"
    }
   ],
   "source": [
    "results = model.evals_result()\n",
    "epochs = len(results['validation_0']['merror'])\n",
    "x_axis = range(0, epochs)\n",
    "# plot log loss\n",
    "fig, ax = plt.subplots()\n",
    "ax.plot(x_axis, results['validation_0']['mlogloss'], label='Train')\n",
    "ax.plot(x_axis, results['validation_1']['mlogloss'], label='Test')\n",
    "ax.legend()\n",
    "plt.ylabel('Log Loss')\n",
    "plt.title('XGBoost Log Loss')\n",
    "plt.show();"
   ]
  },
  {
   "cell_type": "code",
   "execution_count": 21,
   "metadata": {},
   "outputs": [
    {
     "data": {
      "image/png": "[encoded data removed]",
      "text/plain": [
       "<Figure size 432x288 with 1 Axes>"
      ]
     },
     "metadata": {
      "needs_background": "light"
     },
     "output_type": "display_data"
    }
   ],
   "source": [
    "fig, ax = plt.subplots()\n",
    "ax.plot(x_axis, results['validation_0']['merror'], label='Train')\n",
    "ax.plot(x_axis, results['validation_1']['merror'], label='Test')\n",
    "ax.legend()\n",
    "plt.ylabel('Classification Error')\n",
    "plt.title('XGBoost Classification Error')\n",
    "plt.show();"
   ]
  },
  {
   "cell_type": "code",
   "execution_count": null,
   "metadata": {},
   "outputs": [],
   "source": []
  }
 ],
 "metadata": {
  "kernelspec": {
   "display_name": "Python 3",
   "language": "python",
   "name": "python3"
  },
  "language_info": {
   "codemirror_mode": {
    "name": "ipython",
    "version": 3
   },
   "file_extension": ".py",
   "mimetype": "text/x-python",
   "name": "python",
   "nbconvert_exporter": "python",
   "pygments_lexer": "ipython3",
   "version": "3.6.7"
  }
 },
 "nbformat": 4,
 "nbformat_minor": 2
}
