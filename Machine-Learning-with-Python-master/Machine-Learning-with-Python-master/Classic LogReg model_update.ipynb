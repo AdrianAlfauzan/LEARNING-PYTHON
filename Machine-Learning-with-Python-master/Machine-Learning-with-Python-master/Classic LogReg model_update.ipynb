{
 "cells": [
  {
   "cell_type": "markdown",
   "metadata": {},
   "source": [
    "In this notebook, I used top 100 ranked hotels, filtered out avg nightly rate outliers, and used hotel names, fitted a classic LogReg model then predict_prob."
   ]
  },
  {
   "cell_type": "code",
   "execution_count": 131,
   "metadata": {},
   "outputs": [],
   "source": [
    "from sklearn.linear_model import LogisticRegression\n",
    "import warnings\n",
    "warnings.filterwarnings('ignore')\n",
    "\n",
    "from sklearn.model_selection import train_test_split\n",
    "from sklearn.preprocessing import MinMaxScaler"
   ]
  },
  {
   "cell_type": "code",
   "execution_count": 196,
   "metadata": {},
   "outputs": [],
   "source": [
    "df1 = pd.read_csv('2878240_2020_02_13.csv')\n",
    "df2 = pd.read_csv('2878258_2020_02_13.csv')\n",
    "\n",
    "df1['checkin_date'] = pd.to_datetime(df1['checkin_date'])\n",
    "df1['checkout_date'] = pd.to_datetime(df1['checkout_date'])\n",
    "df2['checkin_date'] = pd.to_datetime(df2['checkin_date'])\n",
    "df2['checkout_date'] = pd.to_datetime(df2['checkout_date'])\n",
    "df1.sort_values(by=['checkin_date'], inplace=True)\n",
    "df2.sort_values(by=['checkin_date'], inplace=True)\n",
    "frames = [df1, df2]\n",
    "df = pd.concat(frames)\n",
    "\n",
    "df = df.drop_duplicates(keep='first')\n",
    "df['length_of_stay'] = (df['checkout_date'] - df['checkin_date']).dt.days\n",
    "df['avg_nightly_rate'] = df['total_price'] / df['num_of_rooms'] / df['length_of_stay']\n",
    "\n",
    "df = df.loc[df['rank'] <= 100]\n",
    "df1 = df[['searchid', 'purchased', 'rank', 'avg_nightly_rate', 'hotel_name']]\n",
    "P = np.percentile(df1['avg_nightly_rate'], [5, 95])\n",
    "df1 = df1[(df1['avg_nightly_rate'] > P[0]) & (df1['avg_nightly_rate'] < P[1])]"
   ]
  },
  {
   "cell_type": "code",
   "execution_count": 197,
   "metadata": {},
   "outputs": [
    {
     "data": {
      "text/html": [
       "<div>\n",
       "<style scoped>\n",
       "    .dataframe tbody tr th:only-of-type {\n",
       "        vertical-align: middle;\n",
       "    }\n",
       "\n",
       "    .dataframe tbody tr th {\n",
       "        vertical-align: top;\n",
       "    }\n",
       "\n",
       "    .dataframe thead th {\n",
       "        text-align: right;\n",
       "    }\n",
       "</style>\n",
       "<table border=\"1\" class=\"dataframe\">\n",
       "  <thead>\n",
       "    <tr style=\"text-align: right;\">\n",
       "      <th></th>\n",
       "      <th>searchid</th>\n",
       "      <th>purchased</th>\n",
       "      <th>rank</th>\n",
       "      <th>avg_nightly_rate</th>\n",
       "      <th>hotel_name</th>\n",
       "    </tr>\n",
       "  </thead>\n",
       "  <tbody>\n",
       "    <tr>\n",
       "      <td>24425</td>\n",
       "      <td>7AB1B34B-3901-47FE-B4DF-0A5F3FC16164</td>\n",
       "      <td>False</td>\n",
       "      <td>49</td>\n",
       "      <td>247.0</td>\n",
       "      <td>Grand Hotel&amp; Suites Toronto</td>\n",
       "    </tr>\n",
       "    <tr>\n",
       "      <td>24424</td>\n",
       "      <td>7AB1B34B-3901-47FE-B4DF-0A5F3FC16164</td>\n",
       "      <td>False</td>\n",
       "      <td>48</td>\n",
       "      <td>239.0</td>\n",
       "      <td>Toronto Marriott City Centre Hotel</td>\n",
       "    </tr>\n",
       "    <tr>\n",
       "      <td>24423</td>\n",
       "      <td>7AB1B34B-3901-47FE-B4DF-0A5F3FC16164</td>\n",
       "      <td>False</td>\n",
       "      <td>47</td>\n",
       "      <td>216.0</td>\n",
       "      <td>The York Boutique Suites</td>\n",
       "    </tr>\n",
       "    <tr>\n",
       "      <td>24422</td>\n",
       "      <td>7AB1B34B-3901-47FE-B4DF-0A5F3FC16164</td>\n",
       "      <td>False</td>\n",
       "      <td>46</td>\n",
       "      <td>204.0</td>\n",
       "      <td>Aaira Suites</td>\n",
       "    </tr>\n",
       "    <tr>\n",
       "      <td>24421</td>\n",
       "      <td>7AB1B34B-3901-47FE-B4DF-0A5F3FC16164</td>\n",
       "      <td>False</td>\n",
       "      <td>45</td>\n",
       "      <td>189.0</td>\n",
       "      <td>Simply Comfort. Gorgeous Apartments in the Hea...</td>\n",
       "    </tr>\n",
       "  </tbody>\n",
       "</table>\n",
       "</div>"
      ],
      "text/plain": [
       "                                   searchid  purchased  rank  \\\n",
       "24425  7AB1B34B-3901-47FE-B4DF-0A5F3FC16164      False    49   \n",
       "24424  7AB1B34B-3901-47FE-B4DF-0A5F3FC16164      False    48   \n",
       "24423  7AB1B34B-3901-47FE-B4DF-0A5F3FC16164      False    47   \n",
       "24422  7AB1B34B-3901-47FE-B4DF-0A5F3FC16164      False    46   \n",
       "24421  7AB1B34B-3901-47FE-B4DF-0A5F3FC16164      False    45   \n",
       "\n",
       "       avg_nightly_rate                                         hotel_name  \n",
       "24425             247.0                        Grand Hotel& Suites Toronto  \n",
       "24424             239.0                 Toronto Marriott City Centre Hotel  \n",
       "24423             216.0                           The York Boutique Suites  \n",
       "24422             204.0                                       Aaira Suites  \n",
       "24421             189.0  Simply Comfort. Gorgeous Apartments in the Hea...  "
      ]
     },
     "execution_count": 197,
     "metadata": {},
     "output_type": "execute_result"
    }
   ],
   "source": [
    "df1.head()"
   ]
  },
  {
   "cell_type": "code",
   "execution_count": 198,
   "metadata": {},
   "outputs": [
    {
     "data": {
      "text/plain": [
       "False    0.986439\n",
       "True     0.013561\n",
       "Name: purchased, dtype: float64"
      ]
     },
     "execution_count": 198,
     "metadata": {},
     "output_type": "execute_result"
    }
   ],
   "source": [
    "df1['purchased'].value_counts() / df1.shape[0]"
   ]
  },
  {
   "cell_type": "markdown",
   "metadata": {},
   "source": [
    "Avg nightly rate seems to have a little bit negative effect on purchase, rank does not seem to have effect on purchase."
   ]
  },
  {
   "cell_type": "code",
   "execution_count": 134,
   "metadata": {},
   "outputs": [
    {
     "data": {
      "text/html": [
       "<div>\n",
       "<style scoped>\n",
       "    .dataframe tbody tr th:only-of-type {\n",
       "        vertical-align: middle;\n",
       "    }\n",
       "\n",
       "    .dataframe tbody tr th {\n",
       "        vertical-align: top;\n",
       "    }\n",
       "\n",
       "    .dataframe thead th {\n",
       "        text-align: right;\n",
       "    }\n",
       "</style>\n",
       "<table border=\"1\" class=\"dataframe\">\n",
       "  <thead>\n",
       "    <tr style=\"text-align: right;\">\n",
       "      <th></th>\n",
       "      <th>rank</th>\n",
       "      <th>avg_nightly_rate</th>\n",
       "    </tr>\n",
       "    <tr>\n",
       "      <th>purchased</th>\n",
       "      <th></th>\n",
       "      <th></th>\n",
       "    </tr>\n",
       "  </thead>\n",
       "  <tbody>\n",
       "    <tr>\n",
       "      <td>False</td>\n",
       "      <td>46.497938</td>\n",
       "      <td>304.596275</td>\n",
       "    </tr>\n",
       "    <tr>\n",
       "      <td>True</td>\n",
       "      <td>47.812500</td>\n",
       "      <td>282.140774</td>\n",
       "    </tr>\n",
       "  </tbody>\n",
       "</table>\n",
       "</div>"
      ],
      "text/plain": [
       "                rank  avg_nightly_rate\n",
       "purchased                             \n",
       "False      46.497938        304.596275\n",
       "True       47.812500        282.140774"
      ]
     },
     "execution_count": 134,
     "metadata": {},
     "output_type": "execute_result"
    }
   ],
   "source": [
    "df1.groupby('purchased').mean()"
   ]
  },
  {
   "cell_type": "markdown",
   "metadata": {},
   "source": [
    "Look at the hotels that have the highest avg purchase rate, none of them were positioned within top 20, and their prices were somewhere in between around 200 dollars and 500 dollars."
   ]
  },
  {
   "cell_type": "code",
   "execution_count": 135,
   "metadata": {},
   "outputs": [
    {
     "data": {
      "text/html": [
       "<div>\n",
       "<style scoped>\n",
       "    .dataframe tbody tr th:only-of-type {\n",
       "        vertical-align: middle;\n",
       "    }\n",
       "\n",
       "    .dataframe tbody tr th {\n",
       "        vertical-align: top;\n",
       "    }\n",
       "\n",
       "    .dataframe thead th {\n",
       "        text-align: right;\n",
       "    }\n",
       "</style>\n",
       "<table border=\"1\" class=\"dataframe\">\n",
       "  <thead>\n",
       "    <tr style=\"text-align: right;\">\n",
       "      <th></th>\n",
       "      <th>purchased</th>\n",
       "      <th>rank</th>\n",
       "      <th>avg_nightly_rate</th>\n",
       "    </tr>\n",
       "    <tr>\n",
       "      <th>hotel_name</th>\n",
       "      <th></th>\n",
       "      <th></th>\n",
       "      <th></th>\n",
       "    </tr>\n",
       "  </thead>\n",
       "  <tbody>\n",
       "    <tr>\n",
       "      <td>Luxury Penthouse In Downtown Toronto</td>\n",
       "      <td>0.250000</td>\n",
       "      <td>70.250000</td>\n",
       "      <td>548.607143</td>\n",
       "    </tr>\n",
       "    <tr>\n",
       "      <td>iResidence in Toronto- Vacation Home</td>\n",
       "      <td>0.166667</td>\n",
       "      <td>85.500000</td>\n",
       "      <td>390.314815</td>\n",
       "    </tr>\n",
       "    <tr>\n",
       "      <td>Elegant condo with stunning lake &amp; views</td>\n",
       "      <td>0.111111</td>\n",
       "      <td>51.777778</td>\n",
       "      <td>263.000000</td>\n",
       "    </tr>\n",
       "    <tr>\n",
       "      <td>Livingsuites Toronto - Front &amp; John</td>\n",
       "      <td>0.111111</td>\n",
       "      <td>27.555556</td>\n",
       "      <td>199.388889</td>\n",
       "    </tr>\n",
       "    <tr>\n",
       "      <td>QuickStay - Style in Yorkville (Yonge &amp; Bloor)</td>\n",
       "      <td>0.071429</td>\n",
       "      <td>87.357143</td>\n",
       "      <td>202.982143</td>\n",
       "    </tr>\n",
       "    <tr>\n",
       "      <td>Stunning Suites - Beautiful 2bdr Condo</td>\n",
       "      <td>0.064516</td>\n",
       "      <td>57.451613</td>\n",
       "      <td>347.912442</td>\n",
       "    </tr>\n",
       "    <tr>\n",
       "      <td>Galaxy Suites - Iceboat Toronto</td>\n",
       "      <td>0.062500</td>\n",
       "      <td>68.031250</td>\n",
       "      <td>204.269271</td>\n",
       "    </tr>\n",
       "    <tr>\n",
       "      <td>Rooms in Downtown Heritage House</td>\n",
       "      <td>0.058824</td>\n",
       "      <td>71.764706</td>\n",
       "      <td>177.558824</td>\n",
       "    </tr>\n",
       "    <tr>\n",
       "      <td>Sky Suites Yorkville</td>\n",
       "      <td>0.055556</td>\n",
       "      <td>78.277778</td>\n",
       "      <td>425.287478</td>\n",
       "    </tr>\n",
       "    <tr>\n",
       "      <td>HomeHop - Ice</td>\n",
       "      <td>0.052632</td>\n",
       "      <td>68.000000</td>\n",
       "      <td>426.658897</td>\n",
       "    </tr>\n",
       "    <tr>\n",
       "      <td>Livingsuites Toronto - 20 Blue Jays Way</td>\n",
       "      <td>0.050000</td>\n",
       "      <td>62.700000</td>\n",
       "      <td>234.050000</td>\n",
       "    </tr>\n",
       "    <tr>\n",
       "      <td>Galaxy Suites - City View Toronto</td>\n",
       "      <td>0.047619</td>\n",
       "      <td>66.952381</td>\n",
       "      <td>192.750000</td>\n",
       "    </tr>\n",
       "    <tr>\n",
       "      <td>QuickStay - Gorgeous 2-Bedroom in the Heart of Downtown</td>\n",
       "      <td>0.045455</td>\n",
       "      <td>31.318182</td>\n",
       "      <td>280.757576</td>\n",
       "    </tr>\n",
       "    <tr>\n",
       "      <td>1 Bedroom Flat in Spadina/fort York</td>\n",
       "      <td>0.040000</td>\n",
       "      <td>81.760000</td>\n",
       "      <td>183.139333</td>\n",
       "    </tr>\n",
       "    <tr>\n",
       "      <td>elegant condo with panoramic views</td>\n",
       "      <td>0.038462</td>\n",
       "      <td>79.192308</td>\n",
       "      <td>304.666667</td>\n",
       "    </tr>\n",
       "    <tr>\n",
       "      <td>QuickStay - Sunlit Luxury Loft on King West</td>\n",
       "      <td>0.037037</td>\n",
       "      <td>81.777778</td>\n",
       "      <td>372.339506</td>\n",
       "    </tr>\n",
       "    <tr>\n",
       "      <td>Queen St West Designer Executive Suites</td>\n",
       "      <td>0.035714</td>\n",
       "      <td>74.928571</td>\n",
       "      <td>334.226190</td>\n",
       "    </tr>\n",
       "    <tr>\n",
       "      <td>West House by Elevate Rooms</td>\n",
       "      <td>0.035714</td>\n",
       "      <td>63.928571</td>\n",
       "      <td>231.075397</td>\n",
       "    </tr>\n",
       "    <tr>\n",
       "      <td>Noel Suites - Air Canada Centre</td>\n",
       "      <td>0.034483</td>\n",
       "      <td>29.827586</td>\n",
       "      <td>247.321648</td>\n",
       "    </tr>\n",
       "    <tr>\n",
       "      <td>Diamond Vacation Homes - York Street</td>\n",
       "      <td>0.034483</td>\n",
       "      <td>33.862069</td>\n",
       "      <td>268.574713</td>\n",
       "    </tr>\n",
       "  </tbody>\n",
       "</table>\n",
       "</div>"
      ],
      "text/plain": [
       "                                                    purchased       rank  \\\n",
       "hotel_name                                                                 \n",
       "Luxury Penthouse In Downtown Toronto                 0.250000  70.250000   \n",
       "iResidence in Toronto- Vacation Home                 0.166667  85.500000   \n",
       "Elegant condo with stunning lake & views             0.111111  51.777778   \n",
       "Livingsuites Toronto - Front & John                  0.111111  27.555556   \n",
       "QuickStay - Style in Yorkville (Yonge & Bloor)       0.071429  87.357143   \n",
       "Stunning Suites - Beautiful 2bdr Condo               0.064516  57.451613   \n",
       "Galaxy Suites - Iceboat Toronto                      0.062500  68.031250   \n",
       "Rooms in Downtown Heritage House                     0.058824  71.764706   \n",
       "Sky Suites Yorkville                                 0.055556  78.277778   \n",
       "HomeHop - Ice                                        0.052632  68.000000   \n",
       "Livingsuites Toronto - 20 Blue Jays Way              0.050000  62.700000   \n",
       "Galaxy Suites - City View Toronto                    0.047619  66.952381   \n",
       "QuickStay - Gorgeous 2-Bedroom in the Heart of ...   0.045455  31.318182   \n",
       "1 Bedroom Flat in Spadina/fort York                  0.040000  81.760000   \n",
       "elegant condo with panoramic views                   0.038462  79.192308   \n",
       "QuickStay - Sunlit Luxury Loft on King West          0.037037  81.777778   \n",
       "Queen St West Designer Executive Suites              0.035714  74.928571   \n",
       "West House by Elevate Rooms                          0.035714  63.928571   \n",
       "Noel Suites - Air Canada Centre                      0.034483  29.827586   \n",
       "Diamond Vacation Homes - York Street                 0.034483  33.862069   \n",
       "\n",
       "                                                    avg_nightly_rate  \n",
       "hotel_name                                                            \n",
       "Luxury Penthouse In Downtown Toronto                      548.607143  \n",
       "iResidence in Toronto- Vacation Home                      390.314815  \n",
       "Elegant condo with stunning lake & views                  263.000000  \n",
       "Livingsuites Toronto - Front & John                       199.388889  \n",
       "QuickStay - Style in Yorkville (Yonge & Bloor)            202.982143  \n",
       "Stunning Suites - Beautiful 2bdr Condo                    347.912442  \n",
       "Galaxy Suites - Iceboat Toronto                           204.269271  \n",
       "Rooms in Downtown Heritage House                          177.558824  \n",
       "Sky Suites Yorkville                                      425.287478  \n",
       "HomeHop - Ice                                             426.658897  \n",
       "Livingsuites Toronto - 20 Blue Jays Way                   234.050000  \n",
       "Galaxy Suites - City View Toronto                         192.750000  \n",
       "QuickStay - Gorgeous 2-Bedroom in the Heart of ...        280.757576  \n",
       "1 Bedroom Flat in Spadina/fort York                       183.139333  \n",
       "elegant condo with panoramic views                        304.666667  \n",
       "QuickStay - Sunlit Luxury Loft on King West               372.339506  \n",
       "Queen St West Designer Executive Suites                   334.226190  \n",
       "West House by Elevate Rooms                               231.075397  \n",
       "Noel Suites - Air Canada Centre                           247.321648  \n",
       "Diamond Vacation Homes - York Street                      268.574713  "
      ]
     },
     "execution_count": 135,
     "metadata": {},
     "output_type": "execute_result"
    }
   ],
   "source": [
    "df1.groupby('hotel_name').mean().sort_values('purchased', ascending=False).head(20)"
   ]
  },
  {
   "cell_type": "markdown",
   "metadata": {},
   "source": [
    "According to the above, the number 1 purchased hotel is \"Luxury Penthouse In Downtown Toronto\". The reason is that this hotel was booked once after only 4 searches. We run into the same problems that described in Wayfair paper, that is, if we just simply compare purchase rate between two properties, we will run into assumption that “Luxury Penthouse In Downtown Toronto” is the highest purchased hotel, while in fact, \"Luxury Penthouse In Downtown Toronto\" just got lucky."
   ]
  },
  {
   "cell_type": "code",
   "execution_count": 121,
   "metadata": {},
   "outputs": [
    {
     "data": {
      "text/plain": [
       "False    3\n",
       "True     1\n",
       "Name: purchased, dtype: int64"
      ]
     },
     "execution_count": 121,
     "metadata": {},
     "output_type": "execute_result"
    }
   ],
   "source": [
    "df1.loc[df1['hotel_name'] == 'Luxury Penthouse In Downtown Toronto']['purchased'].value_counts()"
   ]
  },
  {
   "cell_type": "code",
   "execution_count": 123,
   "metadata": {},
   "outputs": [
    {
     "data": {
      "text/plain": [
       "False    42\n",
       "True      2\n",
       "Name: purchased, dtype: int64"
      ]
     },
     "execution_count": 123,
     "metadata": {},
     "output_type": "execute_result"
    }
   ],
   "source": [
    "df1.loc[df1['hotel_name'] == 'QuickStay - Gorgeous 2-Bedroom in the Heart of Downtown']['purchased'].value_counts()"
   ]
  },
  {
   "cell_type": "markdown",
   "metadata": {},
   "source": [
    "An illustration of the power of position effects for the above 20 hotels - no effect."
   ]
  },
  {
   "cell_type": "code",
   "execution_count": 124,
   "metadata": {},
   "outputs": [
    {
     "data": {
      "image/png": "[encoded data removed]",
      "text/plain": [
       "<Figure size 432x288 with 1 Axes>"
      ]
     },
     "metadata": {
      "needs_background": "light"
     },
     "output_type": "display_data"
    }
   ],
   "source": [
    "sns.lineplot(x=\"rank\", y=\"purchased\", data=df1.groupby('hotel_name').mean().sort_values('purchased', ascending=False).head(20))\n",
    "plt.xlabel('position on page')\n",
    "plt.ylabel('average purchase rate');"
   ]
  },
  {
   "cell_type": "markdown",
   "metadata": {},
   "source": [
    "I was expecting something like \"purchase rate goes down when position goes down\". Note, the position number higher means goes down on the page. In another word, if this hotel is positioned down on the page, it will likely to sell less. This is not the case here."
   ]
  },
  {
   "cell_type": "code",
   "execution_count": 137,
   "metadata": {},
   "outputs": [],
   "source": [
    "df_new = df1.groupby('hotel_name').mean().sort_values('purchased', ascending=False)\n",
    "df_new.reset_index(inplace=True)\n",
    "df_new.loc[df_new['hotel_name'].str.contains('Hotel'), 'category'] = 'hotel'"
   ]
  },
  {
   "cell_type": "code",
   "execution_count": 155,
   "metadata": {},
   "outputs": [],
   "source": [
    "df_new.to_csv('df_new.csv', encoding='utf-8', index=False)"
   ]
  },
  {
   "cell_type": "code",
   "execution_count": 166,
   "metadata": {},
   "outputs": [],
   "source": [
    "df_new = pd.read_csv('df_new.csv')"
   ]
  },
  {
   "cell_type": "code",
   "execution_count": 177,
   "metadata": {},
   "outputs": [
    {
     "data": {
      "text/plain": [
       "<matplotlib.legend.Legend at 0x7fe6b3b3ad30>"
      ]
     },
     "execution_count": 177,
     "metadata": {},
     "output_type": "execute_result"
    },
    {
     "data": {
      "image/png": "[encoded data removed]",
      "text/plain": [
       "<Figure size 432x288 with 1 Axes>"
      ]
     },
     "metadata": {
      "needs_background": "light"
     },
     "output_type": "display_data"
    }
   ],
   "source": [
    "sns.distplot(df_new.loc[df_new['category'] == 'apartment']['purchased'], hist=False, label='apartment')\n",
    "sns.distplot(df_new.loc[df_new['category'] == 'hotel']['purchased'], hist=False, label='hotel')\n",
    "plt.legend()\n",
    "#plt.xlim(0,0.10);"
   ]
  },
  {
   "cell_type": "code",
   "execution_count": 203,
   "metadata": {},
   "outputs": [
    {
     "data": {
      "image/png": "[encoded data removed]",
      "text/plain": [
       "<Figure size 720x360 with 1 Axes>"
      ]
     },
     "metadata": {
      "needs_background": "light"
     },
     "output_type": "display_data"
    }
   ],
   "source": [
    "apt = df_new.loc[df_new['category'] == 'apartment', 'purchased']\n",
    "hotel = df_new.loc[df_new['category'] == 'hotel', 'purchased']\n",
    "fig, ax = plt.subplots(figsize=(10,5))\n",
    "ax.hist(apt, color='g', alpha=1.0, bins=100, range = [0, 0.20],\n",
    "       label='apartment')\n",
    "ax.hist(hotel, color='y', alpha=0.7, bins=100, range = [0, 0.20],\n",
    "       label='hotel')\n",
    "plt.xlabel('purchase rate', fontsize=12)\n",
    "plt.ylabel('frequency', fontsize=12)\n",
    "plt.title('Purchase rate distribution by accommodation type')\n",
    "plt.tick_params(labelsize=12)\n",
    "plt.xlim(0, 0.050)\n",
    "plt.legend()\n",
    "plt.show();"
   ]
  },
  {
   "cell_type": "markdown",
   "metadata": {},
   "source": [
    "The average purchase rate for apartment is 0.013 (1.3%), the average purchase rate for hotel is 0.005 (0.5%). This means an apartment suite is more than twice likely to be purchased, vs. a hotel room, in Toronto."
   ]
  },
  {
   "cell_type": "code",
   "execution_count": 172,
   "metadata": {},
   "outputs": [
    {
     "data": {
      "text/plain": [
       "count    269.000000\n",
       "mean       0.013220\n",
       "std        0.023584\n",
       "min        0.000000\n",
       "25%        0.000000\n",
       "50%        0.009302\n",
       "75%        0.018519\n",
       "max        0.250000\n",
       "Name: purchased, dtype: float64"
      ]
     },
     "execution_count": 172,
     "metadata": {},
     "output_type": "execute_result"
    }
   ],
   "source": [
    "df_new.loc[df_new['category'] == 'apartment']['purchased'].describe()"
   ]
  },
  {
   "cell_type": "code",
   "execution_count": 173,
   "metadata": {},
   "outputs": [
    {
     "data": {
      "text/plain": [
       "count    172.000000\n",
       "mean       0.005266\n",
       "std        0.007014\n",
       "min        0.000000\n",
       "25%        0.000000\n",
       "50%        0.000000\n",
       "75%        0.011809\n",
       "max        0.024590\n",
       "Name: purchased, dtype: float64"
      ]
     },
     "execution_count": 173,
     "metadata": {},
     "output_type": "execute_result"
    }
   ],
   "source": [
    "df_new.loc[df_new['category'] == 'hotel']['purchased'].describe()"
   ]
  },
  {
   "cell_type": "code",
   "execution_count": 130,
   "metadata": {},
   "outputs": [
    {
     "data": {
      "image/png": "[encoded data removed]",
      "text/plain": [
       "<Figure size 432x288 with 1 Axes>"
      ]
     },
     "metadata": {
      "needs_background": "light"
     },
     "output_type": "display_data"
    }
   ],
   "source": [
    "sns.lineplot(x=\"avg_nightly_rate\", y=\"purchased\", data=df1.groupby('hotel_name').mean().sort_values('avg_nightly_rate', ascending=False).head(20))\n",
    "plt.xlabel('avg nightly rate')\n",
    "plt.ylabel('avg purchase rate');"
   ]
  },
  {
   "cell_type": "code",
   "execution_count": 87,
   "metadata": {},
   "outputs": [
    {
     "data": {
      "image/png": "[encoded data removed]",
      "text/plain": [
       "<Figure size 432x288 with 1 Axes>"
      ]
     },
     "metadata": {
      "needs_background": "light"
     },
     "output_type": "display_data"
    }
   ],
   "source": [
    "sns.distplot(df1['avg_nightly_rate'], rug=True, hist=False)\n",
    "plt.title('Distribution of avg nightly rate');"
   ]
  },
  {
   "cell_type": "code",
   "execution_count": 88,
   "metadata": {},
   "outputs": [
    {
     "data": {
      "image/png": "[encoded data removed]",
      "text/plain": [
       "<Figure size 432x288 with 1 Axes>"
      ]
     },
     "metadata": {
      "needs_background": "light"
     },
     "output_type": "display_data"
    }
   ],
   "source": [
    "sns.distplot(df1['rank'], rug=True, hist=False)\n",
    "plt.title('Distribution of position');"
   ]
  },
  {
   "cell_type": "markdown",
   "metadata": {},
   "source": [
    "Fit a classic logistic regression model."
   ]
  },
  {
   "cell_type": "code",
   "execution_count": 89,
   "metadata": {},
   "outputs": [],
   "source": [
    "df1 = pd.get_dummies(df1, columns=['hotel_name'])\n",
    "X = df1.drop('purchased', axis=1)\n",
    "y = df1.purchased\n",
    "scaler = MinMaxScaler()\n",
    "\n",
    "X_train, X_test, y_train, y_test = train_test_split(X, y, stratify=y, test_size=0.3, random_state = 0)"
   ]
  },
  {
   "cell_type": "code",
   "execution_count": 90,
   "metadata": {},
   "outputs": [],
   "source": [
    "df_result = X_test.copy()"
   ]
  },
  {
   "cell_type": "code",
   "execution_count": 91,
   "metadata": {},
   "outputs": [],
   "source": [
    "X_train.drop('searchid', axis=1, inplace=True)\n",
    "X_test.drop('searchid', axis=1, inplace=True)\n",
    "\n",
    "X_train = scaler.fit_transform(X_train)\n",
    "X_test = scaler.transform(X_test)\n",
    "logReg = LogisticRegression().fit(X_train, y_train)"
   ]
  },
  {
   "cell_type": "markdown",
   "metadata": {},
   "source": [
    "Probability estimates, for the True class."
   ]
  },
  {
   "cell_type": "code",
   "execution_count": 92,
   "metadata": {},
   "outputs": [],
   "source": [
    "df_result['probability'] = logReg.predict_proba(X_test)[:,1]"
   ]
  },
  {
   "cell_type": "markdown",
   "metadata": {},
   "source": [
    "Re-construct dummies back to hotel name variable. "
   ]
  },
  {
   "cell_type": "code",
   "execution_count": 95,
   "metadata": {},
   "outputs": [],
   "source": [
    "x = df_result.ix[:, 3:444].stack()\n",
    "x = pd.Series(pd.Categorical(x[x!=0].index.get_level_values(1)))\n",
    "x = pd.DataFrame({'hotel_name':x.values})\n",
    "x['hotel_name'] = x['hotel_name'].map(lambda x: x.lstrip('hotel_name_'))"
   ]
  },
  {
   "cell_type": "code",
   "execution_count": 96,
   "metadata": {},
   "outputs": [],
   "source": [
    "df_result = df_result[['searchid', 'rank', 'avg_nightly_rate', 'probability']].reset_index()\n",
    "df_result.drop('index', axis=1, inplace=True)"
   ]
  },
  {
   "cell_type": "markdown",
   "metadata": {},
   "source": [
    "Sort probabilities for the test set."
   ]
  },
  {
   "cell_type": "code",
   "execution_count": 108,
   "metadata": {},
   "outputs": [
    {
     "data": {
      "text/html": [
       "<div>\n",
       "<style scoped>\n",
       "    .dataframe tbody tr th:only-of-type {\n",
       "        vertical-align: middle;\n",
       "    }\n",
       "\n",
       "    .dataframe tbody tr th {\n",
       "        vertical-align: top;\n",
       "    }\n",
       "\n",
       "    .dataframe thead th {\n",
       "        text-align: right;\n",
       "    }\n",
       "</style>\n",
       "<table border=\"1\" class=\"dataframe\">\n",
       "  <thead>\n",
       "    <tr style=\"text-align: right;\">\n",
       "      <th></th>\n",
       "      <th>searchid</th>\n",
       "      <th>rank</th>\n",
       "      <th>avg_nightly_rate</th>\n",
       "      <th>probability</th>\n",
       "      <th>hotel_name</th>\n",
       "    </tr>\n",
       "  </thead>\n",
       "  <tbody>\n",
       "    <tr>\n",
       "      <td>9521</td>\n",
       "      <td>3BCF0DC0-A00B-4A29-B962-D7A6CD955396</td>\n",
       "      <td>25</td>\n",
       "      <td>179.500000</td>\n",
       "      <td>0.057441</td>\n",
       "      <td>Livingsuites Toronto - Front &amp; John</td>\n",
       "    </tr>\n",
       "    <tr>\n",
       "      <td>2260</td>\n",
       "      <td>623199FE-640A-43D5-8A14-240717026444</td>\n",
       "      <td>25</td>\n",
       "      <td>179.500000</td>\n",
       "      <td>0.057441</td>\n",
       "      <td>Livingsuites Toronto - Front &amp; John</td>\n",
       "    </tr>\n",
       "    <tr>\n",
       "      <td>11853</td>\n",
       "      <td>7AE84D0F-B3E8-4065-9978-2883B1EA61D2</td>\n",
       "      <td>25</td>\n",
       "      <td>192.000000</td>\n",
       "      <td>0.055300</td>\n",
       "      <td>Livingsuites Toronto - Front &amp; John</td>\n",
       "    </tr>\n",
       "    <tr>\n",
       "      <td>2982</td>\n",
       "      <td>1B9149FC-53AF-47DC-997F-A13A9A8A6326</td>\n",
       "      <td>22</td>\n",
       "      <td>209.333333</td>\n",
       "      <td>0.052189</td>\n",
       "      <td>Livingsuites Toronto - Front &amp; John</td>\n",
       "    </tr>\n",
       "    <tr>\n",
       "      <td>10310</td>\n",
       "      <td>7BEC0985-CBA9-447C-AA6B-288D6965B351</td>\n",
       "      <td>27</td>\n",
       "      <td>163.250000</td>\n",
       "      <td>0.045482</td>\n",
       "      <td>QuickStay - Gorgeous 2-Bedroom in the Heart of...</td>\n",
       "    </tr>\n",
       "    <tr>\n",
       "      <td>7703</td>\n",
       "      <td>DEBC69E0-DC75-4340-9058-9565FD7731E5</td>\n",
       "      <td>39</td>\n",
       "      <td>208.666667</td>\n",
       "      <td>0.044252</td>\n",
       "      <td>Sarkar Suites - Blue Jays Way</td>\n",
       "    </tr>\n",
       "    <tr>\n",
       "      <td>4552</td>\n",
       "      <td>1E908602-1831-4CF0-B3FA-9F782628957C</td>\n",
       "      <td>29</td>\n",
       "      <td>149.000000</td>\n",
       "      <td>0.043888</td>\n",
       "      <td>Sarkar Suites - Maple Leaf Square</td>\n",
       "    </tr>\n",
       "    <tr>\n",
       "      <td>937</td>\n",
       "      <td>201102BC-849B-4A4B-8D8F-02A603B08EDA</td>\n",
       "      <td>47</td>\n",
       "      <td>227.000000</td>\n",
       "      <td>0.042400</td>\n",
       "      <td>Sarkar Suites - Blue Jays Way</td>\n",
       "    </tr>\n",
       "    <tr>\n",
       "      <td>2338</td>\n",
       "      <td>509C50E0-A72B-45FA-9997-CEA757D83996</td>\n",
       "      <td>57</td>\n",
       "      <td>241.500000</td>\n",
       "      <td>0.042154</td>\n",
       "      <td>CN Tower View Design apart 3BD-2BA DT</td>\n",
       "    </tr>\n",
       "    <tr>\n",
       "      <td>384</td>\n",
       "      <td>2A39CF6E-8B8A-46FD-8BBA-D135E5B2F03B</td>\n",
       "      <td>23</td>\n",
       "      <td>160.666667</td>\n",
       "      <td>0.041904</td>\n",
       "      <td>Sarkar Suites - Maple Leaf Square</td>\n",
       "    </tr>\n",
       "    <tr>\n",
       "      <td>544</td>\n",
       "      <td>50DDDA38-2FF8-44C9-82AC-74AB0FFA2DC3</td>\n",
       "      <td>91</td>\n",
       "      <td>153.666667</td>\n",
       "      <td>0.041883</td>\n",
       "      <td>Simply Comfort. Modern Downtown Apartment</td>\n",
       "    </tr>\n",
       "    <tr>\n",
       "      <td>11065</td>\n",
       "      <td>A6ADC02C-ED7F-4A3C-A724-36A64BE21306</td>\n",
       "      <td>39</td>\n",
       "      <td>228.000000</td>\n",
       "      <td>0.041692</td>\n",
       "      <td>Sarkar Suites - Blue Jays Way</td>\n",
       "    </tr>\n",
       "    <tr>\n",
       "      <td>5080</td>\n",
       "      <td>1E908602-1831-4CF0-B3FA-9F782628957C</td>\n",
       "      <td>99</td>\n",
       "      <td>139.333333</td>\n",
       "      <td>0.041210</td>\n",
       "      <td>QuickStay - Beautiful Toronto Condo (City Views)</td>\n",
       "    </tr>\n",
       "    <tr>\n",
       "      <td>3575</td>\n",
       "      <td>C690E16A-6108-4B16-9CFE-E2A1A1FCEE7E</td>\n",
       "      <td>27</td>\n",
       "      <td>175.000000</td>\n",
       "      <td>0.040367</td>\n",
       "      <td>Sarkar Suites - Maple Leaf Square</td>\n",
       "    </tr>\n",
       "    <tr>\n",
       "      <td>2178</td>\n",
       "      <td>B0710740-B143-4143-A929-558D76F2F742</td>\n",
       "      <td>49</td>\n",
       "      <td>246.666667</td>\n",
       "      <td>0.040040</td>\n",
       "      <td>Sarkar Suites - Blue Jays Way</td>\n",
       "    </tr>\n",
       "    <tr>\n",
       "      <td>5396</td>\n",
       "      <td>578FF0C7-0FF2-4C5D-8765-129E4F286E07</td>\n",
       "      <td>34</td>\n",
       "      <td>213.666667</td>\n",
       "      <td>0.039405</td>\n",
       "      <td>QuickStay - Gorgeous 2-Bedroom in the Heart of...</td>\n",
       "    </tr>\n",
       "    <tr>\n",
       "      <td>6058</td>\n",
       "      <td>EAF56532-5031-4F45-AB53-0B5C21963E89</td>\n",
       "      <td>78</td>\n",
       "      <td>268.200000</td>\n",
       "      <td>0.039380</td>\n",
       "      <td>Sarkar Suites - Blue Jays Way</td>\n",
       "    </tr>\n",
       "    <tr>\n",
       "      <td>9077</td>\n",
       "      <td>4CFB9FB5-8EA9-4228-B190-C01E24F95A3A</td>\n",
       "      <td>28</td>\n",
       "      <td>184.000000</td>\n",
       "      <td>0.039327</td>\n",
       "      <td>Sarkar Suites - Maple Leaf Square</td>\n",
       "    </tr>\n",
       "    <tr>\n",
       "      <td>2445</td>\n",
       "      <td>5C16BC70-1E3E-471D-85AA-224E81C1121A</td>\n",
       "      <td>26</td>\n",
       "      <td>183.000000</td>\n",
       "      <td>0.039313</td>\n",
       "      <td>Sarkar Suites - Maple Leaf Square</td>\n",
       "    </tr>\n",
       "    <tr>\n",
       "      <td>9332</td>\n",
       "      <td>F4B50DBB-A59F-4D19-AD95-4C12B78810C8</td>\n",
       "      <td>100</td>\n",
       "      <td>196.000000</td>\n",
       "      <td>0.038696</td>\n",
       "      <td>QuickStay - Style in Yorkville (Yonge &amp; Bloor)</td>\n",
       "    </tr>\n",
       "  </tbody>\n",
       "</table>\n",
       "</div>"
      ],
      "text/plain": [
       "                                   searchid  rank  avg_nightly_rate  \\\n",
       "9521   3BCF0DC0-A00B-4A29-B962-D7A6CD955396    25        179.500000   \n",
       "2260   623199FE-640A-43D5-8A14-240717026444    25        179.500000   \n",
       "11853  7AE84D0F-B3E8-4065-9978-2883B1EA61D2    25        192.000000   \n",
       "2982   1B9149FC-53AF-47DC-997F-A13A9A8A6326    22        209.333333   \n",
       "10310  7BEC0985-CBA9-447C-AA6B-288D6965B351    27        163.250000   \n",
       "7703   DEBC69E0-DC75-4340-9058-9565FD7731E5    39        208.666667   \n",
       "4552   1E908602-1831-4CF0-B3FA-9F782628957C    29        149.000000   \n",
       "937    201102BC-849B-4A4B-8D8F-02A603B08EDA    47        227.000000   \n",
       "2338   509C50E0-A72B-45FA-9997-CEA757D83996    57        241.500000   \n",
       "384    2A39CF6E-8B8A-46FD-8BBA-D135E5B2F03B    23        160.666667   \n",
       "544    50DDDA38-2FF8-44C9-82AC-74AB0FFA2DC3    91        153.666667   \n",
       "11065  A6ADC02C-ED7F-4A3C-A724-36A64BE21306    39        228.000000   \n",
       "5080   1E908602-1831-4CF0-B3FA-9F782628957C    99        139.333333   \n",
       "3575   C690E16A-6108-4B16-9CFE-E2A1A1FCEE7E    27        175.000000   \n",
       "2178   B0710740-B143-4143-A929-558D76F2F742    49        246.666667   \n",
       "5396   578FF0C7-0FF2-4C5D-8765-129E4F286E07    34        213.666667   \n",
       "6058   EAF56532-5031-4F45-AB53-0B5C21963E89    78        268.200000   \n",
       "9077   4CFB9FB5-8EA9-4228-B190-C01E24F95A3A    28        184.000000   \n",
       "2445   5C16BC70-1E3E-471D-85AA-224E81C1121A    26        183.000000   \n",
       "9332   F4B50DBB-A59F-4D19-AD95-4C12B78810C8   100        196.000000   \n",
       "\n",
       "       probability                                         hotel_name  \n",
       "9521      0.057441                Livingsuites Toronto - Front & John  \n",
       "2260      0.057441                Livingsuites Toronto - Front & John  \n",
       "11853     0.055300                Livingsuites Toronto - Front & John  \n",
       "2982      0.052189                Livingsuites Toronto - Front & John  \n",
       "10310     0.045482  QuickStay - Gorgeous 2-Bedroom in the Heart of...  \n",
       "7703      0.044252                      Sarkar Suites - Blue Jays Way  \n",
       "4552      0.043888                  Sarkar Suites - Maple Leaf Square  \n",
       "937       0.042400                      Sarkar Suites - Blue Jays Way  \n",
       "2338      0.042154              CN Tower View Design apart 3BD-2BA DT  \n",
       "384       0.041904                  Sarkar Suites - Maple Leaf Square  \n",
       "544       0.041883          Simply Comfort. Modern Downtown Apartment  \n",
       "11065     0.041692                      Sarkar Suites - Blue Jays Way  \n",
       "5080      0.041210   QuickStay - Beautiful Toronto Condo (City Views)  \n",
       "3575      0.040367                  Sarkar Suites - Maple Leaf Square  \n",
       "2178      0.040040                      Sarkar Suites - Blue Jays Way  \n",
       "5396      0.039405  QuickStay - Gorgeous 2-Bedroom in the Heart of...  \n",
       "6058      0.039380                      Sarkar Suites - Blue Jays Way  \n",
       "9077      0.039327                  Sarkar Suites - Maple Leaf Square  \n",
       "2445      0.039313                  Sarkar Suites - Maple Leaf Square  \n",
       "9332      0.038696     QuickStay - Style in Yorkville (Yonge & Bloor)  "
      ]
     },
     "execution_count": 108,
     "metadata": {},
     "output_type": "execute_result"
    }
   ],
   "source": [
    "df_result.merge(x, left_index=True, right_index=True).sort_values('probability', ascending=False).head(20)"
   ]
  },
  {
   "cell_type": "markdown",
   "metadata": {},
   "source": [
    "It seems that PC users come to PC website, when come to book hotels, they know what they want and it does not take them long to make decision, and they make relative quick decisions on hotel bookings, and most likely these bookings are toward condo or appartment suits. \n",
    "\n",
    "What does it mean when we say \"a very good hotel\"? It depends. For many of us, Hilton Toronto is a very good hotel and I would be happy to see it on the top position of the page. But if most of PC customers are interested in apartment suites, they don't need to be persuaded and they know (more or less) on what they want. So, why not position apartment suites on the top positions of the page?"
   ]
  },
  {
   "cell_type": "code",
   "execution_count": null,
   "metadata": {},
   "outputs": [],
   "source": []
  }
 ],
 "metadata": {
  "kernelspec": {
   "display_name": "Python 3",
   "language": "python",
   "name": "python3"
  },
  "language_info": {
   "codemirror_mode": {
    "name": "ipython",
    "version": 3
   },
   "file_extension": ".py",
   "mimetype": "text/x-python",
   "name": "python",
   "nbconvert_exporter": "python",
   "pygments_lexer": "ipython3",
   "version": "3.6.7"
  }
 },
 "nbformat": 4,
 "nbformat_minor": 2
}
